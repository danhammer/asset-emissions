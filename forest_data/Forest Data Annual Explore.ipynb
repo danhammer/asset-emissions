{
 "cells": [
  {
   "cell_type": "markdown",
   "metadata": {},
   "source": [
    "# Forest Data Annual Explore\n",
    "**Goal:** We have NASA JPL data on forests going back for the past 20 years. This notebook pulls all of those together to create a cleaned up tidy dataset to create plots over time."
   ]
  },
  {
   "cell_type": "code",
   "execution_count": 104,
   "metadata": {},
   "outputs": [],
   "source": [
    "import pandas as pd\n",
    "import plotly.express as px\n",
    "import plotly.graph_objects as go\n",
    "from plotly.subplots import make_subplots\n",
    "import plotly.io as pio\n",
    "import statsmodels\n",
    "import numpy as np\n",
    "import geopandas as gpd\n",
    "from keplergl import KeplerGl\n",
    "import os\n",
    "\n",
    "pd.options.mode.chained_assignment = None  # default='warn'\n",
    "\n",
    "from IPython.display import Markdown, display\n",
    "def printmd(string):\n",
    "    display(Markdown(string))\n",
    "\n",
    "from IPython.core.interactiveshell import InteractiveShell\n",
    "InteractiveShell.ast_node_interactivity = \"all\"\n",
    "pio.templates.default = \"none\"\n",
    "%config InlineBackend.figure_format ='retina'"
   ]
  },
  {
   "cell_type": "markdown",
   "metadata": {},
   "source": [
    "## Data Read-in and Cleaning\n",
    "Data exists in this google drive link: https://drive.google.com/drive/folders/1wvgpM55g77-bHRfHJAE_HPfHZLIkII1f\n",
    "\n",
    "There are datasets of two different granularities: country and province level forest emissions, which we will read into separate dataframes."
   ]
  },
  {
   "cell_type": "code",
   "execution_count": 13,
   "metadata": {},
   "outputs": [],
   "source": [
    "# Read in all files in data directory, which is downloaded locally in repo to avoid messing with Google Drive APIs\n",
    "directory = 'data'\n",
    "full_list = os.listdir(directory)\n",
    "country_list = [file for file in full_list if file[:6] == 'gadm00']\n",
    "province_list = [file for file in full_list if file[:6] == 'gadm01']"
   ]
  },
  {
   "cell_type": "code",
   "execution_count": 69,
   "metadata": {},
   "outputs": [
    {
     "data": {
      "text/plain": [
       "19"
      ]
     },
     "execution_count": 69,
     "metadata": {},
     "output_type": "execute_result"
    },
    {
     "data": {
      "text/html": [
       "<div>\n",
       "<style scoped>\n",
       "    .dataframe tbody tr th:only-of-type {\n",
       "        vertical-align: middle;\n",
       "    }\n",
       "\n",
       "    .dataframe tbody tr th {\n",
       "        vertical-align: top;\n",
       "    }\n",
       "\n",
       "    .dataframe thead th {\n",
       "        text-align: right;\n",
       "    }\n",
       "</style>\n",
       "<table border=\"1\" class=\"dataframe\">\n",
       "  <thead>\n",
       "    <tr style=\"text-align: right;\">\n",
       "      <th></th>\n",
       "      <th>Country</th>\n",
       "      <th>Year</th>\n",
       "      <th>Forest Area (ha)</th>\n",
       "      <th>Nonforest Area (ha)</th>\n",
       "      <th>Forest loss (ha)</th>\n",
       "      <th>Forest C (TgC)</th>\n",
       "      <th>Nonforest C (TgC)</th>\n",
       "      <th>Total C (TgC)</th>\n",
       "      <th>Deforestation Emission (TgC)</th>\n",
       "      <th>Degradation Emission (TgC)</th>\n",
       "      <th>Fire Emission (TgC)</th>\n",
       "      <th>Removal (tons C)</th>\n",
       "    </tr>\n",
       "  </thead>\n",
       "  <tbody>\n",
       "    <tr>\n",
       "      <th>0</th>\n",
       "      <td>Afghanistan</td>\n",
       "      <td>2001</td>\n",
       "      <td>215448.071289</td>\n",
       "      <td>378638.40332</td>\n",
       "      <td>103.316418</td>\n",
       "      <td>2.177294</td>\n",
       "      <td>340.720184</td>\n",
       "      <td>342.897491</td>\n",
       "      <td>0.000603</td>\n",
       "      <td>0.006141</td>\n",
       "      <td>0.002173</td>\n",
       "      <td>-5.364136e+05</td>\n",
       "    </tr>\n",
       "    <tr>\n",
       "      <th>0</th>\n",
       "      <td>Afghanistan</td>\n",
       "      <td>2002</td>\n",
       "      <td>215448.071289</td>\n",
       "      <td>378638.40332</td>\n",
       "      <td>203.680723</td>\n",
       "      <td>2.102710</td>\n",
       "      <td>332.489868</td>\n",
       "      <td>334.592590</td>\n",
       "      <td>0.005333</td>\n",
       "      <td>0.006073</td>\n",
       "      <td>0.009176</td>\n",
       "      <td>8.284320e+06</td>\n",
       "    </tr>\n",
       "    <tr>\n",
       "      <th>0</th>\n",
       "      <td>Afghanistan</td>\n",
       "      <td>2003</td>\n",
       "      <td>215448.071289</td>\n",
       "      <td>378638.40332</td>\n",
       "      <td>243.034849</td>\n",
       "      <td>2.211627</td>\n",
       "      <td>328.742676</td>\n",
       "      <td>330.954285</td>\n",
       "      <td>0.009189</td>\n",
       "      <td>0.006280</td>\n",
       "      <td>0.010983</td>\n",
       "      <td>3.611854e+06</td>\n",
       "    </tr>\n",
       "    <tr>\n",
       "      <th>0</th>\n",
       "      <td>Afghanistan</td>\n",
       "      <td>2004</td>\n",
       "      <td>215448.071289</td>\n",
       "      <td>378638.40332</td>\n",
       "      <td>206.475227</td>\n",
       "      <td>2.149607</td>\n",
       "      <td>321.279999</td>\n",
       "      <td>323.429596</td>\n",
       "      <td>0.003678</td>\n",
       "      <td>0.005521</td>\n",
       "      <td>0.001391</td>\n",
       "      <td>7.514099e+06</td>\n",
       "    </tr>\n",
       "    <tr>\n",
       "      <th>0</th>\n",
       "      <td>Afghanistan</td>\n",
       "      <td>2005</td>\n",
       "      <td>215448.071289</td>\n",
       "      <td>378638.40332</td>\n",
       "      <td>267.715857</td>\n",
       "      <td>2.235580</td>\n",
       "      <td>323.401276</td>\n",
       "      <td>325.636871</td>\n",
       "      <td>0.008252</td>\n",
       "      <td>0.006086</td>\n",
       "      <td>0.006390</td>\n",
       "      <td>-2.228003e+06</td>\n",
       "    </tr>\n",
       "  </tbody>\n",
       "</table>\n",
       "</div>"
      ],
      "text/plain": [
       "       Country  Year  Forest Area (ha)  Nonforest Area (ha)  Forest loss (ha)  \\\n",
       "0  Afghanistan  2001     215448.071289         378638.40332        103.316418   \n",
       "0  Afghanistan  2002     215448.071289         378638.40332        203.680723   \n",
       "0  Afghanistan  2003     215448.071289         378638.40332        243.034849   \n",
       "0  Afghanistan  2004     215448.071289         378638.40332        206.475227   \n",
       "0  Afghanistan  2005     215448.071289         378638.40332        267.715857   \n",
       "\n",
       "   Forest C (TgC)  Nonforest C (TgC)  Total C (TgC)  \\\n",
       "0        2.177294         340.720184     342.897491   \n",
       "0        2.102710         332.489868     334.592590   \n",
       "0        2.211627         328.742676     330.954285   \n",
       "0        2.149607         321.279999     323.429596   \n",
       "0        2.235580         323.401276     325.636871   \n",
       "\n",
       "   Deforestation Emission (TgC)  Degradation Emission (TgC)  \\\n",
       "0                      0.000603                    0.006141   \n",
       "0                      0.005333                    0.006073   \n",
       "0                      0.009189                    0.006280   \n",
       "0                      0.003678                    0.005521   \n",
       "0                      0.008252                    0.006086   \n",
       "\n",
       "   Fire Emission (TgC)  Removal (tons C)  \n",
       "0             0.002173     -5.364136e+05  \n",
       "0             0.009176      8.284320e+06  \n",
       "0             0.010983      3.611854e+06  \n",
       "0             0.001391      7.514099e+06  \n",
       "0             0.006390     -2.228003e+06  "
      ]
     },
     "execution_count": 69,
     "metadata": {},
     "output_type": "execute_result"
    }
   ],
   "source": [
    "# Create Country Dataframe\n",
    "country_df_list = []\n",
    "for f in country_list:\n",
    "    year = f.split(\"carbon_\",1)[1][:4]\n",
    "    t_df = pd.read_excel('./raw_data/' + f,usecols=lambda x: 'Unnamed' not in x) # Get rid of unnamed index column\n",
    "    # Next we want to clean up these column names so that the year is taken out and moved to a separate column\n",
    "    t_df.insert(1,'Year',year) #Create new year column\n",
    "    t_df.columns = [col.replace(' Yr-'+year,'') for col in t_df.columns]\n",
    "    country_df_list.append(t_df)\n",
    "len(country_df_list)\n",
    "country_df = pd.concat(country_df_list).sort_values(by = ['Country','Year'])\n",
    "country_df.to_csv('./cleaned_data/country_level_annual_forest_data.csv')\n",
    "country_df.head()"
   ]
  },
  {
   "cell_type": "code",
   "execution_count": 74,
   "metadata": {},
   "outputs": [
    {
     "data": {
      "text/plain": [
       "19"
      ]
     },
     "execution_count": 74,
     "metadata": {},
     "output_type": "execute_result"
    },
    {
     "data": {
      "text/html": [
       "<div>\n",
       "<style scoped>\n",
       "    .dataframe tbody tr th:only-of-type {\n",
       "        vertical-align: middle;\n",
       "    }\n",
       "\n",
       "    .dataframe tbody tr th {\n",
       "        vertical-align: top;\n",
       "    }\n",
       "\n",
       "    .dataframe thead th {\n",
       "        text-align: right;\n",
       "    }\n",
       "</style>\n",
       "<table border=\"1\" class=\"dataframe\">\n",
       "  <thead>\n",
       "    <tr style=\"text-align: right;\">\n",
       "      <th></th>\n",
       "      <th>Country</th>\n",
       "      <th>Province</th>\n",
       "      <th>Year</th>\n",
       "      <th>Forest Area (ha)</th>\n",
       "      <th>Nonforest Area (ha)</th>\n",
       "      <th>Forest loss (ha)</th>\n",
       "      <th>Forest C (GgC)</th>\n",
       "      <th>Nonforest C (GgC)</th>\n",
       "      <th>Total C (GgC)</th>\n",
       "      <th>Deforestation Emission (GgC)</th>\n",
       "      <th>Degradation Emission (GgC)</th>\n",
       "      <th>Fire Emission (GgC)</th>\n",
       "      <th>Removal (tons C)</th>\n",
       "    </tr>\n",
       "  </thead>\n",
       "  <tbody>\n",
       "    <tr>\n",
       "      <th>0</th>\n",
       "      <td>Afghanistan</td>\n",
       "      <td>Khost</td>\n",
       "      <td>2001</td>\n",
       "      <td>5781.328964</td>\n",
       "      <td>26786.935425</td>\n",
       "      <td>0.747203</td>\n",
       "      <td>0.000000</td>\n",
       "      <td>4669.428349</td>\n",
       "      <td>4669.428349</td>\n",
       "      <td>0.011443</td>\n",
       "      <td>0.0</td>\n",
       "      <td>0.000000</td>\n",
       "      <td>117764.472961</td>\n",
       "    </tr>\n",
       "    <tr>\n",
       "      <th>0</th>\n",
       "      <td>Afghanistan</td>\n",
       "      <td>Khost</td>\n",
       "      <td>2002</td>\n",
       "      <td>5781.328964</td>\n",
       "      <td>26786.935425</td>\n",
       "      <td>27.872674</td>\n",
       "      <td>0.000000</td>\n",
       "      <td>4480.788708</td>\n",
       "      <td>4480.788708</td>\n",
       "      <td>0.419173</td>\n",
       "      <td>0.0</td>\n",
       "      <td>0.000000</td>\n",
       "      <td>188220.471144</td>\n",
       "    </tr>\n",
       "    <tr>\n",
       "      <th>0</th>\n",
       "      <td>Afghanistan</td>\n",
       "      <td>Khost</td>\n",
       "      <td>2003</td>\n",
       "      <td>5781.328964</td>\n",
       "      <td>26786.935425</td>\n",
       "      <td>24.737055</td>\n",
       "      <td>0.269373</td>\n",
       "      <td>4632.602692</td>\n",
       "      <td>4632.872105</td>\n",
       "      <td>0.405558</td>\n",
       "      <td>0.0</td>\n",
       "      <td>2.983986</td>\n",
       "      <td>-155472.949147</td>\n",
       "    </tr>\n",
       "    <tr>\n",
       "      <th>0</th>\n",
       "      <td>Afghanistan</td>\n",
       "      <td>Khost</td>\n",
       "      <td>2004</td>\n",
       "      <td>5781.328964</td>\n",
       "      <td>26786.935425</td>\n",
       "      <td>107.123736</td>\n",
       "      <td>0.220720</td>\n",
       "      <td>4431.820869</td>\n",
       "      <td>4432.041645</td>\n",
       "      <td>1.559557</td>\n",
       "      <td>0.0</td>\n",
       "      <td>0.675997</td>\n",
       "      <td>198594.912887</td>\n",
       "    </tr>\n",
       "    <tr>\n",
       "      <th>0</th>\n",
       "      <td>Afghanistan</td>\n",
       "      <td>Khost</td>\n",
       "      <td>2005</td>\n",
       "      <td>5781.328964</td>\n",
       "      <td>26786.935425</td>\n",
       "      <td>67.987326</td>\n",
       "      <td>0.293602</td>\n",
       "      <td>4826.453686</td>\n",
       "      <td>4826.746941</td>\n",
       "      <td>1.281940</td>\n",
       "      <td>0.0</td>\n",
       "      <td>4.264727</td>\n",
       "      <td>-400251.954794</td>\n",
       "    </tr>\n",
       "  </tbody>\n",
       "</table>\n",
       "</div>"
      ],
      "text/plain": [
       "       Country Province  Year  Forest Area (ha)  Nonforest Area (ha)  \\\n",
       "0  Afghanistan    Khost  2001       5781.328964         26786.935425   \n",
       "0  Afghanistan    Khost  2002       5781.328964         26786.935425   \n",
       "0  Afghanistan    Khost  2003       5781.328964         26786.935425   \n",
       "0  Afghanistan    Khost  2004       5781.328964         26786.935425   \n",
       "0  Afghanistan    Khost  2005       5781.328964         26786.935425   \n",
       "\n",
       "   Forest loss (ha)  Forest C (GgC)  Nonforest C (GgC)  Total C (GgC)  \\\n",
       "0          0.747203        0.000000        4669.428349    4669.428349   \n",
       "0         27.872674        0.000000        4480.788708    4480.788708   \n",
       "0         24.737055        0.269373        4632.602692    4632.872105   \n",
       "0        107.123736        0.220720        4431.820869    4432.041645   \n",
       "0         67.987326        0.293602        4826.453686    4826.746941   \n",
       "\n",
       "   Deforestation Emission (GgC)  Degradation Emission (GgC)  \\\n",
       "0                      0.011443                         0.0   \n",
       "0                      0.419173                         0.0   \n",
       "0                      0.405558                         0.0   \n",
       "0                      1.559557                         0.0   \n",
       "0                      1.281940                         0.0   \n",
       "\n",
       "   Fire Emission (GgC)  Removal (tons C)  \n",
       "0             0.000000     117764.472961  \n",
       "0             0.000000     188220.471144  \n",
       "0             2.983986    -155472.949147  \n",
       "0             0.675997     198594.912887  \n",
       "0             4.264727    -400251.954794  "
      ]
     },
     "execution_count": 74,
     "metadata": {},
     "output_type": "execute_result"
    }
   ],
   "source": [
    "# Create Province Dataframe\n",
    "province_df_list = []\n",
    "for f in province_list:\n",
    "    year = f.split(\"carbon_\",1)[1][:4]\n",
    "    t_df = pd.read_excel('./raw_data/' + f,usecols=lambda x: 'Unnamed' not in x) # Get rid of unnamed index column\n",
    "    # Next we want to clean up these column names so that the year is taken out and moved to a separate column\n",
    "    t_df.insert(2,'Year',year) #Create new year column\n",
    "    t_df.columns = [col.replace(' Yr-'+year,'') for col in t_df.columns]\n",
    "    province_df_list.append(t_df)\n",
    "len(province_df_list)\n",
    "province_df = pd.concat(province_df_list).sort_values(by = ['Country','Province','Year'])\n",
    "province_df.to_csv('./cleaned_data/province_level_annual_forest_data.csv')\n",
    "province_df.head()"
   ]
  },
  {
   "cell_type": "markdown",
   "metadata": {},
   "source": [
    "## Country Data Explore\n",
    "Let's take a look at some of this country data and see how these values change over time. Some initial visualizations to look at here:\n",
    "* Let's pick 5 similarly sized countries and take a look at how key variables plot over time\n",
    "* Let's plot totals with a country breakdown"
   ]
  },
  {
   "cell_type": "code",
   "execution_count": 73,
   "metadata": {
    "scrolled": false
   },
   "outputs": [
    {
     "data": {
      "application/vnd.plotly.v1+json": {
       "config": {
        "plotlyServerURL": "https://plot.ly"
       },
       "data": [
        {
         "hovertemplate": "Country=Brazil<br>Year=%{x}<br>Forest Area (ha)=%{y}<extra></extra>",
         "legendgroup": "Brazil",
         "line": {
          "color": "#1F77B4",
          "dash": "solid"
         },
         "mode": "lines",
         "name": "Brazil",
         "orientation": "v",
         "showlegend": true,
         "type": "scatter",
         "x": [
          "2001",
          "2002",
          "2003",
          "2004",
          "2005",
          "2006",
          "2007",
          "2008",
          "2009",
          "2010",
          "2011",
          "2012",
          "2013",
          "2014",
          "2015",
          "2016",
          "2017",
          "2018",
          "2019"
         ],
         "xaxis": "x",
         "y": [
          520535000,
          520535000,
          520535000,
          520535000,
          520535000,
          520535000,
          520535000,
          520535000,
          520535000,
          520535000,
          520535000,
          520535000,
          520535000,
          520535000,
          520535000,
          520535000,
          520535000,
          520535000,
          520535000
         ],
         "yaxis": "y"
        },
        {
         "hovertemplate": "Country=China<br>Year=%{x}<br>Forest Area (ha)=%{y}<extra></extra>",
         "legendgroup": "China",
         "line": {
          "color": "#FF7F0E",
          "dash": "solid"
         },
         "mode": "lines",
         "name": "China",
         "orientation": "v",
         "showlegend": true,
         "type": "scatter",
         "x": [
          "2001",
          "2002",
          "2003",
          "2004",
          "2005",
          "2006",
          "2007",
          "2008",
          "2009",
          "2010",
          "2011",
          "2012",
          "2013",
          "2014",
          "2015",
          "2016",
          "2017",
          "2018",
          "2019"
         ],
         "xaxis": "x",
         "y": [
          162962100,
          162962100,
          162962100,
          162962100,
          162962100,
          162962100,
          162962100,
          162962100,
          162962100,
          162962100,
          162962100,
          162962100,
          162962100,
          162962100,
          162962100,
          162962100,
          162962100,
          162962100,
          162962100
         ],
         "yaxis": "y"
        },
        {
         "hovertemplate": "Country=India<br>Year=%{x}<br>Forest Area (ha)=%{y}<extra></extra>",
         "legendgroup": "India",
         "line": {
          "color": "#2CA02C",
          "dash": "solid"
         },
         "mode": "lines",
         "name": "India",
         "orientation": "v",
         "showlegend": true,
         "type": "scatter",
         "x": [
          "2001",
          "2002",
          "2003",
          "2004",
          "2005",
          "2006",
          "2007",
          "2008",
          "2009",
          "2010",
          "2011",
          "2012",
          "2013",
          "2014",
          "2015",
          "2016",
          "2017",
          "2018",
          "2019"
         ],
         "xaxis": "x",
         "y": [
          38371371.875,
          38371371.875,
          38371371.875,
          38371371.875,
          38371371.875,
          38371371.875,
          38371371.875,
          38371371.875,
          38371371.875,
          38371371.875,
          38371371.875,
          38371371.875,
          38371371.875,
          38371371.875,
          38371371.875,
          38371371.875,
          38371371.875,
          38371371.875,
          38371371.875
         ],
         "yaxis": "y"
        },
        {
         "hovertemplate": "Country=Russia<br>Year=%{x}<br>Forest Area (ha)=%{y}<extra></extra>",
         "legendgroup": "Russia",
         "line": {
          "color": "#D62728",
          "dash": "solid"
         },
         "mode": "lines",
         "name": "Russia",
         "orientation": "v",
         "showlegend": true,
         "type": "scatter",
         "x": [
          "2001",
          "2002",
          "2003",
          "2004",
          "2005",
          "2006",
          "2007",
          "2008",
          "2009",
          "2010",
          "2011",
          "2012",
          "2013",
          "2014",
          "2015",
          "2016",
          "2017",
          "2018",
          "2019"
         ],
         "xaxis": "x",
         "y": [
          754263250,
          754263250,
          754263250,
          754263250,
          754263250,
          754263250,
          754263250,
          754263250,
          754263250,
          754263250,
          754263250,
          754263250,
          754263250,
          754263250,
          754263250,
          754263250,
          754263250,
          754263250,
          754263250
         ],
         "yaxis": "y"
        },
        {
         "hovertemplate": "Country=United States<br>Year=%{x}<br>Forest Area (ha)=%{y}<extra></extra>",
         "legendgroup": "United States",
         "line": {
          "color": "#9467BD",
          "dash": "solid"
         },
         "mode": "lines",
         "name": "United States",
         "orientation": "v",
         "showlegend": true,
         "type": "scatter",
         "x": [
          "2001",
          "2002",
          "2003",
          "2004",
          "2005",
          "2006",
          "2007",
          "2008",
          "2009",
          "2010",
          "2011",
          "2012",
          "2013",
          "2014",
          "2015",
          "2016",
          "2017",
          "2018",
          "2019"
         ],
         "xaxis": "x",
         "y": [
          289765150,
          289765150,
          289765150,
          289765150,
          289765150,
          289765150,
          289765150,
          289765150,
          289765150,
          289765150,
          289765150,
          289765150,
          289765150,
          289765150,
          289765150,
          289765150,
          289765150,
          289765150,
          289765150
         ],
         "yaxis": "y"
        }
       ],
       "layout": {
        "legend": {
         "title": {
          "text": "Country"
         },
         "tracegroupgap": 0
        },
        "template": {
         "data": {
          "scatter": [
           {
            "type": "scatter"
           }
          ]
         }
        },
        "title": {
         "text": "Forest Area (ha) (2001-2019)"
        },
        "xaxis": {
         "anchor": "y",
         "domain": [
          0,
          1
         ],
         "title": {
          "text": "Year"
         }
        },
        "yaxis": {
         "anchor": "x",
         "domain": [
          0,
          1
         ],
         "title": {
          "text": "Forest Area (ha)"
         }
        }
       }
      },
      "text/html": [
       "<div>                            <div id=\"63f79eeb-9f67-4708-b938-b76d06702006\" class=\"plotly-graph-div\" style=\"height:525px; width:100%;\"></div>            <script type=\"text/javascript\">                require([\"plotly\"], function(Plotly) {                    window.PLOTLYENV=window.PLOTLYENV || {};                                    if (document.getElementById(\"63f79eeb-9f67-4708-b938-b76d06702006\")) {                    Plotly.newPlot(                        \"63f79eeb-9f67-4708-b938-b76d06702006\",                        [{\"hovertemplate\": \"Country=Brazil<br>Year=%{x}<br>Forest Area (ha)=%{y}<extra></extra>\", \"legendgroup\": \"Brazil\", \"line\": {\"color\": \"#1F77B4\", \"dash\": \"solid\"}, \"mode\": \"lines\", \"name\": \"Brazil\", \"orientation\": \"v\", \"showlegend\": true, \"type\": \"scatter\", \"x\": [\"2001\", \"2002\", \"2003\", \"2004\", \"2005\", \"2006\", \"2007\", \"2008\", \"2009\", \"2010\", \"2011\", \"2012\", \"2013\", \"2014\", \"2015\", \"2016\", \"2017\", \"2018\", \"2019\"], \"xaxis\": \"x\", \"y\": [520535000.0, 520535000.0, 520535000.0, 520535000.0, 520535000.0, 520535000.0, 520535000.0, 520535000.0, 520535000.0, 520535000.0, 520535000.0, 520535000.0, 520535000.0, 520535000.0, 520535000.0, 520535000.0, 520535000.0, 520535000.0, 520535000.0], \"yaxis\": \"y\"}, {\"hovertemplate\": \"Country=China<br>Year=%{x}<br>Forest Area (ha)=%{y}<extra></extra>\", \"legendgroup\": \"China\", \"line\": {\"color\": \"#FF7F0E\", \"dash\": \"solid\"}, \"mode\": \"lines\", \"name\": \"China\", \"orientation\": \"v\", \"showlegend\": true, \"type\": \"scatter\", \"x\": [\"2001\", \"2002\", \"2003\", \"2004\", \"2005\", \"2006\", \"2007\", \"2008\", \"2009\", \"2010\", \"2011\", \"2012\", \"2013\", \"2014\", \"2015\", \"2016\", \"2017\", \"2018\", \"2019\"], \"xaxis\": \"x\", \"y\": [162962100.0, 162962100.0, 162962100.0, 162962100.0, 162962100.0, 162962100.0, 162962100.0, 162962100.0, 162962100.0, 162962100.0, 162962100.0, 162962100.0, 162962100.0, 162962100.0, 162962100.0, 162962100.0, 162962100.0, 162962100.0, 162962100.0], \"yaxis\": \"y\"}, {\"hovertemplate\": \"Country=India<br>Year=%{x}<br>Forest Area (ha)=%{y}<extra></extra>\", \"legendgroup\": \"India\", \"line\": {\"color\": \"#2CA02C\", \"dash\": \"solid\"}, \"mode\": \"lines\", \"name\": \"India\", \"orientation\": \"v\", \"showlegend\": true, \"type\": \"scatter\", \"x\": [\"2001\", \"2002\", \"2003\", \"2004\", \"2005\", \"2006\", \"2007\", \"2008\", \"2009\", \"2010\", \"2011\", \"2012\", \"2013\", \"2014\", \"2015\", \"2016\", \"2017\", \"2018\", \"2019\"], \"xaxis\": \"x\", \"y\": [38371371.875, 38371371.875, 38371371.875, 38371371.875, 38371371.875, 38371371.875, 38371371.875, 38371371.875, 38371371.875, 38371371.875, 38371371.875, 38371371.875, 38371371.875, 38371371.875, 38371371.875, 38371371.875, 38371371.875, 38371371.875, 38371371.875], \"yaxis\": \"y\"}, {\"hovertemplate\": \"Country=Russia<br>Year=%{x}<br>Forest Area (ha)=%{y}<extra></extra>\", \"legendgroup\": \"Russia\", \"line\": {\"color\": \"#D62728\", \"dash\": \"solid\"}, \"mode\": \"lines\", \"name\": \"Russia\", \"orientation\": \"v\", \"showlegend\": true, \"type\": \"scatter\", \"x\": [\"2001\", \"2002\", \"2003\", \"2004\", \"2005\", \"2006\", \"2007\", \"2008\", \"2009\", \"2010\", \"2011\", \"2012\", \"2013\", \"2014\", \"2015\", \"2016\", \"2017\", \"2018\", \"2019\"], \"xaxis\": \"x\", \"y\": [754263250.0, 754263250.0, 754263250.0, 754263250.0, 754263250.0, 754263250.0, 754263250.0, 754263250.0, 754263250.0, 754263250.0, 754263250.0, 754263250.0, 754263250.0, 754263250.0, 754263250.0, 754263250.0, 754263250.0, 754263250.0, 754263250.0], \"yaxis\": \"y\"}, {\"hovertemplate\": \"Country=United States<br>Year=%{x}<br>Forest Area (ha)=%{y}<extra></extra>\", \"legendgroup\": \"United States\", \"line\": {\"color\": \"#9467BD\", \"dash\": \"solid\"}, \"mode\": \"lines\", \"name\": \"United States\", \"orientation\": \"v\", \"showlegend\": true, \"type\": \"scatter\", \"x\": [\"2001\", \"2002\", \"2003\", \"2004\", \"2005\", \"2006\", \"2007\", \"2008\", \"2009\", \"2010\", \"2011\", \"2012\", \"2013\", \"2014\", \"2015\", \"2016\", \"2017\", \"2018\", \"2019\"], \"xaxis\": \"x\", \"y\": [289765150.0, 289765150.0, 289765150.0, 289765150.0, 289765150.0, 289765150.0, 289765150.0, 289765150.0, 289765150.0, 289765150.0, 289765150.0, 289765150.0, 289765150.0, 289765150.0, 289765150.0, 289765150.0, 289765150.0, 289765150.0, 289765150.0], \"yaxis\": \"y\"}],                        {\"legend\": {\"title\": {\"text\": \"Country\"}, \"tracegroupgap\": 0}, \"template\": {\"data\": {\"scatter\": [{\"type\": \"scatter\"}]}}, \"title\": {\"text\": \"Forest Area (ha) (2001-2019)\"}, \"xaxis\": {\"anchor\": \"y\", \"domain\": [0.0, 1.0], \"title\": {\"text\": \"Year\"}}, \"yaxis\": {\"anchor\": \"x\", \"domain\": [0.0, 1.0], \"title\": {\"text\": \"Forest Area (ha)\"}}},                        {\"responsive\": true}                    ).then(function(){\n",
       "                            \n",
       "var gd = document.getElementById('63f79eeb-9f67-4708-b938-b76d06702006');\n",
       "var x = new MutationObserver(function (mutations, observer) {{\n",
       "        var display = window.getComputedStyle(gd).display;\n",
       "        if (!display || display === 'none') {{\n",
       "            console.log([gd, 'removed!']);\n",
       "            Plotly.purge(gd);\n",
       "            observer.disconnect();\n",
       "        }}\n",
       "}});\n",
       "\n",
       "// Listen for the removal of the full notebook cells\n",
       "var notebookContainer = gd.closest('#notebook-container');\n",
       "if (notebookContainer) {{\n",
       "    x.observe(notebookContainer, {childList: true});\n",
       "}}\n",
       "\n",
       "// Listen for the clearing of the current output cell\n",
       "var outputEl = gd.closest('.output');\n",
       "if (outputEl) {{\n",
       "    x.observe(outputEl, {childList: true});\n",
       "}}\n",
       "\n",
       "                        })                };                });            </script>        </div>"
      ]
     },
     "metadata": {},
     "output_type": "display_data"
    },
    {
     "data": {
      "application/vnd.plotly.v1+json": {
       "config": {
        "plotlyServerURL": "https://plot.ly"
       },
       "data": [
        {
         "hovertemplate": "Country=Brazil<br>Year=%{x}<br>Nonforest Area (ha)=%{y}<extra></extra>",
         "legendgroup": "Brazil",
         "line": {
          "color": "#1F77B4",
          "dash": "solid"
         },
         "mode": "lines",
         "name": "Brazil",
         "orientation": "v",
         "showlegend": true,
         "type": "scatter",
         "x": [
          "2001",
          "2002",
          "2003",
          "2004",
          "2005",
          "2006",
          "2007",
          "2008",
          "2009",
          "2010",
          "2011",
          "2012",
          "2013",
          "2014",
          "2015",
          "2016",
          "2017",
          "2018",
          "2019"
         ],
         "xaxis": "x",
         "y": [
          98809381.25,
          98809381.25,
          98809381.25,
          98809381.25,
          98809381.25,
          98809381.25,
          98809381.25,
          98809381.25,
          98809381.25,
          98809381.25,
          98809381.25,
          98809381.25,
          98809381.25,
          98809381.25,
          98809381.25,
          98809381.25,
          98809381.25,
          98809381.25,
          98809381.25
         ],
         "yaxis": "y"
        },
        {
         "hovertemplate": "Country=China<br>Year=%{x}<br>Nonforest Area (ha)=%{y}<extra></extra>",
         "legendgroup": "China",
         "line": {
          "color": "#FF7F0E",
          "dash": "solid"
         },
         "mode": "lines",
         "name": "China",
         "orientation": "v",
         "showlegend": true,
         "type": "scatter",
         "x": [
          "2001",
          "2002",
          "2003",
          "2004",
          "2005",
          "2006",
          "2007",
          "2008",
          "2009",
          "2010",
          "2011",
          "2012",
          "2013",
          "2014",
          "2015",
          "2016",
          "2017",
          "2018",
          "2019"
         ],
         "xaxis": "x",
         "y": [
          74182006.25,
          74182006.25,
          74182006.25,
          74182006.25,
          74182006.25,
          74182006.25,
          74182006.25,
          74182006.25,
          74182006.25,
          74182006.25,
          74182006.25,
          74182006.25,
          74182006.25,
          74182006.25,
          74182006.25,
          74182006.25,
          74182006.25,
          74182006.25,
          74182006.25
         ],
         "yaxis": "y"
        },
        {
         "hovertemplate": "Country=India<br>Year=%{x}<br>Nonforest Area (ha)=%{y}<extra></extra>",
         "legendgroup": "India",
         "line": {
          "color": "#2CA02C",
          "dash": "solid"
         },
         "mode": "lines",
         "name": "India",
         "orientation": "v",
         "showlegend": true,
         "type": "scatter",
         "x": [
          "2001",
          "2002",
          "2003",
          "2004",
          "2005",
          "2006",
          "2007",
          "2008",
          "2009",
          "2010",
          "2011",
          "2012",
          "2013",
          "2014",
          "2015",
          "2016",
          "2017",
          "2018",
          "2019"
         ],
         "xaxis": "x",
         "y": [
          22244973.4375,
          22244973.4375,
          22244973.4375,
          22244973.4375,
          22244973.4375,
          22244973.4375,
          22244973.4375,
          22244973.4375,
          22244973.4375,
          22244973.4375,
          22244973.4375,
          22244973.4375,
          22244973.4375,
          22244973.4375,
          22244973.4375,
          22244973.4375,
          22244973.4375,
          22244973.4375,
          22244973.4375
         ],
         "yaxis": "y"
        },
        {
         "hovertemplate": "Country=Russia<br>Year=%{x}<br>Nonforest Area (ha)=%{y}<extra></extra>",
         "legendgroup": "Russia",
         "line": {
          "color": "#D62728",
          "dash": "solid"
         },
         "mode": "lines",
         "name": "Russia",
         "orientation": "v",
         "showlegend": true,
         "type": "scatter",
         "x": [
          "2001",
          "2002",
          "2003",
          "2004",
          "2005",
          "2006",
          "2007",
          "2008",
          "2009",
          "2010",
          "2011",
          "2012",
          "2013",
          "2014",
          "2015",
          "2016",
          "2017",
          "2018",
          "2019"
         ],
         "xaxis": "x",
         "y": [
          257963125,
          257963125,
          257963125,
          257963125,
          257963125,
          257963125,
          257963125,
          257963125,
          257963125,
          257963125,
          257963125,
          257963125,
          257963125,
          257963125,
          257963125,
          257963125,
          257963125,
          257963125,
          257963125
         ],
         "yaxis": "y"
        },
        {
         "hovertemplate": "Country=United States<br>Year=%{x}<br>Nonforest Area (ha)=%{y}<extra></extra>",
         "legendgroup": "United States",
         "line": {
          "color": "#9467BD",
          "dash": "solid"
         },
         "mode": "lines",
         "name": "United States",
         "orientation": "v",
         "showlegend": true,
         "type": "scatter",
         "x": [
          "2001",
          "2002",
          "2003",
          "2004",
          "2005",
          "2006",
          "2007",
          "2008",
          "2009",
          "2010",
          "2011",
          "2012",
          "2013",
          "2014",
          "2015",
          "2016",
          "2017",
          "2018",
          "2019"
         ],
         "xaxis": "x",
         "y": [
          93042593.75,
          93042593.75,
          93042593.75,
          93042593.75,
          93042593.75,
          93042593.75,
          93042593.75,
          93042593.75,
          93042593.75,
          93042593.75,
          93042593.75,
          93042593.75,
          93042593.75,
          93042593.75,
          93042593.75,
          93042593.75,
          93042593.75,
          93042593.75,
          93042593.75
         ],
         "yaxis": "y"
        }
       ],
       "layout": {
        "legend": {
         "title": {
          "text": "Country"
         },
         "tracegroupgap": 0
        },
        "template": {
         "data": {
          "scatter": [
           {
            "type": "scatter"
           }
          ]
         }
        },
        "title": {
         "text": "Nonforest Area (ha) (2001-2019)"
        },
        "xaxis": {
         "anchor": "y",
         "domain": [
          0,
          1
         ],
         "title": {
          "text": "Year"
         }
        },
        "yaxis": {
         "anchor": "x",
         "domain": [
          0,
          1
         ],
         "title": {
          "text": "Nonforest Area (ha)"
         }
        }
       }
      },
      "text/html": [
       "<div>                            <div id=\"333eb175-caae-4337-b022-2cbcbca4f443\" class=\"plotly-graph-div\" style=\"height:525px; width:100%;\"></div>            <script type=\"text/javascript\">                require([\"plotly\"], function(Plotly) {                    window.PLOTLYENV=window.PLOTLYENV || {};                                    if (document.getElementById(\"333eb175-caae-4337-b022-2cbcbca4f443\")) {                    Plotly.newPlot(                        \"333eb175-caae-4337-b022-2cbcbca4f443\",                        [{\"hovertemplate\": \"Country=Brazil<br>Year=%{x}<br>Nonforest Area (ha)=%{y}<extra></extra>\", \"legendgroup\": \"Brazil\", \"line\": {\"color\": \"#1F77B4\", \"dash\": \"solid\"}, \"mode\": \"lines\", \"name\": \"Brazil\", \"orientation\": \"v\", \"showlegend\": true, \"type\": \"scatter\", \"x\": [\"2001\", \"2002\", \"2003\", \"2004\", \"2005\", \"2006\", \"2007\", \"2008\", \"2009\", \"2010\", \"2011\", \"2012\", \"2013\", \"2014\", \"2015\", \"2016\", \"2017\", \"2018\", \"2019\"], \"xaxis\": \"x\", \"y\": [98809381.25, 98809381.25, 98809381.25, 98809381.25, 98809381.25, 98809381.25, 98809381.25, 98809381.25, 98809381.25, 98809381.25, 98809381.25, 98809381.25, 98809381.25, 98809381.25, 98809381.25, 98809381.25, 98809381.25, 98809381.25, 98809381.25], \"yaxis\": \"y\"}, {\"hovertemplate\": \"Country=China<br>Year=%{x}<br>Nonforest Area (ha)=%{y}<extra></extra>\", \"legendgroup\": \"China\", \"line\": {\"color\": \"#FF7F0E\", \"dash\": \"solid\"}, \"mode\": \"lines\", \"name\": \"China\", \"orientation\": \"v\", \"showlegend\": true, \"type\": \"scatter\", \"x\": [\"2001\", \"2002\", \"2003\", \"2004\", \"2005\", \"2006\", \"2007\", \"2008\", \"2009\", \"2010\", \"2011\", \"2012\", \"2013\", \"2014\", \"2015\", \"2016\", \"2017\", \"2018\", \"2019\"], \"xaxis\": \"x\", \"y\": [74182006.25, 74182006.25, 74182006.25, 74182006.25, 74182006.25, 74182006.25, 74182006.25, 74182006.25, 74182006.25, 74182006.25, 74182006.25, 74182006.25, 74182006.25, 74182006.25, 74182006.25, 74182006.25, 74182006.25, 74182006.25, 74182006.25], \"yaxis\": \"y\"}, {\"hovertemplate\": \"Country=India<br>Year=%{x}<br>Nonforest Area (ha)=%{y}<extra></extra>\", \"legendgroup\": \"India\", \"line\": {\"color\": \"#2CA02C\", \"dash\": \"solid\"}, \"mode\": \"lines\", \"name\": \"India\", \"orientation\": \"v\", \"showlegend\": true, \"type\": \"scatter\", \"x\": [\"2001\", \"2002\", \"2003\", \"2004\", \"2005\", \"2006\", \"2007\", \"2008\", \"2009\", \"2010\", \"2011\", \"2012\", \"2013\", \"2014\", \"2015\", \"2016\", \"2017\", \"2018\", \"2019\"], \"xaxis\": \"x\", \"y\": [22244973.4375, 22244973.4375, 22244973.4375, 22244973.4375, 22244973.4375, 22244973.4375, 22244973.4375, 22244973.4375, 22244973.4375, 22244973.4375, 22244973.4375, 22244973.4375, 22244973.4375, 22244973.4375, 22244973.4375, 22244973.4375, 22244973.4375, 22244973.4375, 22244973.4375], \"yaxis\": \"y\"}, {\"hovertemplate\": \"Country=Russia<br>Year=%{x}<br>Nonforest Area (ha)=%{y}<extra></extra>\", \"legendgroup\": \"Russia\", \"line\": {\"color\": \"#D62728\", \"dash\": \"solid\"}, \"mode\": \"lines\", \"name\": \"Russia\", \"orientation\": \"v\", \"showlegend\": true, \"type\": \"scatter\", \"x\": [\"2001\", \"2002\", \"2003\", \"2004\", \"2005\", \"2006\", \"2007\", \"2008\", \"2009\", \"2010\", \"2011\", \"2012\", \"2013\", \"2014\", \"2015\", \"2016\", \"2017\", \"2018\", \"2019\"], \"xaxis\": \"x\", \"y\": [257963125.0, 257963125.0, 257963125.0, 257963125.0, 257963125.0, 257963125.0, 257963125.0, 257963125.0, 257963125.0, 257963125.0, 257963125.0, 257963125.0, 257963125.0, 257963125.0, 257963125.0, 257963125.0, 257963125.0, 257963125.0, 257963125.0], \"yaxis\": \"y\"}, {\"hovertemplate\": \"Country=United States<br>Year=%{x}<br>Nonforest Area (ha)=%{y}<extra></extra>\", \"legendgroup\": \"United States\", \"line\": {\"color\": \"#9467BD\", \"dash\": \"solid\"}, \"mode\": \"lines\", \"name\": \"United States\", \"orientation\": \"v\", \"showlegend\": true, \"type\": \"scatter\", \"x\": [\"2001\", \"2002\", \"2003\", \"2004\", \"2005\", \"2006\", \"2007\", \"2008\", \"2009\", \"2010\", \"2011\", \"2012\", \"2013\", \"2014\", \"2015\", \"2016\", \"2017\", \"2018\", \"2019\"], \"xaxis\": \"x\", \"y\": [93042593.75, 93042593.75, 93042593.75, 93042593.75, 93042593.75, 93042593.75, 93042593.75, 93042593.75, 93042593.75, 93042593.75, 93042593.75, 93042593.75, 93042593.75, 93042593.75, 93042593.75, 93042593.75, 93042593.75, 93042593.75, 93042593.75], \"yaxis\": \"y\"}],                        {\"legend\": {\"title\": {\"text\": \"Country\"}, \"tracegroupgap\": 0}, \"template\": {\"data\": {\"scatter\": [{\"type\": \"scatter\"}]}}, \"title\": {\"text\": \"Nonforest Area (ha) (2001-2019)\"}, \"xaxis\": {\"anchor\": \"y\", \"domain\": [0.0, 1.0], \"title\": {\"text\": \"Year\"}}, \"yaxis\": {\"anchor\": \"x\", \"domain\": [0.0, 1.0], \"title\": {\"text\": \"Nonforest Area (ha)\"}}},                        {\"responsive\": true}                    ).then(function(){\n",
       "                            \n",
       "var gd = document.getElementById('333eb175-caae-4337-b022-2cbcbca4f443');\n",
       "var x = new MutationObserver(function (mutations, observer) {{\n",
       "        var display = window.getComputedStyle(gd).display;\n",
       "        if (!display || display === 'none') {{\n",
       "            console.log([gd, 'removed!']);\n",
       "            Plotly.purge(gd);\n",
       "            observer.disconnect();\n",
       "        }}\n",
       "}});\n",
       "\n",
       "// Listen for the removal of the full notebook cells\n",
       "var notebookContainer = gd.closest('#notebook-container');\n",
       "if (notebookContainer) {{\n",
       "    x.observe(notebookContainer, {childList: true});\n",
       "}}\n",
       "\n",
       "// Listen for the clearing of the current output cell\n",
       "var outputEl = gd.closest('.output');\n",
       "if (outputEl) {{\n",
       "    x.observe(outputEl, {childList: true});\n",
       "}}\n",
       "\n",
       "                        })                };                });            </script>        </div>"
      ]
     },
     "metadata": {},
     "output_type": "display_data"
    },
    {
     "data": {
      "application/vnd.plotly.v1+json": {
       "config": {
        "plotlyServerURL": "https://plot.ly"
       },
       "data": [
        {
         "hovertemplate": "Country=Brazil<br>Year=%{x}<br>Forest loss (ha)=%{y}<extra></extra>",
         "legendgroup": "Brazil",
         "line": {
          "color": "#1F77B4",
          "dash": "solid"
         },
         "mode": "lines",
         "name": "Brazil",
         "orientation": "v",
         "showlegend": true,
         "type": "scatter",
         "x": [
          "2001",
          "2002",
          "2003",
          "2004",
          "2005",
          "2006",
          "2007",
          "2008",
          "2009",
          "2010",
          "2011",
          "2012",
          "2013",
          "2014",
          "2015",
          "2016",
          "2017",
          "2018",
          "2019"
         ],
         "xaxis": "x",
         "y": [
          2916052.956820779,
          3698285.832216156,
          3476182.343238966,
          4118077.633625777,
          3659656.657785394,
          3078603.690970885,
          2829743.161776659,
          2662236.276062846,
          1991225.809759822,
          2932560.558450857,
          2131993.883126769,
          3369963.950471735,
          2534049.944533435,
          3504423.183207006,
          2907436.154841121,
          6365150.507012387,
          5521583.70598315,
          3781310.281137704,
          3469847.892758897
         ],
         "yaxis": "y"
        },
        {
         "hovertemplate": "Country=China<br>Year=%{x}<br>Forest loss (ha)=%{y}<extra></extra>",
         "legendgroup": "China",
         "line": {
          "color": "#FF7F0E",
          "dash": "solid"
         },
         "mode": "lines",
         "name": "China",
         "orientation": "v",
         "showlegend": true,
         "type": "scatter",
         "x": [
          "2001",
          "2002",
          "2003",
          "2004",
          "2005",
          "2006",
          "2007",
          "2008",
          "2009",
          "2010",
          "2011",
          "2012",
          "2013",
          "2014",
          "2015",
          "2016",
          "2017",
          "2018",
          "2019"
         ],
         "xaxis": "x",
         "y": [
          237231.8343276703,
          257590.4353870207,
          271141.8709968534,
          518951.9225420304,
          395518.8977934694,
          597428.8606879576,
          675162.8039213584,
          758953.6019786161,
          624705.9030397347,
          652315.929719813,
          633655.2017602527,
          690430.30077009,
          642013.1574231136,
          755982.1421227508,
          701089.2398667467,
          1091135.074220504,
          1043521.466020941,
          947178.1515812476,
          904548.5124443736
         ],
         "yaxis": "y"
        },
        {
         "hovertemplate": "Country=India<br>Year=%{x}<br>Forest loss (ha)=%{y}<extra></extra>",
         "legendgroup": "India",
         "line": {
          "color": "#2CA02C",
          "dash": "solid"
         },
         "mode": "lines",
         "name": "India",
         "orientation": "v",
         "showlegend": true,
         "type": "scatter",
         "x": [
          "2001",
          "2002",
          "2003",
          "2004",
          "2005",
          "2006",
          "2007",
          "2008",
          "2009",
          "2010",
          "2011",
          "2012",
          "2013",
          "2014",
          "2015",
          "2016",
          "2017",
          "2018",
          "2019"
         ],
         "xaxis": "x",
         "y": [
          65125.24018597444,
          56607.07413147417,
          51056.43571961303,
          80809.25816671757,
          65759.69677530149,
          74627.14974869754,
          81273.40344896649,
          94140.53797007172,
          87241.92262394012,
          55089.36952500952,
          103095.182460305,
          114299.2070744881,
          114340.9641495289,
          183197.0198196828,
          148933.7750371963,
          230149.9912296684,
          248776.8834904125,
          189943.5356996396,
          173306.5055173686
         ],
         "yaxis": "y"
        },
        {
         "hovertemplate": "Country=Russia<br>Year=%{x}<br>Forest loss (ha)=%{y}<extra></extra>",
         "legendgroup": "Russia",
         "line": {
          "color": "#D62728",
          "dash": "solid"
         },
         "mode": "lines",
         "name": "Russia",
         "orientation": "v",
         "showlegend": true,
         "type": "scatter",
         "x": [
          "2001",
          "2002",
          "2003",
          "2004",
          "2005",
          "2006",
          "2007",
          "2008",
          "2009",
          "2010",
          "2011",
          "2012",
          "2013",
          "2014",
          "2015",
          "2016",
          "2017",
          "2018",
          "2019"
         ],
         "xaxis": "x",
         "y": [
          2117889.067423614,
          3309004.896206619,
          3417957.578191841,
          4084383.268354156,
          1757250.576474664,
          2566706.384761261,
          2525912.528887274,
          3344649.790170185,
          2475070.007724821,
          2236745.984721255,
          3606465.317083256,
          6302836.481756436,
          5889435.434384281,
          5354313.826551007,
          2610013.87093348,
          6221577.033090347,
          6132225.179398515,
          6621949.096465349,
          4841903.592242062
         ],
         "yaxis": "y"
        },
        {
         "hovertemplate": "Country=United States<br>Year=%{x}<br>Forest loss (ha)=%{y}<extra></extra>",
         "legendgroup": "United States",
         "line": {
          "color": "#9467BD",
          "dash": "solid"
         },
         "mode": "lines",
         "name": "United States",
         "orientation": "v",
         "showlegend": true,
         "type": "scatter",
         "x": [
          "2001",
          "2002",
          "2003",
          "2004",
          "2005",
          "2006",
          "2007",
          "2008",
          "2009",
          "2010",
          "2011",
          "2012",
          "2013",
          "2014",
          "2015",
          "2016",
          "2017",
          "2018",
          "2019"
         ],
         "xaxis": "x",
         "y": [
          1984072.457583582,
          2172249.098172198,
          1708498.841052452,
          2858746.6827683,
          2780493.016269926,
          2704200.766654652,
          2530238.611127022,
          2254018.890563541,
          1653417.308310244,
          2195874.497524994,
          1702230.488794666,
          2044576.744882508,
          2068243.346429007,
          2091872.788899557,
          2744844.718777482,
          2769734.075555847,
          2807511.742019128,
          2503798.969285602,
          2519572.616682645
         ],
         "yaxis": "y"
        }
       ],
       "layout": {
        "legend": {
         "title": {
          "text": "Country"
         },
         "tracegroupgap": 0
        },
        "template": {
         "data": {
          "scatter": [
           {
            "type": "scatter"
           }
          ]
         }
        },
        "title": {
         "text": "Forest loss (ha) (2001-2019)"
        },
        "xaxis": {
         "anchor": "y",
         "domain": [
          0,
          1
         ],
         "title": {
          "text": "Year"
         }
        },
        "yaxis": {
         "anchor": "x",
         "domain": [
          0,
          1
         ],
         "title": {
          "text": "Forest loss (ha)"
         }
        }
       }
      },
      "text/html": [
       "<div>                            <div id=\"0401c05b-65c1-46ad-a11d-1c3aeaf5ca1d\" class=\"plotly-graph-div\" style=\"height:525px; width:100%;\"></div>            <script type=\"text/javascript\">                require([\"plotly\"], function(Plotly) {                    window.PLOTLYENV=window.PLOTLYENV || {};                                    if (document.getElementById(\"0401c05b-65c1-46ad-a11d-1c3aeaf5ca1d\")) {                    Plotly.newPlot(                        \"0401c05b-65c1-46ad-a11d-1c3aeaf5ca1d\",                        [{\"hovertemplate\": \"Country=Brazil<br>Year=%{x}<br>Forest loss (ha)=%{y}<extra></extra>\", \"legendgroup\": \"Brazil\", \"line\": {\"color\": \"#1F77B4\", \"dash\": \"solid\"}, \"mode\": \"lines\", \"name\": \"Brazil\", \"orientation\": \"v\", \"showlegend\": true, \"type\": \"scatter\", \"x\": [\"2001\", \"2002\", \"2003\", \"2004\", \"2005\", \"2006\", \"2007\", \"2008\", \"2009\", \"2010\", \"2011\", \"2012\", \"2013\", \"2014\", \"2015\", \"2016\", \"2017\", \"2018\", \"2019\"], \"xaxis\": \"x\", \"y\": [2916052.956820779, 3698285.832216156, 3476182.343238966, 4118077.633625777, 3659656.657785394, 3078603.690970885, 2829743.161776659, 2662236.276062846, 1991225.809759822, 2932560.558450857, 2131993.883126769, 3369963.950471735, 2534049.944533435, 3504423.183207006, 2907436.154841121, 6365150.507012387, 5521583.70598315, 3781310.281137704, 3469847.892758897], \"yaxis\": \"y\"}, {\"hovertemplate\": \"Country=China<br>Year=%{x}<br>Forest loss (ha)=%{y}<extra></extra>\", \"legendgroup\": \"China\", \"line\": {\"color\": \"#FF7F0E\", \"dash\": \"solid\"}, \"mode\": \"lines\", \"name\": \"China\", \"orientation\": \"v\", \"showlegend\": true, \"type\": \"scatter\", \"x\": [\"2001\", \"2002\", \"2003\", \"2004\", \"2005\", \"2006\", \"2007\", \"2008\", \"2009\", \"2010\", \"2011\", \"2012\", \"2013\", \"2014\", \"2015\", \"2016\", \"2017\", \"2018\", \"2019\"], \"xaxis\": \"x\", \"y\": [237231.8343276703, 257590.4353870207, 271141.8709968534, 518951.9225420304, 395518.8977934694, 597428.8606879576, 675162.8039213584, 758953.6019786161, 624705.9030397347, 652315.929719813, 633655.2017602527, 690430.30077009, 642013.1574231136, 755982.1421227508, 701089.2398667467, 1091135.074220504, 1043521.466020941, 947178.1515812476, 904548.5124443736], \"yaxis\": \"y\"}, {\"hovertemplate\": \"Country=India<br>Year=%{x}<br>Forest loss (ha)=%{y}<extra></extra>\", \"legendgroup\": \"India\", \"line\": {\"color\": \"#2CA02C\", \"dash\": \"solid\"}, \"mode\": \"lines\", \"name\": \"India\", \"orientation\": \"v\", \"showlegend\": true, \"type\": \"scatter\", \"x\": [\"2001\", \"2002\", \"2003\", \"2004\", \"2005\", \"2006\", \"2007\", \"2008\", \"2009\", \"2010\", \"2011\", \"2012\", \"2013\", \"2014\", \"2015\", \"2016\", \"2017\", \"2018\", \"2019\"], \"xaxis\": \"x\", \"y\": [65125.24018597444, 56607.07413147417, 51056.43571961303, 80809.25816671757, 65759.69677530149, 74627.14974869754, 81273.40344896649, 94140.53797007172, 87241.92262394012, 55089.36952500952, 103095.182460305, 114299.2070744881, 114340.9641495289, 183197.0198196828, 148933.7750371963, 230149.9912296684, 248776.8834904125, 189943.5356996396, 173306.5055173686], \"yaxis\": \"y\"}, {\"hovertemplate\": \"Country=Russia<br>Year=%{x}<br>Forest loss (ha)=%{y}<extra></extra>\", \"legendgroup\": \"Russia\", \"line\": {\"color\": \"#D62728\", \"dash\": \"solid\"}, \"mode\": \"lines\", \"name\": \"Russia\", \"orientation\": \"v\", \"showlegend\": true, \"type\": \"scatter\", \"x\": [\"2001\", \"2002\", \"2003\", \"2004\", \"2005\", \"2006\", \"2007\", \"2008\", \"2009\", \"2010\", \"2011\", \"2012\", \"2013\", \"2014\", \"2015\", \"2016\", \"2017\", \"2018\", \"2019\"], \"xaxis\": \"x\", \"y\": [2117889.067423614, 3309004.896206619, 3417957.578191841, 4084383.268354156, 1757250.576474664, 2566706.384761261, 2525912.528887274, 3344649.790170185, 2475070.007724821, 2236745.984721255, 3606465.317083256, 6302836.481756436, 5889435.434384281, 5354313.826551007, 2610013.87093348, 6221577.033090347, 6132225.179398515, 6621949.096465349, 4841903.592242062], \"yaxis\": \"y\"}, {\"hovertemplate\": \"Country=United States<br>Year=%{x}<br>Forest loss (ha)=%{y}<extra></extra>\", \"legendgroup\": \"United States\", \"line\": {\"color\": \"#9467BD\", \"dash\": \"solid\"}, \"mode\": \"lines\", \"name\": \"United States\", \"orientation\": \"v\", \"showlegend\": true, \"type\": \"scatter\", \"x\": [\"2001\", \"2002\", \"2003\", \"2004\", \"2005\", \"2006\", \"2007\", \"2008\", \"2009\", \"2010\", \"2011\", \"2012\", \"2013\", \"2014\", \"2015\", \"2016\", \"2017\", \"2018\", \"2019\"], \"xaxis\": \"x\", \"y\": [1984072.457583582, 2172249.098172198, 1708498.841052452, 2858746.6827683, 2780493.016269926, 2704200.766654652, 2530238.611127022, 2254018.890563541, 1653417.308310244, 2195874.497524994, 1702230.488794666, 2044576.744882508, 2068243.346429007, 2091872.788899557, 2744844.718777482, 2769734.075555847, 2807511.742019128, 2503798.969285602, 2519572.616682645], \"yaxis\": \"y\"}],                        {\"legend\": {\"title\": {\"text\": \"Country\"}, \"tracegroupgap\": 0}, \"template\": {\"data\": {\"scatter\": [{\"type\": \"scatter\"}]}}, \"title\": {\"text\": \"Forest loss (ha) (2001-2019)\"}, \"xaxis\": {\"anchor\": \"y\", \"domain\": [0.0, 1.0], \"title\": {\"text\": \"Year\"}}, \"yaxis\": {\"anchor\": \"x\", \"domain\": [0.0, 1.0], \"title\": {\"text\": \"Forest loss (ha)\"}}},                        {\"responsive\": true}                    ).then(function(){\n",
       "                            \n",
       "var gd = document.getElementById('0401c05b-65c1-46ad-a11d-1c3aeaf5ca1d');\n",
       "var x = new MutationObserver(function (mutations, observer) {{\n",
       "        var display = window.getComputedStyle(gd).display;\n",
       "        if (!display || display === 'none') {{\n",
       "            console.log([gd, 'removed!']);\n",
       "            Plotly.purge(gd);\n",
       "            observer.disconnect();\n",
       "        }}\n",
       "}});\n",
       "\n",
       "// Listen for the removal of the full notebook cells\n",
       "var notebookContainer = gd.closest('#notebook-container');\n",
       "if (notebookContainer) {{\n",
       "    x.observe(notebookContainer, {childList: true});\n",
       "}}\n",
       "\n",
       "// Listen for the clearing of the current output cell\n",
       "var outputEl = gd.closest('.output');\n",
       "if (outputEl) {{\n",
       "    x.observe(outputEl, {childList: true});\n",
       "}}\n",
       "\n",
       "                        })                };                });            </script>        </div>"
      ]
     },
     "metadata": {},
     "output_type": "display_data"
    },
    {
     "data": {
      "application/vnd.plotly.v1+json": {
       "config": {
        "plotlyServerURL": "https://plot.ly"
       },
       "data": [
        {
         "hovertemplate": "Country=Brazil<br>Year=%{x}<br>Forest C (TgC)=%{y}<extra></extra>",
         "legendgroup": "Brazil",
         "line": {
          "color": "#1F77B4",
          "dash": "solid"
         },
         "mode": "lines",
         "name": "Brazil",
         "orientation": "v",
         "showlegend": true,
         "type": "scatter",
         "x": [
          "2001",
          "2002",
          "2003",
          "2004",
          "2005",
          "2006",
          "2007",
          "2008",
          "2009",
          "2010",
          "2011",
          "2012",
          "2013",
          "2014",
          "2015",
          "2016",
          "2017",
          "2018",
          "2019"
         ],
         "xaxis": "x",
         "y": [
          47764.26171875,
          47858.43359375,
          47657.234375,
          47757.50390625,
          47140.6640625,
          47327.07421875,
          46869.1484375,
          46837.28515625,
          47217.48046875,
          46547.453125,
          46802.16015625,
          46544.69921875,
          46906.2578125,
          46656.62109375,
          46207.01953125,
          46166.984375,
          46318.2734375,
          46641.125,
          47171.15234375
         ],
         "yaxis": "y"
        },
        {
         "hovertemplate": "Country=China<br>Year=%{x}<br>Forest C (TgC)=%{y}<extra></extra>",
         "legendgroup": "China",
         "line": {
          "color": "#FF7F0E",
          "dash": "solid"
         },
         "mode": "lines",
         "name": "China",
         "orientation": "v",
         "showlegend": true,
         "type": "scatter",
         "x": [
          "2001",
          "2002",
          "2003",
          "2004",
          "2005",
          "2006",
          "2007",
          "2008",
          "2009",
          "2010",
          "2011",
          "2012",
          "2013",
          "2014",
          "2015",
          "2016",
          "2017",
          "2018",
          "2019"
         ],
         "xaxis": "x",
         "y": [
          9985.7333984375,
          10075.8779296875,
          10014.1533203125,
          10105.8603515625,
          10118.109375,
          10130.1708984375,
          10288.447265625,
          10346.3837890625,
          10428.7255859375,
          10351.7900390625,
          10333.8935546875,
          10748.8037109375,
          10787.337890625,
          10797.1865234375,
          11170.9306640625,
          11524.505859375,
          11596.35546875,
          11784.802734375,
          11613.94140625
         ],
         "yaxis": "y"
        },
        {
         "hovertemplate": "Country=India<br>Year=%{x}<br>Forest C (TgC)=%{y}<extra></extra>",
         "legendgroup": "India",
         "line": {
          "color": "#2CA02C",
          "dash": "solid"
         },
         "mode": "lines",
         "name": "India",
         "orientation": "v",
         "showlegend": true,
         "type": "scatter",
         "x": [
          "2001",
          "2002",
          "2003",
          "2004",
          "2005",
          "2006",
          "2007",
          "2008",
          "2009",
          "2010",
          "2011",
          "2012",
          "2013",
          "2014",
          "2015",
          "2016",
          "2017",
          "2018",
          "2019"
         ],
         "xaxis": "x",
         "y": [
          2647.11328125,
          2679.1728515625,
          2724.345703125,
          2756.13671875,
          2766.92724609375,
          2776.653076171875,
          2799.62841796875,
          2817.18603515625,
          2769.564208984375,
          2813.489501953125,
          2838.555419921875,
          2805.172119140625,
          2824.986328125,
          2800.50732421875,
          2842.79736328125,
          2833.357421875,
          2896.71435546875,
          2842.76123046875,
          2851.5869140625
         ],
         "yaxis": "y"
        },
        {
         "hovertemplate": "Country=Russia<br>Year=%{x}<br>Forest C (TgC)=%{y}<extra></extra>",
         "legendgroup": "Russia",
         "line": {
          "color": "#D62728",
          "dash": "solid"
         },
         "mode": "lines",
         "name": "Russia",
         "orientation": "v",
         "showlegend": true,
         "type": "scatter",
         "x": [
          "2001",
          "2002",
          "2003",
          "2004",
          "2005",
          "2006",
          "2007",
          "2008",
          "2009",
          "2010",
          "2011",
          "2012",
          "2013",
          "2014",
          "2015",
          "2016",
          "2017",
          "2018",
          "2019"
         ],
         "xaxis": "x",
         "y": [
          35658.2265625,
          35803.6171875,
          35631.91015625,
          35761.83203125,
          36297.15234375,
          35473.52734375,
          37093.5,
          36728.89453125,
          36532.67578125,
          36414.1953125,
          37058.88671875,
          37234.08984375,
          36794.9609375,
          37333.7109375,
          37582.8359375,
          37840.5625,
          37072.4140625,
          36952.74609375,
          36351.2265625
         ],
         "yaxis": "y"
        },
        {
         "hovertemplate": "Country=United States<br>Year=%{x}<br>Forest C (TgC)=%{y}<extra></extra>",
         "legendgroup": "United States",
         "line": {
          "color": "#9467BD",
          "dash": "solid"
         },
         "mode": "lines",
         "name": "United States",
         "orientation": "v",
         "showlegend": true,
         "type": "scatter",
         "x": [
          "2001",
          "2002",
          "2003",
          "2004",
          "2005",
          "2006",
          "2007",
          "2008",
          "2009",
          "2010",
          "2011",
          "2012",
          "2013",
          "2014",
          "2015",
          "2016",
          "2017",
          "2018",
          "2019"
         ],
         "xaxis": "x",
         "y": [
          18362.099609375,
          18512.201171875,
          18580.42578125,
          18911.658203125,
          18906.55859375,
          18623.763671875,
          18434.05859375,
          18162.111328125,
          18473.037109375,
          18663.10546875,
          18360.48046875,
          18729.259765625,
          18637.1796875,
          18569.935546875,
          18962.078125,
          19032.0234375,
          18911.037109375,
          18694.908203125,
          18715.751953125
         ],
         "yaxis": "y"
        }
       ],
       "layout": {
        "legend": {
         "title": {
          "text": "Country"
         },
         "tracegroupgap": 0
        },
        "template": {
         "data": {
          "scatter": [
           {
            "type": "scatter"
           }
          ]
         }
        },
        "title": {
         "text": "Forest C (TgC) (2001-2019)"
        },
        "xaxis": {
         "anchor": "y",
         "domain": [
          0,
          1
         ],
         "title": {
          "text": "Year"
         }
        },
        "yaxis": {
         "anchor": "x",
         "domain": [
          0,
          1
         ],
         "title": {
          "text": "Forest C (TgC)"
         }
        }
       }
      },
      "text/html": [
       "<div>                            <div id=\"0af26d92-fee3-4a3a-9366-f862f08dc207\" class=\"plotly-graph-div\" style=\"height:525px; width:100%;\"></div>            <script type=\"text/javascript\">                require([\"plotly\"], function(Plotly) {                    window.PLOTLYENV=window.PLOTLYENV || {};                                    if (document.getElementById(\"0af26d92-fee3-4a3a-9366-f862f08dc207\")) {                    Plotly.newPlot(                        \"0af26d92-fee3-4a3a-9366-f862f08dc207\",                        [{\"hovertemplate\": \"Country=Brazil<br>Year=%{x}<br>Forest C (TgC)=%{y}<extra></extra>\", \"legendgroup\": \"Brazil\", \"line\": {\"color\": \"#1F77B4\", \"dash\": \"solid\"}, \"mode\": \"lines\", \"name\": \"Brazil\", \"orientation\": \"v\", \"showlegend\": true, \"type\": \"scatter\", \"x\": [\"2001\", \"2002\", \"2003\", \"2004\", \"2005\", \"2006\", \"2007\", \"2008\", \"2009\", \"2010\", \"2011\", \"2012\", \"2013\", \"2014\", \"2015\", \"2016\", \"2017\", \"2018\", \"2019\"], \"xaxis\": \"x\", \"y\": [47764.26171875, 47858.43359375, 47657.234375, 47757.50390625, 47140.6640625, 47327.07421875, 46869.1484375, 46837.28515625, 47217.48046875, 46547.453125, 46802.16015625, 46544.69921875, 46906.2578125, 46656.62109375, 46207.01953125, 46166.984375, 46318.2734375, 46641.125, 47171.15234375], \"yaxis\": \"y\"}, {\"hovertemplate\": \"Country=China<br>Year=%{x}<br>Forest C (TgC)=%{y}<extra></extra>\", \"legendgroup\": \"China\", \"line\": {\"color\": \"#FF7F0E\", \"dash\": \"solid\"}, \"mode\": \"lines\", \"name\": \"China\", \"orientation\": \"v\", \"showlegend\": true, \"type\": \"scatter\", \"x\": [\"2001\", \"2002\", \"2003\", \"2004\", \"2005\", \"2006\", \"2007\", \"2008\", \"2009\", \"2010\", \"2011\", \"2012\", \"2013\", \"2014\", \"2015\", \"2016\", \"2017\", \"2018\", \"2019\"], \"xaxis\": \"x\", \"y\": [9985.7333984375, 10075.8779296875, 10014.1533203125, 10105.8603515625, 10118.109375, 10130.1708984375, 10288.447265625, 10346.3837890625, 10428.7255859375, 10351.7900390625, 10333.8935546875, 10748.8037109375, 10787.337890625, 10797.1865234375, 11170.9306640625, 11524.505859375, 11596.35546875, 11784.802734375, 11613.94140625], \"yaxis\": \"y\"}, {\"hovertemplate\": \"Country=India<br>Year=%{x}<br>Forest C (TgC)=%{y}<extra></extra>\", \"legendgroup\": \"India\", \"line\": {\"color\": \"#2CA02C\", \"dash\": \"solid\"}, \"mode\": \"lines\", \"name\": \"India\", \"orientation\": \"v\", \"showlegend\": true, \"type\": \"scatter\", \"x\": [\"2001\", \"2002\", \"2003\", \"2004\", \"2005\", \"2006\", \"2007\", \"2008\", \"2009\", \"2010\", \"2011\", \"2012\", \"2013\", \"2014\", \"2015\", \"2016\", \"2017\", \"2018\", \"2019\"], \"xaxis\": \"x\", \"y\": [2647.11328125, 2679.1728515625, 2724.345703125, 2756.13671875, 2766.92724609375, 2776.653076171875, 2799.62841796875, 2817.18603515625, 2769.564208984375, 2813.489501953125, 2838.555419921875, 2805.172119140625, 2824.986328125, 2800.50732421875, 2842.79736328125, 2833.357421875, 2896.71435546875, 2842.76123046875, 2851.5869140625], \"yaxis\": \"y\"}, {\"hovertemplate\": \"Country=Russia<br>Year=%{x}<br>Forest C (TgC)=%{y}<extra></extra>\", \"legendgroup\": \"Russia\", \"line\": {\"color\": \"#D62728\", \"dash\": \"solid\"}, \"mode\": \"lines\", \"name\": \"Russia\", \"orientation\": \"v\", \"showlegend\": true, \"type\": \"scatter\", \"x\": [\"2001\", \"2002\", \"2003\", \"2004\", \"2005\", \"2006\", \"2007\", \"2008\", \"2009\", \"2010\", \"2011\", \"2012\", \"2013\", \"2014\", \"2015\", \"2016\", \"2017\", \"2018\", \"2019\"], \"xaxis\": \"x\", \"y\": [35658.2265625, 35803.6171875, 35631.91015625, 35761.83203125, 36297.15234375, 35473.52734375, 37093.5, 36728.89453125, 36532.67578125, 36414.1953125, 37058.88671875, 37234.08984375, 36794.9609375, 37333.7109375, 37582.8359375, 37840.5625, 37072.4140625, 36952.74609375, 36351.2265625], \"yaxis\": \"y\"}, {\"hovertemplate\": \"Country=United States<br>Year=%{x}<br>Forest C (TgC)=%{y}<extra></extra>\", \"legendgroup\": \"United States\", \"line\": {\"color\": \"#9467BD\", \"dash\": \"solid\"}, \"mode\": \"lines\", \"name\": \"United States\", \"orientation\": \"v\", \"showlegend\": true, \"type\": \"scatter\", \"x\": [\"2001\", \"2002\", \"2003\", \"2004\", \"2005\", \"2006\", \"2007\", \"2008\", \"2009\", \"2010\", \"2011\", \"2012\", \"2013\", \"2014\", \"2015\", \"2016\", \"2017\", \"2018\", \"2019\"], \"xaxis\": \"x\", \"y\": [18362.099609375, 18512.201171875, 18580.42578125, 18911.658203125, 18906.55859375, 18623.763671875, 18434.05859375, 18162.111328125, 18473.037109375, 18663.10546875, 18360.48046875, 18729.259765625, 18637.1796875, 18569.935546875, 18962.078125, 19032.0234375, 18911.037109375, 18694.908203125, 18715.751953125], \"yaxis\": \"y\"}],                        {\"legend\": {\"title\": {\"text\": \"Country\"}, \"tracegroupgap\": 0}, \"template\": {\"data\": {\"scatter\": [{\"type\": \"scatter\"}]}}, \"title\": {\"text\": \"Forest C (TgC) (2001-2019)\"}, \"xaxis\": {\"anchor\": \"y\", \"domain\": [0.0, 1.0], \"title\": {\"text\": \"Year\"}}, \"yaxis\": {\"anchor\": \"x\", \"domain\": [0.0, 1.0], \"title\": {\"text\": \"Forest C (TgC)\"}}},                        {\"responsive\": true}                    ).then(function(){\n",
       "                            \n",
       "var gd = document.getElementById('0af26d92-fee3-4a3a-9366-f862f08dc207');\n",
       "var x = new MutationObserver(function (mutations, observer) {{\n",
       "        var display = window.getComputedStyle(gd).display;\n",
       "        if (!display || display === 'none') {{\n",
       "            console.log([gd, 'removed!']);\n",
       "            Plotly.purge(gd);\n",
       "            observer.disconnect();\n",
       "        }}\n",
       "}});\n",
       "\n",
       "// Listen for the removal of the full notebook cells\n",
       "var notebookContainer = gd.closest('#notebook-container');\n",
       "if (notebookContainer) {{\n",
       "    x.observe(notebookContainer, {childList: true});\n",
       "}}\n",
       "\n",
       "// Listen for the clearing of the current output cell\n",
       "var outputEl = gd.closest('.output');\n",
       "if (outputEl) {{\n",
       "    x.observe(outputEl, {childList: true});\n",
       "}}\n",
       "\n",
       "                        })                };                });            </script>        </div>"
      ]
     },
     "metadata": {},
     "output_type": "display_data"
    },
    {
     "data": {
      "application/vnd.plotly.v1+json": {
       "config": {
        "plotlyServerURL": "https://plot.ly"
       },
       "data": [
        {
         "hovertemplate": "Country=Brazil<br>Year=%{x}<br>Nonforest C (TgC)=%{y}<extra></extra>",
         "legendgroup": "Brazil",
         "line": {
          "color": "#1F77B4",
          "dash": "solid"
         },
         "mode": "lines",
         "name": "Brazil",
         "orientation": "v",
         "showlegend": true,
         "type": "scatter",
         "x": [
          "2001",
          "2002",
          "2003",
          "2004",
          "2005",
          "2006",
          "2007",
          "2008",
          "2009",
          "2010",
          "2011",
          "2012",
          "2013",
          "2014",
          "2015",
          "2016",
          "2017",
          "2018",
          "2019"
         ],
         "xaxis": "x",
         "y": [
          7494.42041015625,
          7519.50390625,
          7499.6953125,
          7651.60400390625,
          7500.12109375,
          7592.296875,
          7444.6904296875,
          7466.021484375,
          7911.4033203125,
          7408.6064453125,
          7618.84375,
          7551.435546875,
          7697.21484375,
          7784.1240234375,
          7760.9130859375,
          7599.12353515625,
          7713.099609375,
          7760.796875,
          7823.31982421875
         ],
         "yaxis": "y"
        },
        {
         "hovertemplate": "Country=China<br>Year=%{x}<br>Nonforest C (TgC)=%{y}<extra></extra>",
         "legendgroup": "China",
         "line": {
          "color": "#FF7F0E",
          "dash": "solid"
         },
         "mode": "lines",
         "name": "China",
         "orientation": "v",
         "showlegend": true,
         "type": "scatter",
         "x": [
          "2001",
          "2002",
          "2003",
          "2004",
          "2005",
          "2006",
          "2007",
          "2008",
          "2009",
          "2010",
          "2011",
          "2012",
          "2013",
          "2014",
          "2015",
          "2016",
          "2017",
          "2018",
          "2019"
         ],
         "xaxis": "x",
         "y": [
          8304.2080078125,
          8417.7109375,
          8466.7099609375,
          8365.2470703125,
          8520.330078125,
          8352.5791015625,
          8345.3154296875,
          8452.583984375,
          8361.6689453125,
          8390.06640625,
          8326.21484375,
          8400.62109375,
          8426.66796875,
          8312.5283203125,
          8325.82421875,
          8408.4931640625,
          8381.9912109375,
          8448.2578125,
          8596.3427734375
         ],
         "yaxis": "y"
        },
        {
         "hovertemplate": "Country=India<br>Year=%{x}<br>Nonforest C (TgC)=%{y}<extra></extra>",
         "legendgroup": "India",
         "line": {
          "color": "#2CA02C",
          "dash": "solid"
         },
         "mode": "lines",
         "name": "India",
         "orientation": "v",
         "showlegend": true,
         "type": "scatter",
         "x": [
          "2001",
          "2002",
          "2003",
          "2004",
          "2005",
          "2006",
          "2007",
          "2008",
          "2009",
          "2010",
          "2011",
          "2012",
          "2013",
          "2014",
          "2015",
          "2016",
          "2017",
          "2018",
          "2019"
         ],
         "xaxis": "x",
         "y": [
          2568.406005859375,
          2534.9326171875,
          2537.514892578125,
          2503.173583984375,
          2507.447998046875,
          2482.478759765625,
          2479.43017578125,
          2504.534423828125,
          2480.6884765625,
          2520.60205078125,
          2493.010498046875,
          2465.9599609375,
          2505.2861328125,
          2492.195068359375,
          2529.32470703125,
          2510.106689453125,
          2502.299560546875,
          2529.840087890625,
          2568.412109375
         ],
         "yaxis": "y"
        },
        {
         "hovertemplate": "Country=Russia<br>Year=%{x}<br>Nonforest C (TgC)=%{y}<extra></extra>",
         "legendgroup": "Russia",
         "line": {
          "color": "#D62728",
          "dash": "solid"
         },
         "mode": "lines",
         "name": "Russia",
         "orientation": "v",
         "showlegend": true,
         "type": "scatter",
         "x": [
          "2001",
          "2002",
          "2003",
          "2004",
          "2005",
          "2006",
          "2007",
          "2008",
          "2009",
          "2010",
          "2011",
          "2012",
          "2013",
          "2014",
          "2015",
          "2016",
          "2017",
          "2018",
          "2019"
         ],
         "xaxis": "x",
         "y": [
          18052.07421875,
          18594.12109375,
          18772.9375,
          18880.9921875,
          18032.75390625,
          18577.517578125,
          18632.306640625,
          18420.541015625,
          17924.5234375,
          17596.689453125,
          17660.958984375,
          17547.083984375,
          17245.140625,
          17568.4765625,
          17576.529296875,
          17822.474609375,
          18026.490234375,
          18172.337890625,
          18214.3828125
         ],
         "yaxis": "y"
        },
        {
         "hovertemplate": "Country=United States<br>Year=%{x}<br>Nonforest C (TgC)=%{y}<extra></extra>",
         "legendgroup": "United States",
         "line": {
          "color": "#9467BD",
          "dash": "solid"
         },
         "mode": "lines",
         "name": "United States",
         "orientation": "v",
         "showlegend": true,
         "type": "scatter",
         "x": [
          "2001",
          "2002",
          "2003",
          "2004",
          "2005",
          "2006",
          "2007",
          "2008",
          "2009",
          "2010",
          "2011",
          "2012",
          "2013",
          "2014",
          "2015",
          "2016",
          "2017",
          "2018",
          "2019"
         ],
         "xaxis": "x",
         "y": [
          8492.7958984375,
          8471.2255859375,
          8410.67578125,
          8860.888671875,
          8659.017578125,
          8533.0791015625,
          8637.8466796875,
          8491.130859375,
          8611.283203125,
          8731.46484375,
          8692.3876953125,
          8674.984375,
          8622.296875,
          8607.96875,
          8728.306640625,
          8922.87890625,
          8860.8876953125,
          8807.875,
          8932.51953125
         ],
         "yaxis": "y"
        }
       ],
       "layout": {
        "legend": {
         "title": {
          "text": "Country"
         },
         "tracegroupgap": 0
        },
        "template": {
         "data": {
          "scatter": [
           {
            "type": "scatter"
           }
          ]
         }
        },
        "title": {
         "text": "Nonforest C (TgC) (2001-2019)"
        },
        "xaxis": {
         "anchor": "y",
         "domain": [
          0,
          1
         ],
         "title": {
          "text": "Year"
         }
        },
        "yaxis": {
         "anchor": "x",
         "domain": [
          0,
          1
         ],
         "title": {
          "text": "Nonforest C (TgC)"
         }
        }
       }
      },
      "text/html": [
       "<div>                            <div id=\"abb5f9b5-1ce5-48ca-a6e3-b6040645455e\" class=\"plotly-graph-div\" style=\"height:525px; width:100%;\"></div>            <script type=\"text/javascript\">                require([\"plotly\"], function(Plotly) {                    window.PLOTLYENV=window.PLOTLYENV || {};                                    if (document.getElementById(\"abb5f9b5-1ce5-48ca-a6e3-b6040645455e\")) {                    Plotly.newPlot(                        \"abb5f9b5-1ce5-48ca-a6e3-b6040645455e\",                        [{\"hovertemplate\": \"Country=Brazil<br>Year=%{x}<br>Nonforest C (TgC)=%{y}<extra></extra>\", \"legendgroup\": \"Brazil\", \"line\": {\"color\": \"#1F77B4\", \"dash\": \"solid\"}, \"mode\": \"lines\", \"name\": \"Brazil\", \"orientation\": \"v\", \"showlegend\": true, \"type\": \"scatter\", \"x\": [\"2001\", \"2002\", \"2003\", \"2004\", \"2005\", \"2006\", \"2007\", \"2008\", \"2009\", \"2010\", \"2011\", \"2012\", \"2013\", \"2014\", \"2015\", \"2016\", \"2017\", \"2018\", \"2019\"], \"xaxis\": \"x\", \"y\": [7494.42041015625, 7519.50390625, 7499.6953125, 7651.60400390625, 7500.12109375, 7592.296875, 7444.6904296875, 7466.021484375, 7911.4033203125, 7408.6064453125, 7618.84375, 7551.435546875, 7697.21484375, 7784.1240234375, 7760.9130859375, 7599.12353515625, 7713.099609375, 7760.796875, 7823.31982421875], \"yaxis\": \"y\"}, {\"hovertemplate\": \"Country=China<br>Year=%{x}<br>Nonforest C (TgC)=%{y}<extra></extra>\", \"legendgroup\": \"China\", \"line\": {\"color\": \"#FF7F0E\", \"dash\": \"solid\"}, \"mode\": \"lines\", \"name\": \"China\", \"orientation\": \"v\", \"showlegend\": true, \"type\": \"scatter\", \"x\": [\"2001\", \"2002\", \"2003\", \"2004\", \"2005\", \"2006\", \"2007\", \"2008\", \"2009\", \"2010\", \"2011\", \"2012\", \"2013\", \"2014\", \"2015\", \"2016\", \"2017\", \"2018\", \"2019\"], \"xaxis\": \"x\", \"y\": [8304.2080078125, 8417.7109375, 8466.7099609375, 8365.2470703125, 8520.330078125, 8352.5791015625, 8345.3154296875, 8452.583984375, 8361.6689453125, 8390.06640625, 8326.21484375, 8400.62109375, 8426.66796875, 8312.5283203125, 8325.82421875, 8408.4931640625, 8381.9912109375, 8448.2578125, 8596.3427734375], \"yaxis\": \"y\"}, {\"hovertemplate\": \"Country=India<br>Year=%{x}<br>Nonforest C (TgC)=%{y}<extra></extra>\", \"legendgroup\": \"India\", \"line\": {\"color\": \"#2CA02C\", \"dash\": \"solid\"}, \"mode\": \"lines\", \"name\": \"India\", \"orientation\": \"v\", \"showlegend\": true, \"type\": \"scatter\", \"x\": [\"2001\", \"2002\", \"2003\", \"2004\", \"2005\", \"2006\", \"2007\", \"2008\", \"2009\", \"2010\", \"2011\", \"2012\", \"2013\", \"2014\", \"2015\", \"2016\", \"2017\", \"2018\", \"2019\"], \"xaxis\": \"x\", \"y\": [2568.406005859375, 2534.9326171875, 2537.514892578125, 2503.173583984375, 2507.447998046875, 2482.478759765625, 2479.43017578125, 2504.534423828125, 2480.6884765625, 2520.60205078125, 2493.010498046875, 2465.9599609375, 2505.2861328125, 2492.195068359375, 2529.32470703125, 2510.106689453125, 2502.299560546875, 2529.840087890625, 2568.412109375], \"yaxis\": \"y\"}, {\"hovertemplate\": \"Country=Russia<br>Year=%{x}<br>Nonforest C (TgC)=%{y}<extra></extra>\", \"legendgroup\": \"Russia\", \"line\": {\"color\": \"#D62728\", \"dash\": \"solid\"}, \"mode\": \"lines\", \"name\": \"Russia\", \"orientation\": \"v\", \"showlegend\": true, \"type\": \"scatter\", \"x\": [\"2001\", \"2002\", \"2003\", \"2004\", \"2005\", \"2006\", \"2007\", \"2008\", \"2009\", \"2010\", \"2011\", \"2012\", \"2013\", \"2014\", \"2015\", \"2016\", \"2017\", \"2018\", \"2019\"], \"xaxis\": \"x\", \"y\": [18052.07421875, 18594.12109375, 18772.9375, 18880.9921875, 18032.75390625, 18577.517578125, 18632.306640625, 18420.541015625, 17924.5234375, 17596.689453125, 17660.958984375, 17547.083984375, 17245.140625, 17568.4765625, 17576.529296875, 17822.474609375, 18026.490234375, 18172.337890625, 18214.3828125], \"yaxis\": \"y\"}, {\"hovertemplate\": \"Country=United States<br>Year=%{x}<br>Nonforest C (TgC)=%{y}<extra></extra>\", \"legendgroup\": \"United States\", \"line\": {\"color\": \"#9467BD\", \"dash\": \"solid\"}, \"mode\": \"lines\", \"name\": \"United States\", \"orientation\": \"v\", \"showlegend\": true, \"type\": \"scatter\", \"x\": [\"2001\", \"2002\", \"2003\", \"2004\", \"2005\", \"2006\", \"2007\", \"2008\", \"2009\", \"2010\", \"2011\", \"2012\", \"2013\", \"2014\", \"2015\", \"2016\", \"2017\", \"2018\", \"2019\"], \"xaxis\": \"x\", \"y\": [8492.7958984375, 8471.2255859375, 8410.67578125, 8860.888671875, 8659.017578125, 8533.0791015625, 8637.8466796875, 8491.130859375, 8611.283203125, 8731.46484375, 8692.3876953125, 8674.984375, 8622.296875, 8607.96875, 8728.306640625, 8922.87890625, 8860.8876953125, 8807.875, 8932.51953125], \"yaxis\": \"y\"}],                        {\"legend\": {\"title\": {\"text\": \"Country\"}, \"tracegroupgap\": 0}, \"template\": {\"data\": {\"scatter\": [{\"type\": \"scatter\"}]}}, \"title\": {\"text\": \"Nonforest C (TgC) (2001-2019)\"}, \"xaxis\": {\"anchor\": \"y\", \"domain\": [0.0, 1.0], \"title\": {\"text\": \"Year\"}}, \"yaxis\": {\"anchor\": \"x\", \"domain\": [0.0, 1.0], \"title\": {\"text\": \"Nonforest C (TgC)\"}}},                        {\"responsive\": true}                    ).then(function(){\n",
       "                            \n",
       "var gd = document.getElementById('abb5f9b5-1ce5-48ca-a6e3-b6040645455e');\n",
       "var x = new MutationObserver(function (mutations, observer) {{\n",
       "        var display = window.getComputedStyle(gd).display;\n",
       "        if (!display || display === 'none') {{\n",
       "            console.log([gd, 'removed!']);\n",
       "            Plotly.purge(gd);\n",
       "            observer.disconnect();\n",
       "        }}\n",
       "}});\n",
       "\n",
       "// Listen for the removal of the full notebook cells\n",
       "var notebookContainer = gd.closest('#notebook-container');\n",
       "if (notebookContainer) {{\n",
       "    x.observe(notebookContainer, {childList: true});\n",
       "}}\n",
       "\n",
       "// Listen for the clearing of the current output cell\n",
       "var outputEl = gd.closest('.output');\n",
       "if (outputEl) {{\n",
       "    x.observe(outputEl, {childList: true});\n",
       "}}\n",
       "\n",
       "                        })                };                });            </script>        </div>"
      ]
     },
     "metadata": {},
     "output_type": "display_data"
    },
    {
     "data": {
      "application/vnd.plotly.v1+json": {
       "config": {
        "plotlyServerURL": "https://plot.ly"
       },
       "data": [
        {
         "hovertemplate": "Country=Brazil<br>Year=%{x}<br>Total C (TgC)=%{y}<extra></extra>",
         "legendgroup": "Brazil",
         "line": {
          "color": "#1F77B4",
          "dash": "solid"
         },
         "mode": "lines",
         "name": "Brazil",
         "orientation": "v",
         "showlegend": true,
         "type": "scatter",
         "x": [
          "2001",
          "2002",
          "2003",
          "2004",
          "2005",
          "2006",
          "2007",
          "2008",
          "2009",
          "2010",
          "2011",
          "2012",
          "2013",
          "2014",
          "2015",
          "2016",
          "2017",
          "2018",
          "2019"
         ],
         "xaxis": "x",
         "y": [
          55258.6796875,
          55377.92578125,
          55156.953125,
          55409.10546875,
          54640.765625,
          54919.3984375,
          54313.8125,
          54303.328125,
          55128.89453125,
          53956.046875,
          54420.97265625,
          54096.11328125,
          54603.4609375,
          54440.7421875,
          53967.9296875,
          53766.12890625,
          54031.3828125,
          54401.953125,
          54994.46875
         ],
         "yaxis": "y"
        },
        {
         "hovertemplate": "Country=China<br>Year=%{x}<br>Total C (TgC)=%{y}<extra></extra>",
         "legendgroup": "China",
         "line": {
          "color": "#FF7F0E",
          "dash": "solid"
         },
         "mode": "lines",
         "name": "China",
         "orientation": "v",
         "showlegend": true,
         "type": "scatter",
         "x": [
          "2001",
          "2002",
          "2003",
          "2004",
          "2005",
          "2006",
          "2007",
          "2008",
          "2009",
          "2010",
          "2011",
          "2012",
          "2013",
          "2014",
          "2015",
          "2016",
          "2017",
          "2018",
          "2019"
         ],
         "xaxis": "x",
         "y": [
          18289.939453125,
          18493.595703125,
          18480.8671875,
          18471.107421875,
          18638.4375,
          18482.75390625,
          18633.7578125,
          18798.96484375,
          18790.39453125,
          18741.859375,
          18660.111328125,
          19149.427734375,
          19214,
          19109.71484375,
          19496.751953125,
          19932.99609375,
          19978.353515625,
          20233.064453125,
          20210.28125
         ],
         "yaxis": "y"
        },
        {
         "hovertemplate": "Country=India<br>Year=%{x}<br>Total C (TgC)=%{y}<extra></extra>",
         "legendgroup": "India",
         "line": {
          "color": "#2CA02C",
          "dash": "solid"
         },
         "mode": "lines",
         "name": "India",
         "orientation": "v",
         "showlegend": true,
         "type": "scatter",
         "x": [
          "2001",
          "2002",
          "2003",
          "2004",
          "2005",
          "2006",
          "2007",
          "2008",
          "2009",
          "2010",
          "2011",
          "2012",
          "2013",
          "2014",
          "2015",
          "2016",
          "2017",
          "2018",
          "2019"
         ],
         "xaxis": "x",
         "y": [
          5215.51708984375,
          5214.10498046875,
          5261.86279296875,
          5259.30859375,
          5274.37548828125,
          5259.13037109375,
          5279.0595703125,
          5321.7197265625,
          5250.2548828125,
          5334.0908203125,
          5331.5654296875,
          5271.13330078125,
          5330.271484375,
          5292.70263671875,
          5372.12353515625,
          5343.462890625,
          5399.01416015625,
          5372.5986328125,
          5419.9970703125
         ],
         "yaxis": "y"
        },
        {
         "hovertemplate": "Country=Russia<br>Year=%{x}<br>Total C (TgC)=%{y}<extra></extra>",
         "legendgroup": "Russia",
         "line": {
          "color": "#D62728",
          "dash": "solid"
         },
         "mode": "lines",
         "name": "Russia",
         "orientation": "v",
         "showlegend": true,
         "type": "scatter",
         "x": [
          "2001",
          "2002",
          "2003",
          "2004",
          "2005",
          "2006",
          "2007",
          "2008",
          "2009",
          "2010",
          "2011",
          "2012",
          "2013",
          "2014",
          "2015",
          "2016",
          "2017",
          "2018",
          "2019"
         ],
         "xaxis": "x",
         "y": [
          53710.30078125,
          54397.734375,
          54404.859375,
          54642.82421875,
          54329.91015625,
          54051.046875,
          55725.80859375,
          55149.42578125,
          54457.19140625,
          54010.890625,
          54719.859375,
          54781.17578125,
          54040.09765625,
          54902.16015625,
          55159.4140625,
          55663.04296875,
          55098.9140625,
          55125.0703125,
          54565.6484375
         ],
         "yaxis": "y"
        },
        {
         "hovertemplate": "Country=United States<br>Year=%{x}<br>Total C (TgC)=%{y}<extra></extra>",
         "legendgroup": "United States",
         "line": {
          "color": "#9467BD",
          "dash": "solid"
         },
         "mode": "lines",
         "name": "United States",
         "orientation": "v",
         "showlegend": true,
         "type": "scatter",
         "x": [
          "2001",
          "2002",
          "2003",
          "2004",
          "2005",
          "2006",
          "2007",
          "2008",
          "2009",
          "2010",
          "2011",
          "2012",
          "2013",
          "2014",
          "2015",
          "2016",
          "2017",
          "2018",
          "2019"
         ],
         "xaxis": "x",
         "y": [
          26854.89453125,
          26983.4296875,
          26991.123046875,
          27772.544921875,
          27565.572265625,
          27156.845703125,
          27071.919921875,
          26653.244140625,
          27084.3203125,
          27394.564453125,
          27052.861328125,
          27404.24609375,
          27259.48046875,
          27177.90625,
          27690.38671875,
          27954.8984375,
          27771.919921875,
          27502.783203125,
          27648.265625
         ],
         "yaxis": "y"
        }
       ],
       "layout": {
        "legend": {
         "title": {
          "text": "Country"
         },
         "tracegroupgap": 0
        },
        "template": {
         "data": {
          "scatter": [
           {
            "type": "scatter"
           }
          ]
         }
        },
        "title": {
         "text": "Total C (TgC) (2001-2019)"
        },
        "xaxis": {
         "anchor": "y",
         "domain": [
          0,
          1
         ],
         "title": {
          "text": "Year"
         }
        },
        "yaxis": {
         "anchor": "x",
         "domain": [
          0,
          1
         ],
         "title": {
          "text": "Total C (TgC)"
         }
        }
       }
      },
      "text/html": [
       "<div>                            <div id=\"5b473a62-0699-420b-bad4-753623ef40c9\" class=\"plotly-graph-div\" style=\"height:525px; width:100%;\"></div>            <script type=\"text/javascript\">                require([\"plotly\"], function(Plotly) {                    window.PLOTLYENV=window.PLOTLYENV || {};                                    if (document.getElementById(\"5b473a62-0699-420b-bad4-753623ef40c9\")) {                    Plotly.newPlot(                        \"5b473a62-0699-420b-bad4-753623ef40c9\",                        [{\"hovertemplate\": \"Country=Brazil<br>Year=%{x}<br>Total C (TgC)=%{y}<extra></extra>\", \"legendgroup\": \"Brazil\", \"line\": {\"color\": \"#1F77B4\", \"dash\": \"solid\"}, \"mode\": \"lines\", \"name\": \"Brazil\", \"orientation\": \"v\", \"showlegend\": true, \"type\": \"scatter\", \"x\": [\"2001\", \"2002\", \"2003\", \"2004\", \"2005\", \"2006\", \"2007\", \"2008\", \"2009\", \"2010\", \"2011\", \"2012\", \"2013\", \"2014\", \"2015\", \"2016\", \"2017\", \"2018\", \"2019\"], \"xaxis\": \"x\", \"y\": [55258.6796875, 55377.92578125, 55156.953125, 55409.10546875, 54640.765625, 54919.3984375, 54313.8125, 54303.328125, 55128.89453125, 53956.046875, 54420.97265625, 54096.11328125, 54603.4609375, 54440.7421875, 53967.9296875, 53766.12890625, 54031.3828125, 54401.953125, 54994.46875], \"yaxis\": \"y\"}, {\"hovertemplate\": \"Country=China<br>Year=%{x}<br>Total C (TgC)=%{y}<extra></extra>\", \"legendgroup\": \"China\", \"line\": {\"color\": \"#FF7F0E\", \"dash\": \"solid\"}, \"mode\": \"lines\", \"name\": \"China\", \"orientation\": \"v\", \"showlegend\": true, \"type\": \"scatter\", \"x\": [\"2001\", \"2002\", \"2003\", \"2004\", \"2005\", \"2006\", \"2007\", \"2008\", \"2009\", \"2010\", \"2011\", \"2012\", \"2013\", \"2014\", \"2015\", \"2016\", \"2017\", \"2018\", \"2019\"], \"xaxis\": \"x\", \"y\": [18289.939453125, 18493.595703125, 18480.8671875, 18471.107421875, 18638.4375, 18482.75390625, 18633.7578125, 18798.96484375, 18790.39453125, 18741.859375, 18660.111328125, 19149.427734375, 19214.0, 19109.71484375, 19496.751953125, 19932.99609375, 19978.353515625, 20233.064453125, 20210.28125], \"yaxis\": \"y\"}, {\"hovertemplate\": \"Country=India<br>Year=%{x}<br>Total C (TgC)=%{y}<extra></extra>\", \"legendgroup\": \"India\", \"line\": {\"color\": \"#2CA02C\", \"dash\": \"solid\"}, \"mode\": \"lines\", \"name\": \"India\", \"orientation\": \"v\", \"showlegend\": true, \"type\": \"scatter\", \"x\": [\"2001\", \"2002\", \"2003\", \"2004\", \"2005\", \"2006\", \"2007\", \"2008\", \"2009\", \"2010\", \"2011\", \"2012\", \"2013\", \"2014\", \"2015\", \"2016\", \"2017\", \"2018\", \"2019\"], \"xaxis\": \"x\", \"y\": [5215.51708984375, 5214.10498046875, 5261.86279296875, 5259.30859375, 5274.37548828125, 5259.13037109375, 5279.0595703125, 5321.7197265625, 5250.2548828125, 5334.0908203125, 5331.5654296875, 5271.13330078125, 5330.271484375, 5292.70263671875, 5372.12353515625, 5343.462890625, 5399.01416015625, 5372.5986328125, 5419.9970703125], \"yaxis\": \"y\"}, {\"hovertemplate\": \"Country=Russia<br>Year=%{x}<br>Total C (TgC)=%{y}<extra></extra>\", \"legendgroup\": \"Russia\", \"line\": {\"color\": \"#D62728\", \"dash\": \"solid\"}, \"mode\": \"lines\", \"name\": \"Russia\", \"orientation\": \"v\", \"showlegend\": true, \"type\": \"scatter\", \"x\": [\"2001\", \"2002\", \"2003\", \"2004\", \"2005\", \"2006\", \"2007\", \"2008\", \"2009\", \"2010\", \"2011\", \"2012\", \"2013\", \"2014\", \"2015\", \"2016\", \"2017\", \"2018\", \"2019\"], \"xaxis\": \"x\", \"y\": [53710.30078125, 54397.734375, 54404.859375, 54642.82421875, 54329.91015625, 54051.046875, 55725.80859375, 55149.42578125, 54457.19140625, 54010.890625, 54719.859375, 54781.17578125, 54040.09765625, 54902.16015625, 55159.4140625, 55663.04296875, 55098.9140625, 55125.0703125, 54565.6484375], \"yaxis\": \"y\"}, {\"hovertemplate\": \"Country=United States<br>Year=%{x}<br>Total C (TgC)=%{y}<extra></extra>\", \"legendgroup\": \"United States\", \"line\": {\"color\": \"#9467BD\", \"dash\": \"solid\"}, \"mode\": \"lines\", \"name\": \"United States\", \"orientation\": \"v\", \"showlegend\": true, \"type\": \"scatter\", \"x\": [\"2001\", \"2002\", \"2003\", \"2004\", \"2005\", \"2006\", \"2007\", \"2008\", \"2009\", \"2010\", \"2011\", \"2012\", \"2013\", \"2014\", \"2015\", \"2016\", \"2017\", \"2018\", \"2019\"], \"xaxis\": \"x\", \"y\": [26854.89453125, 26983.4296875, 26991.123046875, 27772.544921875, 27565.572265625, 27156.845703125, 27071.919921875, 26653.244140625, 27084.3203125, 27394.564453125, 27052.861328125, 27404.24609375, 27259.48046875, 27177.90625, 27690.38671875, 27954.8984375, 27771.919921875, 27502.783203125, 27648.265625], \"yaxis\": \"y\"}],                        {\"legend\": {\"title\": {\"text\": \"Country\"}, \"tracegroupgap\": 0}, \"template\": {\"data\": {\"scatter\": [{\"type\": \"scatter\"}]}}, \"title\": {\"text\": \"Total C (TgC) (2001-2019)\"}, \"xaxis\": {\"anchor\": \"y\", \"domain\": [0.0, 1.0], \"title\": {\"text\": \"Year\"}}, \"yaxis\": {\"anchor\": \"x\", \"domain\": [0.0, 1.0], \"title\": {\"text\": \"Total C (TgC)\"}}},                        {\"responsive\": true}                    ).then(function(){\n",
       "                            \n",
       "var gd = document.getElementById('5b473a62-0699-420b-bad4-753623ef40c9');\n",
       "var x = new MutationObserver(function (mutations, observer) {{\n",
       "        var display = window.getComputedStyle(gd).display;\n",
       "        if (!display || display === 'none') {{\n",
       "            console.log([gd, 'removed!']);\n",
       "            Plotly.purge(gd);\n",
       "            observer.disconnect();\n",
       "        }}\n",
       "}});\n",
       "\n",
       "// Listen for the removal of the full notebook cells\n",
       "var notebookContainer = gd.closest('#notebook-container');\n",
       "if (notebookContainer) {{\n",
       "    x.observe(notebookContainer, {childList: true});\n",
       "}}\n",
       "\n",
       "// Listen for the clearing of the current output cell\n",
       "var outputEl = gd.closest('.output');\n",
       "if (outputEl) {{\n",
       "    x.observe(outputEl, {childList: true});\n",
       "}}\n",
       "\n",
       "                        })                };                });            </script>        </div>"
      ]
     },
     "metadata": {},
     "output_type": "display_data"
    },
    {
     "data": {
      "application/vnd.plotly.v1+json": {
       "config": {
        "plotlyServerURL": "https://plot.ly"
       },
       "data": [
        {
         "hovertemplate": "Country=Brazil<br>Year=%{x}<br>Deforestation Emission (TgC)=%{y}<extra></extra>",
         "legendgroup": "Brazil",
         "line": {
          "color": "#1F77B4",
          "dash": "solid"
         },
         "mode": "lines",
         "name": "Brazil",
         "orientation": "v",
         "showlegend": true,
         "type": "scatter",
         "x": [
          "2001",
          "2002",
          "2003",
          "2004",
          "2005",
          "2006",
          "2007",
          "2008",
          "2009",
          "2010",
          "2011",
          "2012",
          "2013",
          "2014",
          "2015",
          "2016",
          "2017",
          "2018",
          "2019"
         ],
         "xaxis": "x",
         "y": [
          228.2197570800781,
          312.8970031738281,
          283.6983642578125,
          372.02392578125,
          344.2225036621094,
          272.1458740234375,
          223.2189483642578,
          223.9928741455078,
          168.8475952148438,
          241.5009918212891,
          177.7043762207031,
          272.6616821289062,
          195.6018981933594,
          284.5830993652344,
          240.9211883544922,
          671.2031860351562,
          546.3834838867188,
          380.5640563964844,
          378.3265380859375
         ],
         "yaxis": "y"
        },
        {
         "hovertemplate": "Country=China<br>Year=%{x}<br>Deforestation Emission (TgC)=%{y}<extra></extra>",
         "legendgroup": "China",
         "line": {
          "color": "#FF7F0E",
          "dash": "solid"
         },
         "mode": "lines",
         "name": "China",
         "orientation": "v",
         "showlegend": true,
         "type": "scatter",
         "x": [
          "2001",
          "2002",
          "2003",
          "2004",
          "2005",
          "2006",
          "2007",
          "2008",
          "2009",
          "2010",
          "2011",
          "2012",
          "2013",
          "2014",
          "2015",
          "2016",
          "2017",
          "2018",
          "2019"
         ],
         "xaxis": "x",
         "y": [
          15.44486522674561,
          16.63287162780762,
          16.68639755249023,
          33.20782470703125,
          26.06899070739746,
          39.87996292114258,
          45.73014068603516,
          52.70618438720703,
          43.42278671264648,
          44.46397018432617,
          44.70673370361328,
          50.09086990356445,
          48.02328491210938,
          56.62766265869141,
          54.35542297363281,
          88.69678497314453,
          85.36799621582031,
          78.61302947998047,
          73.92788696289062
         ],
         "yaxis": "y"
        },
        {
         "hovertemplate": "Country=India<br>Year=%{x}<br>Deforestation Emission (TgC)=%{y}<extra></extra>",
         "legendgroup": "India",
         "line": {
          "color": "#2CA02C",
          "dash": "solid"
         },
         "mode": "lines",
         "name": "India",
         "orientation": "v",
         "showlegend": true,
         "type": "scatter",
         "x": [
          "2001",
          "2002",
          "2003",
          "2004",
          "2005",
          "2006",
          "2007",
          "2008",
          "2009",
          "2010",
          "2011",
          "2012",
          "2013",
          "2014",
          "2015",
          "2016",
          "2017",
          "2018",
          "2019"
         ],
         "xaxis": "x",
         "y": [
          5.544442176818848,
          4.856884956359863,
          4.337171077728271,
          6.952773571014404,
          5.645979881286621,
          6.141857147216797,
          6.737735271453857,
          7.777865886688232,
          7.063275337219238,
          4.649818420410156,
          8.31965160369873,
          9.70473861694336,
          10.01283168792725,
          16.34258079528809,
          14.21988391876221,
          22.14834976196289,
          25.27519607543945,
          18.07235717773438,
          16.4760799407959
         ],
         "yaxis": "y"
        },
        {
         "hovertemplate": "Country=Russia<br>Year=%{x}<br>Deforestation Emission (TgC)=%{y}<extra></extra>",
         "legendgroup": "Russia",
         "line": {
          "color": "#D62728",
          "dash": "solid"
         },
         "mode": "lines",
         "name": "Russia",
         "orientation": "v",
         "showlegend": true,
         "type": "scatter",
         "x": [
          "2001",
          "2002",
          "2003",
          "2004",
          "2005",
          "2006",
          "2007",
          "2008",
          "2009",
          "2010",
          "2011",
          "2012",
          "2013",
          "2014",
          "2015",
          "2016",
          "2017",
          "2018",
          "2019"
         ],
         "xaxis": "x",
         "y": [
          127.0714569091797,
          188.5331268310547,
          203.5782012939453,
          282.8433227539062,
          122.5791931152344,
          162.6036529541016,
          207.5769958496094,
          238.8246612548828,
          170.4357452392578,
          162.9347839355469,
          256.6402893066406,
          510.9105224609375,
          503.5078735351562,
          403.9400024414062,
          198.6155090332031,
          551.3092651367188,
          626.2847900390625,
          527.5335083007812,
          391.7591857910156
         ],
         "yaxis": "y"
        },
        {
         "hovertemplate": "Country=United States<br>Year=%{x}<br>Deforestation Emission (TgC)=%{y}<extra></extra>",
         "legendgroup": "United States",
         "line": {
          "color": "#9467BD",
          "dash": "solid"
         },
         "mode": "lines",
         "name": "United States",
         "orientation": "v",
         "showlegend": true,
         "type": "scatter",
         "x": [
          "2001",
          "2002",
          "2003",
          "2004",
          "2005",
          "2006",
          "2007",
          "2008",
          "2009",
          "2010",
          "2011",
          "2012",
          "2013",
          "2014",
          "2015",
          "2016",
          "2017",
          "2018",
          "2019"
         ],
         "xaxis": "x",
         "y": [
          153.6947326660156,
          176.1997680664062,
          135.3092956542969,
          204.3174133300781,
          192.9934997558594,
          203.3115844726562,
          201.1025848388672,
          202.2536926269531,
          139.2911529541016,
          165.9842376708984,
          138.8659362792969,
          172.2891082763672,
          167.5237121582031,
          186.6509094238281,
          219.5690460205078,
          258.5198059082031,
          264.5505676269531,
          260.2403259277344,
          230.8091278076172
         ],
         "yaxis": "y"
        }
       ],
       "layout": {
        "legend": {
         "title": {
          "text": "Country"
         },
         "tracegroupgap": 0
        },
        "template": {
         "data": {
          "scatter": [
           {
            "type": "scatter"
           }
          ]
         }
        },
        "title": {
         "text": "Deforestation Emission (TgC) (2001-2019)"
        },
        "xaxis": {
         "anchor": "y",
         "domain": [
          0,
          1
         ],
         "title": {
          "text": "Year"
         }
        },
        "yaxis": {
         "anchor": "x",
         "domain": [
          0,
          1
         ],
         "title": {
          "text": "Deforestation Emission (TgC)"
         }
        }
       }
      },
      "text/html": [
       "<div>                            <div id=\"5db3daf2-ff92-4ff5-975c-8cd3733178cb\" class=\"plotly-graph-div\" style=\"height:525px; width:100%;\"></div>            <script type=\"text/javascript\">                require([\"plotly\"], function(Plotly) {                    window.PLOTLYENV=window.PLOTLYENV || {};                                    if (document.getElementById(\"5db3daf2-ff92-4ff5-975c-8cd3733178cb\")) {                    Plotly.newPlot(                        \"5db3daf2-ff92-4ff5-975c-8cd3733178cb\",                        [{\"hovertemplate\": \"Country=Brazil<br>Year=%{x}<br>Deforestation Emission (TgC)=%{y}<extra></extra>\", \"legendgroup\": \"Brazil\", \"line\": {\"color\": \"#1F77B4\", \"dash\": \"solid\"}, \"mode\": \"lines\", \"name\": \"Brazil\", \"orientation\": \"v\", \"showlegend\": true, \"type\": \"scatter\", \"x\": [\"2001\", \"2002\", \"2003\", \"2004\", \"2005\", \"2006\", \"2007\", \"2008\", \"2009\", \"2010\", \"2011\", \"2012\", \"2013\", \"2014\", \"2015\", \"2016\", \"2017\", \"2018\", \"2019\"], \"xaxis\": \"x\", \"y\": [228.2197570800781, 312.8970031738281, 283.6983642578125, 372.02392578125, 344.2225036621094, 272.1458740234375, 223.2189483642578, 223.9928741455078, 168.8475952148438, 241.5009918212891, 177.7043762207031, 272.6616821289062, 195.6018981933594, 284.5830993652344, 240.9211883544922, 671.2031860351562, 546.3834838867188, 380.5640563964844, 378.3265380859375], \"yaxis\": \"y\"}, {\"hovertemplate\": \"Country=China<br>Year=%{x}<br>Deforestation Emission (TgC)=%{y}<extra></extra>\", \"legendgroup\": \"China\", \"line\": {\"color\": \"#FF7F0E\", \"dash\": \"solid\"}, \"mode\": \"lines\", \"name\": \"China\", \"orientation\": \"v\", \"showlegend\": true, \"type\": \"scatter\", \"x\": [\"2001\", \"2002\", \"2003\", \"2004\", \"2005\", \"2006\", \"2007\", \"2008\", \"2009\", \"2010\", \"2011\", \"2012\", \"2013\", \"2014\", \"2015\", \"2016\", \"2017\", \"2018\", \"2019\"], \"xaxis\": \"x\", \"y\": [15.44486522674561, 16.63287162780762, 16.68639755249023, 33.20782470703125, 26.06899070739746, 39.87996292114258, 45.73014068603516, 52.70618438720703, 43.42278671264648, 44.46397018432617, 44.70673370361328, 50.09086990356445, 48.02328491210938, 56.62766265869141, 54.35542297363281, 88.69678497314453, 85.36799621582031, 78.61302947998047, 73.92788696289062], \"yaxis\": \"y\"}, {\"hovertemplate\": \"Country=India<br>Year=%{x}<br>Deforestation Emission (TgC)=%{y}<extra></extra>\", \"legendgroup\": \"India\", \"line\": {\"color\": \"#2CA02C\", \"dash\": \"solid\"}, \"mode\": \"lines\", \"name\": \"India\", \"orientation\": \"v\", \"showlegend\": true, \"type\": \"scatter\", \"x\": [\"2001\", \"2002\", \"2003\", \"2004\", \"2005\", \"2006\", \"2007\", \"2008\", \"2009\", \"2010\", \"2011\", \"2012\", \"2013\", \"2014\", \"2015\", \"2016\", \"2017\", \"2018\", \"2019\"], \"xaxis\": \"x\", \"y\": [5.544442176818848, 4.856884956359863, 4.337171077728271, 6.952773571014404, 5.645979881286621, 6.141857147216797, 6.737735271453857, 7.777865886688232, 7.063275337219238, 4.649818420410156, 8.31965160369873, 9.70473861694336, 10.01283168792725, 16.34258079528809, 14.21988391876221, 22.14834976196289, 25.27519607543945, 18.07235717773438, 16.4760799407959], \"yaxis\": \"y\"}, {\"hovertemplate\": \"Country=Russia<br>Year=%{x}<br>Deforestation Emission (TgC)=%{y}<extra></extra>\", \"legendgroup\": \"Russia\", \"line\": {\"color\": \"#D62728\", \"dash\": \"solid\"}, \"mode\": \"lines\", \"name\": \"Russia\", \"orientation\": \"v\", \"showlegend\": true, \"type\": \"scatter\", \"x\": [\"2001\", \"2002\", \"2003\", \"2004\", \"2005\", \"2006\", \"2007\", \"2008\", \"2009\", \"2010\", \"2011\", \"2012\", \"2013\", \"2014\", \"2015\", \"2016\", \"2017\", \"2018\", \"2019\"], \"xaxis\": \"x\", \"y\": [127.0714569091797, 188.5331268310547, 203.5782012939453, 282.8433227539062, 122.5791931152344, 162.6036529541016, 207.5769958496094, 238.8246612548828, 170.4357452392578, 162.9347839355469, 256.6402893066406, 510.9105224609375, 503.5078735351562, 403.9400024414062, 198.6155090332031, 551.3092651367188, 626.2847900390625, 527.5335083007812, 391.7591857910156], \"yaxis\": \"y\"}, {\"hovertemplate\": \"Country=United States<br>Year=%{x}<br>Deforestation Emission (TgC)=%{y}<extra></extra>\", \"legendgroup\": \"United States\", \"line\": {\"color\": \"#9467BD\", \"dash\": \"solid\"}, \"mode\": \"lines\", \"name\": \"United States\", \"orientation\": \"v\", \"showlegend\": true, \"type\": \"scatter\", \"x\": [\"2001\", \"2002\", \"2003\", \"2004\", \"2005\", \"2006\", \"2007\", \"2008\", \"2009\", \"2010\", \"2011\", \"2012\", \"2013\", \"2014\", \"2015\", \"2016\", \"2017\", \"2018\", \"2019\"], \"xaxis\": \"x\", \"y\": [153.6947326660156, 176.1997680664062, 135.3092956542969, 204.3174133300781, 192.9934997558594, 203.3115844726562, 201.1025848388672, 202.2536926269531, 139.2911529541016, 165.9842376708984, 138.8659362792969, 172.2891082763672, 167.5237121582031, 186.6509094238281, 219.5690460205078, 258.5198059082031, 264.5505676269531, 260.2403259277344, 230.8091278076172], \"yaxis\": \"y\"}],                        {\"legend\": {\"title\": {\"text\": \"Country\"}, \"tracegroupgap\": 0}, \"template\": {\"data\": {\"scatter\": [{\"type\": \"scatter\"}]}}, \"title\": {\"text\": \"Deforestation Emission (TgC) (2001-2019)\"}, \"xaxis\": {\"anchor\": \"y\", \"domain\": [0.0, 1.0], \"title\": {\"text\": \"Year\"}}, \"yaxis\": {\"anchor\": \"x\", \"domain\": [0.0, 1.0], \"title\": {\"text\": \"Deforestation Emission (TgC)\"}}},                        {\"responsive\": true}                    ).then(function(){\n",
       "                            \n",
       "var gd = document.getElementById('5db3daf2-ff92-4ff5-975c-8cd3733178cb');\n",
       "var x = new MutationObserver(function (mutations, observer) {{\n",
       "        var display = window.getComputedStyle(gd).display;\n",
       "        if (!display || display === 'none') {{\n",
       "            console.log([gd, 'removed!']);\n",
       "            Plotly.purge(gd);\n",
       "            observer.disconnect();\n",
       "        }}\n",
       "}});\n",
       "\n",
       "// Listen for the removal of the full notebook cells\n",
       "var notebookContainer = gd.closest('#notebook-container');\n",
       "if (notebookContainer) {{\n",
       "    x.observe(notebookContainer, {childList: true});\n",
       "}}\n",
       "\n",
       "// Listen for the clearing of the current output cell\n",
       "var outputEl = gd.closest('.output');\n",
       "if (outputEl) {{\n",
       "    x.observe(outputEl, {childList: true});\n",
       "}}\n",
       "\n",
       "                        })                };                });            </script>        </div>"
      ]
     },
     "metadata": {},
     "output_type": "display_data"
    },
    {
     "data": {
      "application/vnd.plotly.v1+json": {
       "config": {
        "plotlyServerURL": "https://plot.ly"
       },
       "data": [
        {
         "hovertemplate": "Country=Brazil<br>Year=%{x}<br>Degradation Emission (TgC)=%{y}<extra></extra>",
         "legendgroup": "Brazil",
         "line": {
          "color": "#1F77B4",
          "dash": "solid"
         },
         "mode": "lines",
         "name": "Brazil",
         "orientation": "v",
         "showlegend": true,
         "type": "scatter",
         "x": [
          "2001",
          "2002",
          "2003",
          "2004",
          "2005",
          "2006",
          "2007",
          "2008",
          "2009",
          "2010",
          "2011",
          "2012",
          "2013",
          "2014",
          "2015",
          "2016",
          "2017",
          "2018",
          "2019"
         ],
         "xaxis": "x",
         "y": [
          68.11779022216797,
          68.53475189208984,
          70.31684875488281,
          70.62657165527344,
          71.83845520019531,
          73.47357177734375,
          73.06415557861328,
          71.29814910888672,
          74.41754150390625,
          76.54718017578125,
          72.42637634277344,
          74.6019058227539,
          68.85247802734375,
          70.75762176513672,
          69.00074005126953,
          69.99396514892578,
          69.0533676147461,
          70.06912994384766,
          73.54304504394531
         ],
         "yaxis": "y"
        },
        {
         "hovertemplate": "Country=China<br>Year=%{x}<br>Degradation Emission (TgC)=%{y}<extra></extra>",
         "legendgroup": "China",
         "line": {
          "color": "#FF7F0E",
          "dash": "solid"
         },
         "mode": "lines",
         "name": "China",
         "orientation": "v",
         "showlegend": true,
         "type": "scatter",
         "x": [
          "2001",
          "2002",
          "2003",
          "2004",
          "2005",
          "2006",
          "2007",
          "2008",
          "2009",
          "2010",
          "2011",
          "2012",
          "2013",
          "2014",
          "2015",
          "2016",
          "2017",
          "2018",
          "2019"
         ],
         "xaxis": "x",
         "y": [
          26.60134124755859,
          26.50012969970703,
          26.04133987426758,
          25.84415435791016,
          26.41456985473633,
          26.08983993530273,
          26.82170295715332,
          27.12354850769043,
          26.91728401184082,
          27.64180564880371,
          27.50341033935547,
          28.02733421325684,
          28.62495422363281,
          29.14303588867188,
          29.38043594360352,
          30.8516731262207,
          32.07427215576172,
          32.45858383178711,
          32.02055358886719
         ],
         "yaxis": "y"
        },
        {
         "hovertemplate": "Country=India<br>Year=%{x}<br>Degradation Emission (TgC)=%{y}<extra></extra>",
         "legendgroup": "India",
         "line": {
          "color": "#2CA02C",
          "dash": "solid"
         },
         "mode": "lines",
         "name": "India",
         "orientation": "v",
         "showlegend": true,
         "type": "scatter",
         "x": [
          "2001",
          "2002",
          "2003",
          "2004",
          "2005",
          "2006",
          "2007",
          "2008",
          "2009",
          "2010",
          "2011",
          "2012",
          "2013",
          "2014",
          "2015",
          "2016",
          "2017",
          "2018",
          "2019"
         ],
         "xaxis": "x",
         "y": [
          8.613763809204102,
          8.729846000671387,
          8.342779159545898,
          8.024748802185059,
          8.566610336303711,
          7.910059452056885,
          8.17972469329834,
          8.564446449279785,
          7.287867069244385,
          7.293107509613037,
          8.418756484985352,
          8.074883460998535,
          8.101885795593262,
          8.240479469299316,
          8.340920448303223,
          8.81698226928711,
          8.820809364318848,
          9.051438331604004,
          9.27926254272461
         ],
         "yaxis": "y"
        },
        {
         "hovertemplate": "Country=Russia<br>Year=%{x}<br>Degradation Emission (TgC)=%{y}<extra></extra>",
         "legendgroup": "Russia",
         "line": {
          "color": "#D62728",
          "dash": "solid"
         },
         "mode": "lines",
         "name": "Russia",
         "orientation": "v",
         "showlegend": true,
         "type": "scatter",
         "x": [
          "2001",
          "2002",
          "2003",
          "2004",
          "2005",
          "2006",
          "2007",
          "2008",
          "2009",
          "2010",
          "2011",
          "2012",
          "2013",
          "2014",
          "2015",
          "2016",
          "2017",
          "2018",
          "2019"
         ],
         "xaxis": "x",
         "y": [
          0,
          0,
          0,
          0,
          0,
          0,
          0,
          0,
          0,
          0,
          0,
          0,
          0,
          0,
          0,
          0,
          0,
          0,
          0
         ],
         "yaxis": "y"
        },
        {
         "hovertemplate": "Country=United States<br>Year=%{x}<br>Degradation Emission (TgC)=%{y}<extra></extra>",
         "legendgroup": "United States",
         "line": {
          "color": "#9467BD",
          "dash": "solid"
         },
         "mode": "lines",
         "name": "United States",
         "orientation": "v",
         "showlegend": true,
         "type": "scatter",
         "x": [
          "2001",
          "2002",
          "2003",
          "2004",
          "2005",
          "2006",
          "2007",
          "2008",
          "2009",
          "2010",
          "2011",
          "2012",
          "2013",
          "2014",
          "2015",
          "2016",
          "2017",
          "2018",
          "2019"
         ],
         "xaxis": "x",
         "y": [
          0.3023506700992584,
          0.2973914444446564,
          0.2890048027038574,
          0.2955517470836639,
          0.3146061301231384,
          0.2983746826648712,
          0.2760803997516632,
          0.3059327602386475,
          0.2907739877700806,
          0.2920516729354858,
          0.3019268214702606,
          0.2777313888072968,
          0.2888458669185638,
          0.2943598628044128,
          0.2926123738288879,
          0.2986699044704437,
          0.3026682138442993,
          0.3149584829807281,
          0.3149585127830505
         ],
         "yaxis": "y"
        }
       ],
       "layout": {
        "legend": {
         "title": {
          "text": "Country"
         },
         "tracegroupgap": 0
        },
        "template": {
         "data": {
          "scatter": [
           {
            "type": "scatter"
           }
          ]
         }
        },
        "title": {
         "text": "Degradation Emission (TgC) (2001-2019)"
        },
        "xaxis": {
         "anchor": "y",
         "domain": [
          0,
          1
         ],
         "title": {
          "text": "Year"
         }
        },
        "yaxis": {
         "anchor": "x",
         "domain": [
          0,
          1
         ],
         "title": {
          "text": "Degradation Emission (TgC)"
         }
        }
       }
      },
      "text/html": [
       "<div>                            <div id=\"4f3011ba-6200-4b01-9688-8082a1dee9cc\" class=\"plotly-graph-div\" style=\"height:525px; width:100%;\"></div>            <script type=\"text/javascript\">                require([\"plotly\"], function(Plotly) {                    window.PLOTLYENV=window.PLOTLYENV || {};                                    if (document.getElementById(\"4f3011ba-6200-4b01-9688-8082a1dee9cc\")) {                    Plotly.newPlot(                        \"4f3011ba-6200-4b01-9688-8082a1dee9cc\",                        [{\"hovertemplate\": \"Country=Brazil<br>Year=%{x}<br>Degradation Emission (TgC)=%{y}<extra></extra>\", \"legendgroup\": \"Brazil\", \"line\": {\"color\": \"#1F77B4\", \"dash\": \"solid\"}, \"mode\": \"lines\", \"name\": \"Brazil\", \"orientation\": \"v\", \"showlegend\": true, \"type\": \"scatter\", \"x\": [\"2001\", \"2002\", \"2003\", \"2004\", \"2005\", \"2006\", \"2007\", \"2008\", \"2009\", \"2010\", \"2011\", \"2012\", \"2013\", \"2014\", \"2015\", \"2016\", \"2017\", \"2018\", \"2019\"], \"xaxis\": \"x\", \"y\": [68.11779022216797, 68.53475189208984, 70.31684875488281, 70.62657165527344, 71.83845520019531, 73.47357177734375, 73.06415557861328, 71.29814910888672, 74.41754150390625, 76.54718017578125, 72.42637634277344, 74.6019058227539, 68.85247802734375, 70.75762176513672, 69.00074005126953, 69.99396514892578, 69.0533676147461, 70.06912994384766, 73.54304504394531], \"yaxis\": \"y\"}, {\"hovertemplate\": \"Country=China<br>Year=%{x}<br>Degradation Emission (TgC)=%{y}<extra></extra>\", \"legendgroup\": \"China\", \"line\": {\"color\": \"#FF7F0E\", \"dash\": \"solid\"}, \"mode\": \"lines\", \"name\": \"China\", \"orientation\": \"v\", \"showlegend\": true, \"type\": \"scatter\", \"x\": [\"2001\", \"2002\", \"2003\", \"2004\", \"2005\", \"2006\", \"2007\", \"2008\", \"2009\", \"2010\", \"2011\", \"2012\", \"2013\", \"2014\", \"2015\", \"2016\", \"2017\", \"2018\", \"2019\"], \"xaxis\": \"x\", \"y\": [26.60134124755859, 26.50012969970703, 26.04133987426758, 25.84415435791016, 26.41456985473633, 26.08983993530273, 26.82170295715332, 27.12354850769043, 26.91728401184082, 27.64180564880371, 27.50341033935547, 28.02733421325684, 28.62495422363281, 29.14303588867188, 29.38043594360352, 30.8516731262207, 32.07427215576172, 32.45858383178711, 32.02055358886719], \"yaxis\": \"y\"}, {\"hovertemplate\": \"Country=India<br>Year=%{x}<br>Degradation Emission (TgC)=%{y}<extra></extra>\", \"legendgroup\": \"India\", \"line\": {\"color\": \"#2CA02C\", \"dash\": \"solid\"}, \"mode\": \"lines\", \"name\": \"India\", \"orientation\": \"v\", \"showlegend\": true, \"type\": \"scatter\", \"x\": [\"2001\", \"2002\", \"2003\", \"2004\", \"2005\", \"2006\", \"2007\", \"2008\", \"2009\", \"2010\", \"2011\", \"2012\", \"2013\", \"2014\", \"2015\", \"2016\", \"2017\", \"2018\", \"2019\"], \"xaxis\": \"x\", \"y\": [8.613763809204102, 8.729846000671387, 8.342779159545898, 8.024748802185059, 8.566610336303711, 7.910059452056885, 8.17972469329834, 8.564446449279785, 7.287867069244385, 7.293107509613037, 8.418756484985352, 8.074883460998535, 8.101885795593262, 8.240479469299316, 8.340920448303223, 8.81698226928711, 8.820809364318848, 9.051438331604004, 9.27926254272461], \"yaxis\": \"y\"}, {\"hovertemplate\": \"Country=Russia<br>Year=%{x}<br>Degradation Emission (TgC)=%{y}<extra></extra>\", \"legendgroup\": \"Russia\", \"line\": {\"color\": \"#D62728\", \"dash\": \"solid\"}, \"mode\": \"lines\", \"name\": \"Russia\", \"orientation\": \"v\", \"showlegend\": true, \"type\": \"scatter\", \"x\": [\"2001\", \"2002\", \"2003\", \"2004\", \"2005\", \"2006\", \"2007\", \"2008\", \"2009\", \"2010\", \"2011\", \"2012\", \"2013\", \"2014\", \"2015\", \"2016\", \"2017\", \"2018\", \"2019\"], \"xaxis\": \"x\", \"y\": [0.0, 0.0, 0.0, 0.0, 0.0, 0.0, 0.0, 0.0, 0.0, 0.0, 0.0, 0.0, 0.0, 0.0, 0.0, 0.0, 0.0, 0.0, 0.0], \"yaxis\": \"y\"}, {\"hovertemplate\": \"Country=United States<br>Year=%{x}<br>Degradation Emission (TgC)=%{y}<extra></extra>\", \"legendgroup\": \"United States\", \"line\": {\"color\": \"#9467BD\", \"dash\": \"solid\"}, \"mode\": \"lines\", \"name\": \"United States\", \"orientation\": \"v\", \"showlegend\": true, \"type\": \"scatter\", \"x\": [\"2001\", \"2002\", \"2003\", \"2004\", \"2005\", \"2006\", \"2007\", \"2008\", \"2009\", \"2010\", \"2011\", \"2012\", \"2013\", \"2014\", \"2015\", \"2016\", \"2017\", \"2018\", \"2019\"], \"xaxis\": \"x\", \"y\": [0.3023506700992584, 0.2973914444446564, 0.2890048027038574, 0.2955517470836639, 0.3146061301231384, 0.2983746826648712, 0.2760803997516632, 0.3059327602386475, 0.2907739877700806, 0.2920516729354858, 0.3019268214702606, 0.2777313888072968, 0.2888458669185638, 0.2943598628044128, 0.2926123738288879, 0.2986699044704437, 0.3026682138442993, 0.3149584829807281, 0.3149585127830505], \"yaxis\": \"y\"}],                        {\"legend\": {\"title\": {\"text\": \"Country\"}, \"tracegroupgap\": 0}, \"template\": {\"data\": {\"scatter\": [{\"type\": \"scatter\"}]}}, \"title\": {\"text\": \"Degradation Emission (TgC) (2001-2019)\"}, \"xaxis\": {\"anchor\": \"y\", \"domain\": [0.0, 1.0], \"title\": {\"text\": \"Year\"}}, \"yaxis\": {\"anchor\": \"x\", \"domain\": [0.0, 1.0], \"title\": {\"text\": \"Degradation Emission (TgC)\"}}},                        {\"responsive\": true}                    ).then(function(){\n",
       "                            \n",
       "var gd = document.getElementById('4f3011ba-6200-4b01-9688-8082a1dee9cc');\n",
       "var x = new MutationObserver(function (mutations, observer) {{\n",
       "        var display = window.getComputedStyle(gd).display;\n",
       "        if (!display || display === 'none') {{\n",
       "            console.log([gd, 'removed!']);\n",
       "            Plotly.purge(gd);\n",
       "            observer.disconnect();\n",
       "        }}\n",
       "}});\n",
       "\n",
       "// Listen for the removal of the full notebook cells\n",
       "var notebookContainer = gd.closest('#notebook-container');\n",
       "if (notebookContainer) {{\n",
       "    x.observe(notebookContainer, {childList: true});\n",
       "}}\n",
       "\n",
       "// Listen for the clearing of the current output cell\n",
       "var outputEl = gd.closest('.output');\n",
       "if (outputEl) {{\n",
       "    x.observe(outputEl, {childList: true});\n",
       "}}\n",
       "\n",
       "                        })                };                });            </script>        </div>"
      ]
     },
     "metadata": {},
     "output_type": "display_data"
    },
    {
     "data": {
      "application/vnd.plotly.v1+json": {
       "config": {
        "plotlyServerURL": "https://plot.ly"
       },
       "data": [
        {
         "hovertemplate": "Country=Brazil<br>Year=%{x}<br>Fire Emission (TgC)=%{y}<extra></extra>",
         "legendgroup": "Brazil",
         "line": {
          "color": "#1F77B4",
          "dash": "solid"
         },
         "mode": "lines",
         "name": "Brazil",
         "orientation": "v",
         "showlegend": true,
         "type": "scatter",
         "x": [
          "2001",
          "2002",
          "2003",
          "2004",
          "2005",
          "2006",
          "2007",
          "2008",
          "2009",
          "2010",
          "2011",
          "2012",
          "2013",
          "2014",
          "2015",
          "2016",
          "2017",
          "2018",
          "2019"
         ],
         "xaxis": "x",
         "y": [
          78.29266357421875,
          129.5419769287109,
          93.98968505859375,
          117.6374282836914,
          135.0565948486328,
          73.71086120605469,
          212.9136352539062,
          82.21556091308594,
          53.37287902832031,
          214.1823272705078,
          73.95585632324219,
          125.4606475830078,
          49.03252792358398,
          82.08399963378906,
          129.7955169677734,
          78.57901763916016,
          99.71864318847656,
          51.00591278076172,
          112.2911605834961
         ],
         "yaxis": "y"
        },
        {
         "hovertemplate": "Country=China<br>Year=%{x}<br>Fire Emission (TgC)=%{y}<extra></extra>",
         "legendgroup": "China",
         "line": {
          "color": "#FF7F0E",
          "dash": "solid"
         },
         "mode": "lines",
         "name": "China",
         "orientation": "v",
         "showlegend": true,
         "type": "scatter",
         "x": [
          "2001",
          "2002",
          "2003",
          "2004",
          "2005",
          "2006",
          "2007",
          "2008",
          "2009",
          "2010",
          "2011",
          "2012",
          "2013",
          "2014",
          "2015",
          "2016",
          "2017",
          "2018",
          "2019"
         ],
         "xaxis": "x",
         "y": [
          6.374663829803467,
          9.629754066467285,
          21.24967765808105,
          14.29279327392578,
          19.04655456542969,
          21.21080589294434,
          23.55232429504395,
          18.72063636779785,
          18.01029205322266,
          23.1216983795166,
          16.49720573425293,
          24.6471004486084,
          16.80681228637695,
          26.16237831115723,
          21.63381958007812,
          8.898822784423828,
          21.15330505371094,
          9.608744621276855,
          13.09903430938721
         ],
         "yaxis": "y"
        },
        {
         "hovertemplate": "Country=India<br>Year=%{x}<br>Fire Emission (TgC)=%{y}<extra></extra>",
         "legendgroup": "India",
         "line": {
          "color": "#2CA02C",
          "dash": "solid"
         },
         "mode": "lines",
         "name": "India",
         "orientation": "v",
         "showlegend": true,
         "type": "scatter",
         "x": [
          "2001",
          "2002",
          "2003",
          "2004",
          "2005",
          "2006",
          "2007",
          "2008",
          "2009",
          "2010",
          "2011",
          "2012",
          "2013",
          "2014",
          "2015",
          "2016",
          "2017",
          "2018",
          "2019"
         ],
         "xaxis": "x",
         "y": [
          5.689018249511719,
          4.635197639465332,
          12.76656818389893,
          21.58415794372559,
          11.43104553222656,
          14.65462398529053,
          19.42673301696777,
          14.76877212524414,
          35.83998870849609,
          29.2964916229248,
          16.86675262451172,
          30.64154815673828,
          18.49971008300781,
          16.33426856994629,
          12.70420837402344,
          17.49849319458008,
          25.18219757080078,
          20.88451957702637,
          15.18923759460449
         ],
         "yaxis": "y"
        },
        {
         "hovertemplate": "Country=Russia<br>Year=%{x}<br>Fire Emission (TgC)=%{y}<extra></extra>",
         "legendgroup": "Russia",
         "line": {
          "color": "#D62728",
          "dash": "solid"
         },
         "mode": "lines",
         "name": "Russia",
         "orientation": "v",
         "showlegend": true,
         "type": "scatter",
         "x": [
          "2001",
          "2002",
          "2003",
          "2004",
          "2005",
          "2006",
          "2007",
          "2008",
          "2009",
          "2010",
          "2011",
          "2012",
          "2013",
          "2014",
          "2015",
          "2016",
          "2017",
          "2018",
          "2019"
         ],
         "xaxis": "x",
         "y": [
          38.2740364074707,
          59.79423141479492,
          122.2033615112305,
          48.64318084716797,
          46.23768997192383,
          57.01573181152344,
          38.48759841918945,
          94.83628845214844,
          55.96309280395508,
          44.04475021362305,
          65.88536071777344,
          57.79375839233398,
          26.09008979797363,
          68.179931640625,
          38.45998764038086,
          43.45112991333008,
          25.47318458557129,
          46.69096374511719,
          45.68966293334961
         ],
         "yaxis": "y"
        },
        {
         "hovertemplate": "Country=United States<br>Year=%{x}<br>Fire Emission (TgC)=%{y}<extra></extra>",
         "legendgroup": "United States",
         "line": {
          "color": "#9467BD",
          "dash": "solid"
         },
         "mode": "lines",
         "name": "United States",
         "orientation": "v",
         "showlegend": true,
         "type": "scatter",
         "x": [
          "2001",
          "2002",
          "2003",
          "2004",
          "2005",
          "2006",
          "2007",
          "2008",
          "2009",
          "2010",
          "2011",
          "2012",
          "2013",
          "2014",
          "2015",
          "2016",
          "2017",
          "2018",
          "2019"
         ],
         "xaxis": "x",
         "y": [
          5.741110801696777,
          8.366381645202637,
          12.56004905700684,
          18.59436988830566,
          19.46740341186523,
          12.79883670806885,
          15.25612258911133,
          11.35416889190674,
          12.59030246734619,
          12.25584125518799,
          16.19081497192383,
          12.57698249816895,
          11.7107105255127,
          10.24771213531494,
          16.63610458374023,
          13.23355674743652,
          12.75960159301758,
          15.04778003692627,
          11.9502649307251
         ],
         "yaxis": "y"
        }
       ],
       "layout": {
        "legend": {
         "title": {
          "text": "Country"
         },
         "tracegroupgap": 0
        },
        "template": {
         "data": {
          "scatter": [
           {
            "type": "scatter"
           }
          ]
         }
        },
        "title": {
         "text": "Fire Emission (TgC) (2001-2019)"
        },
        "xaxis": {
         "anchor": "y",
         "domain": [
          0,
          1
         ],
         "title": {
          "text": "Year"
         }
        },
        "yaxis": {
         "anchor": "x",
         "domain": [
          0,
          1
         ],
         "title": {
          "text": "Fire Emission (TgC)"
         }
        }
       }
      },
      "text/html": [
       "<div>                            <div id=\"5fbe06f5-97a4-46e9-8699-d160bcc0b365\" class=\"plotly-graph-div\" style=\"height:525px; width:100%;\"></div>            <script type=\"text/javascript\">                require([\"plotly\"], function(Plotly) {                    window.PLOTLYENV=window.PLOTLYENV || {};                                    if (document.getElementById(\"5fbe06f5-97a4-46e9-8699-d160bcc0b365\")) {                    Plotly.newPlot(                        \"5fbe06f5-97a4-46e9-8699-d160bcc0b365\",                        [{\"hovertemplate\": \"Country=Brazil<br>Year=%{x}<br>Fire Emission (TgC)=%{y}<extra></extra>\", \"legendgroup\": \"Brazil\", \"line\": {\"color\": \"#1F77B4\", \"dash\": \"solid\"}, \"mode\": \"lines\", \"name\": \"Brazil\", \"orientation\": \"v\", \"showlegend\": true, \"type\": \"scatter\", \"x\": [\"2001\", \"2002\", \"2003\", \"2004\", \"2005\", \"2006\", \"2007\", \"2008\", \"2009\", \"2010\", \"2011\", \"2012\", \"2013\", \"2014\", \"2015\", \"2016\", \"2017\", \"2018\", \"2019\"], \"xaxis\": \"x\", \"y\": [78.29266357421875, 129.5419769287109, 93.98968505859375, 117.6374282836914, 135.0565948486328, 73.71086120605469, 212.9136352539062, 82.21556091308594, 53.37287902832031, 214.1823272705078, 73.95585632324219, 125.4606475830078, 49.03252792358398, 82.08399963378906, 129.7955169677734, 78.57901763916016, 99.71864318847656, 51.00591278076172, 112.2911605834961], \"yaxis\": \"y\"}, {\"hovertemplate\": \"Country=China<br>Year=%{x}<br>Fire Emission (TgC)=%{y}<extra></extra>\", \"legendgroup\": \"China\", \"line\": {\"color\": \"#FF7F0E\", \"dash\": \"solid\"}, \"mode\": \"lines\", \"name\": \"China\", \"orientation\": \"v\", \"showlegend\": true, \"type\": \"scatter\", \"x\": [\"2001\", \"2002\", \"2003\", \"2004\", \"2005\", \"2006\", \"2007\", \"2008\", \"2009\", \"2010\", \"2011\", \"2012\", \"2013\", \"2014\", \"2015\", \"2016\", \"2017\", \"2018\", \"2019\"], \"xaxis\": \"x\", \"y\": [6.374663829803467, 9.629754066467285, 21.24967765808105, 14.29279327392578, 19.04655456542969, 21.21080589294434, 23.55232429504395, 18.72063636779785, 18.01029205322266, 23.1216983795166, 16.49720573425293, 24.6471004486084, 16.80681228637695, 26.16237831115723, 21.63381958007812, 8.898822784423828, 21.15330505371094, 9.608744621276855, 13.09903430938721], \"yaxis\": \"y\"}, {\"hovertemplate\": \"Country=India<br>Year=%{x}<br>Fire Emission (TgC)=%{y}<extra></extra>\", \"legendgroup\": \"India\", \"line\": {\"color\": \"#2CA02C\", \"dash\": \"solid\"}, \"mode\": \"lines\", \"name\": \"India\", \"orientation\": \"v\", \"showlegend\": true, \"type\": \"scatter\", \"x\": [\"2001\", \"2002\", \"2003\", \"2004\", \"2005\", \"2006\", \"2007\", \"2008\", \"2009\", \"2010\", \"2011\", \"2012\", \"2013\", \"2014\", \"2015\", \"2016\", \"2017\", \"2018\", \"2019\"], \"xaxis\": \"x\", \"y\": [5.689018249511719, 4.635197639465332, 12.76656818389893, 21.58415794372559, 11.43104553222656, 14.65462398529053, 19.42673301696777, 14.76877212524414, 35.83998870849609, 29.2964916229248, 16.86675262451172, 30.64154815673828, 18.49971008300781, 16.33426856994629, 12.70420837402344, 17.49849319458008, 25.18219757080078, 20.88451957702637, 15.18923759460449], \"yaxis\": \"y\"}, {\"hovertemplate\": \"Country=Russia<br>Year=%{x}<br>Fire Emission (TgC)=%{y}<extra></extra>\", \"legendgroup\": \"Russia\", \"line\": {\"color\": \"#D62728\", \"dash\": \"solid\"}, \"mode\": \"lines\", \"name\": \"Russia\", \"orientation\": \"v\", \"showlegend\": true, \"type\": \"scatter\", \"x\": [\"2001\", \"2002\", \"2003\", \"2004\", \"2005\", \"2006\", \"2007\", \"2008\", \"2009\", \"2010\", \"2011\", \"2012\", \"2013\", \"2014\", \"2015\", \"2016\", \"2017\", \"2018\", \"2019\"], \"xaxis\": \"x\", \"y\": [38.2740364074707, 59.79423141479492, 122.2033615112305, 48.64318084716797, 46.23768997192383, 57.01573181152344, 38.48759841918945, 94.83628845214844, 55.96309280395508, 44.04475021362305, 65.88536071777344, 57.79375839233398, 26.09008979797363, 68.179931640625, 38.45998764038086, 43.45112991333008, 25.47318458557129, 46.69096374511719, 45.68966293334961], \"yaxis\": \"y\"}, {\"hovertemplate\": \"Country=United States<br>Year=%{x}<br>Fire Emission (TgC)=%{y}<extra></extra>\", \"legendgroup\": \"United States\", \"line\": {\"color\": \"#9467BD\", \"dash\": \"solid\"}, \"mode\": \"lines\", \"name\": \"United States\", \"orientation\": \"v\", \"showlegend\": true, \"type\": \"scatter\", \"x\": [\"2001\", \"2002\", \"2003\", \"2004\", \"2005\", \"2006\", \"2007\", \"2008\", \"2009\", \"2010\", \"2011\", \"2012\", \"2013\", \"2014\", \"2015\", \"2016\", \"2017\", \"2018\", \"2019\"], \"xaxis\": \"x\", \"y\": [5.741110801696777, 8.366381645202637, 12.56004905700684, 18.59436988830566, 19.46740341186523, 12.79883670806885, 15.25612258911133, 11.35416889190674, 12.59030246734619, 12.25584125518799, 16.19081497192383, 12.57698249816895, 11.7107105255127, 10.24771213531494, 16.63610458374023, 13.23355674743652, 12.75960159301758, 15.04778003692627, 11.9502649307251], \"yaxis\": \"y\"}],                        {\"legend\": {\"title\": {\"text\": \"Country\"}, \"tracegroupgap\": 0}, \"template\": {\"data\": {\"scatter\": [{\"type\": \"scatter\"}]}}, \"title\": {\"text\": \"Fire Emission (TgC) (2001-2019)\"}, \"xaxis\": {\"anchor\": \"y\", \"domain\": [0.0, 1.0], \"title\": {\"text\": \"Year\"}}, \"yaxis\": {\"anchor\": \"x\", \"domain\": [0.0, 1.0], \"title\": {\"text\": \"Fire Emission (TgC)\"}}},                        {\"responsive\": true}                    ).then(function(){\n",
       "                            \n",
       "var gd = document.getElementById('5fbe06f5-97a4-46e9-8699-d160bcc0b365');\n",
       "var x = new MutationObserver(function (mutations, observer) {{\n",
       "        var display = window.getComputedStyle(gd).display;\n",
       "        if (!display || display === 'none') {{\n",
       "            console.log([gd, 'removed!']);\n",
       "            Plotly.purge(gd);\n",
       "            observer.disconnect();\n",
       "        }}\n",
       "}});\n",
       "\n",
       "// Listen for the removal of the full notebook cells\n",
       "var notebookContainer = gd.closest('#notebook-container');\n",
       "if (notebookContainer) {{\n",
       "    x.observe(notebookContainer, {childList: true});\n",
       "}}\n",
       "\n",
       "// Listen for the clearing of the current output cell\n",
       "var outputEl = gd.closest('.output');\n",
       "if (outputEl) {{\n",
       "    x.observe(outputEl, {childList: true});\n",
       "}}\n",
       "\n",
       "                        })                };                });            </script>        </div>"
      ]
     },
     "metadata": {},
     "output_type": "display_data"
    },
    {
     "data": {
      "application/vnd.plotly.v1+json": {
       "config": {
        "plotlyServerURL": "https://plot.ly"
       },
       "data": [
        {
         "hovertemplate": "Country=Brazil<br>Year=%{x}<br>Removal (tons C)=%{y}<extra></extra>",
         "legendgroup": "Brazil",
         "line": {
          "color": "#1F77B4",
          "dash": "solid"
         },
         "mode": "lines",
         "name": "Brazil",
         "orientation": "v",
         "showlegend": true,
         "type": "scatter",
         "x": [
          "2001",
          "2002",
          "2003",
          "2004",
          "2005",
          "2006",
          "2007",
          "2008",
          "2009",
          "2010",
          "2011",
          "2012",
          "2013",
          "2014",
          "2015",
          "2016",
          "2017",
          "2018",
          "2019"
         ],
         "xaxis": "x",
         "y": [
          -544665405.2734375,
          -630219848.6328125,
          -227032241.8212891,
          -812440307.6171875,
          217222274.7802734,
          -697963134.765625,
          96389221.19140625,
          -367022216.796875,
          -1122204467.773438,
          640617187.5,
          -789012390.1367188,
          -147864868.1640625,
          -820834594.7265625,
          -274705993.6523438,
          33095046.99707031,
          -617975402.8320312,
          -980409362.7929688,
          -872209472.65625,
          -1156676391.601562
         ],
         "yaxis": "y"
        },
        {
         "hovertemplate": "Country=China<br>Year=%{x}<br>Removal (tons C)=%{y}<extra></extra>",
         "legendgroup": "China",
         "line": {
          "color": "#FF7F0E",
          "dash": "solid"
         },
         "mode": "lines",
         "name": "China",
         "orientation": "v",
         "showlegend": true,
         "type": "scatter",
         "x": [
          "2001",
          "2002",
          "2003",
          "2004",
          "2005",
          "2006",
          "2007",
          "2008",
          "2009",
          "2010",
          "2011",
          "2012",
          "2013",
          "2014",
          "2015",
          "2016",
          "2017",
          "2018",
          "2019"
         ],
         "xaxis": "x",
         "y": [
          12049831.39038086,
          -256419006.3476562,
          -51248901.3671875,
          -63585006.71386719,
          -238860183.7158203,
          68502983.09326172,
          -247108062.7441406,
          -263757385.2539062,
          -79780052.1850586,
          -46692317.96264648,
          -6959302.90222168,
          -592081726.0742188,
          -158027313.2324219,
          -7647920.608520508,
          -492406768.7988281,
          -564691406.25,
          -183952987.6708984,
          -375391296.3867188,
          -96264274.59716797
         ],
         "yaxis": "y"
        },
        {
         "hovertemplate": "Country=India<br>Year=%{x}<br>Removal (tons C)=%{y}<extra></extra>",
         "legendgroup": "India",
         "line": {
          "color": "#2CA02C",
          "dash": "solid"
         },
         "mode": "lines",
         "name": "India",
         "orientation": "v",
         "showlegend": true,
         "type": "scatter",
         "x": [
          "2001",
          "2002",
          "2003",
          "2004",
          "2005",
          "2006",
          "2007",
          "2008",
          "2009",
          "2010",
          "2011",
          "2012",
          "2013",
          "2014",
          "2015",
          "2016",
          "2017",
          "2018",
          "2019"
         ],
         "xaxis": "x",
         "y": [
          -21919979.09545898,
          -16809818.26782227,
          -73204330.44433594,
          -34007480.62133789,
          -40710533.14208984,
          -13461423.87390137,
          -54273391.72363281,
          -73771240.234375,
          21273708.34350586,
          -125075355.5297852,
          -31079769.13452148,
          12010959.62524414,
          -95752609.25292969,
          -3348481.178283691,
          -114685913.0859375,
          -19803180.69458008,
          -114829467.7734375,
          -21592788.69628906,
          -88343017.578125
         ],
         "yaxis": "y"
        },
        {
         "hovertemplate": "Country=Russia<br>Year=%{x}<br>Removal (tons C)=%{y}<extra></extra>",
         "legendgroup": "Russia",
         "line": {
          "color": "#D62728",
          "dash": "solid"
         },
         "mode": "lines",
         "name": "Russia",
         "orientation": "v",
         "showlegend": true,
         "type": "scatter",
         "x": [
          "2001",
          "2002",
          "2003",
          "2004",
          "2005",
          "2006",
          "2007",
          "2008",
          "2009",
          "2010",
          "2011",
          "2012",
          "2013",
          "2014",
          "2015",
          "2016",
          "2017",
          "2018",
          "2019"
         ],
         "xaxis": "x",
         "y": [
          456142761.2304688,
          -935760986.328125,
          -332906555.1757812,
          -569451354.9804688,
          144097183.2275391,
          59243896.484375,
          -1920826293.945312,
          242721878.0517578,
          465835540.7714844,
          239321243.2861328,
          -1031494384.765625,
          -630020690.9179688,
          211480163.5742188,
          -1334182373.046875,
          -494329406.7382812,
          -1098389404.296875,
          -87629066.46728516,
          -600380737.3046875,
          121973022.4609375
         ],
         "yaxis": "y"
        },
        {
         "hovertemplate": "Country=United States<br>Year=%{x}<br>Removal (tons C)=%{y}<extra></extra>",
         "legendgroup": "United States",
         "line": {
          "color": "#9467BD",
          "dash": "solid"
         },
         "mode": "lines",
         "name": "United States",
         "orientation": "v",
         "showlegend": true,
         "type": "scatter",
         "x": [
          "2001",
          "2002",
          "2003",
          "2004",
          "2005",
          "2006",
          "2007",
          "2008",
          "2009",
          "2010",
          "2011",
          "2012",
          "2013",
          "2014",
          "2015",
          "2016",
          "2017",
          "2018",
          "2019"
         ],
         "xaxis": "x",
         "y": [
          -194413970.9472656,
          -313398712.1582031,
          -155851699.8291016,
          -1004629150.390625,
          -5802852.630615234,
          192317764.2822266,
          -131708999.6337891,
          204761978.1494141,
          -583248413.0859375,
          -488776275.6347656,
          186344451.9042969,
          -536528564.453125,
          -34757644.65332031,
          -115618759.1552734,
          -748978210.4492188,
          -536563720.703125,
          -94634323.12011719,
          -6466345.78704834,
          -388556793.2128906
         ],
         "yaxis": "y"
        }
       ],
       "layout": {
        "legend": {
         "title": {
          "text": "Country"
         },
         "tracegroupgap": 0
        },
        "template": {
         "data": {
          "scatter": [
           {
            "type": "scatter"
           }
          ]
         }
        },
        "title": {
         "text": "Removal (tons C) (2001-2019)"
        },
        "xaxis": {
         "anchor": "y",
         "domain": [
          0,
          1
         ],
         "title": {
          "text": "Year"
         }
        },
        "yaxis": {
         "anchor": "x",
         "domain": [
          0,
          1
         ],
         "title": {
          "text": "Removal (tons C)"
         }
        }
       }
      },
      "text/html": [
       "<div>                            <div id=\"39f42a6f-3498-4611-84ec-1a8f5b4087d0\" class=\"plotly-graph-div\" style=\"height:525px; width:100%;\"></div>            <script type=\"text/javascript\">                require([\"plotly\"], function(Plotly) {                    window.PLOTLYENV=window.PLOTLYENV || {};                                    if (document.getElementById(\"39f42a6f-3498-4611-84ec-1a8f5b4087d0\")) {                    Plotly.newPlot(                        \"39f42a6f-3498-4611-84ec-1a8f5b4087d0\",                        [{\"hovertemplate\": \"Country=Brazil<br>Year=%{x}<br>Removal (tons C)=%{y}<extra></extra>\", \"legendgroup\": \"Brazil\", \"line\": {\"color\": \"#1F77B4\", \"dash\": \"solid\"}, \"mode\": \"lines\", \"name\": \"Brazil\", \"orientation\": \"v\", \"showlegend\": true, \"type\": \"scatter\", \"x\": [\"2001\", \"2002\", \"2003\", \"2004\", \"2005\", \"2006\", \"2007\", \"2008\", \"2009\", \"2010\", \"2011\", \"2012\", \"2013\", \"2014\", \"2015\", \"2016\", \"2017\", \"2018\", \"2019\"], \"xaxis\": \"x\", \"y\": [-544665405.2734375, -630219848.6328125, -227032241.8212891, -812440307.6171875, 217222274.7802734, -697963134.765625, 96389221.19140625, -367022216.796875, -1122204467.773438, 640617187.5, -789012390.1367188, -147864868.1640625, -820834594.7265625, -274705993.6523438, 33095046.99707031, -617975402.8320312, -980409362.7929688, -872209472.65625, -1156676391.601562], \"yaxis\": \"y\"}, {\"hovertemplate\": \"Country=China<br>Year=%{x}<br>Removal (tons C)=%{y}<extra></extra>\", \"legendgroup\": \"China\", \"line\": {\"color\": \"#FF7F0E\", \"dash\": \"solid\"}, \"mode\": \"lines\", \"name\": \"China\", \"orientation\": \"v\", \"showlegend\": true, \"type\": \"scatter\", \"x\": [\"2001\", \"2002\", \"2003\", \"2004\", \"2005\", \"2006\", \"2007\", \"2008\", \"2009\", \"2010\", \"2011\", \"2012\", \"2013\", \"2014\", \"2015\", \"2016\", \"2017\", \"2018\", \"2019\"], \"xaxis\": \"x\", \"y\": [12049831.39038086, -256419006.3476562, -51248901.3671875, -63585006.71386719, -238860183.7158203, 68502983.09326172, -247108062.7441406, -263757385.2539062, -79780052.1850586, -46692317.96264648, -6959302.90222168, -592081726.0742188, -158027313.2324219, -7647920.608520508, -492406768.7988281, -564691406.25, -183952987.6708984, -375391296.3867188, -96264274.59716797], \"yaxis\": \"y\"}, {\"hovertemplate\": \"Country=India<br>Year=%{x}<br>Removal (tons C)=%{y}<extra></extra>\", \"legendgroup\": \"India\", \"line\": {\"color\": \"#2CA02C\", \"dash\": \"solid\"}, \"mode\": \"lines\", \"name\": \"India\", \"orientation\": \"v\", \"showlegend\": true, \"type\": \"scatter\", \"x\": [\"2001\", \"2002\", \"2003\", \"2004\", \"2005\", \"2006\", \"2007\", \"2008\", \"2009\", \"2010\", \"2011\", \"2012\", \"2013\", \"2014\", \"2015\", \"2016\", \"2017\", \"2018\", \"2019\"], \"xaxis\": \"x\", \"y\": [-21919979.09545898, -16809818.26782227, -73204330.44433594, -34007480.62133789, -40710533.14208984, -13461423.87390137, -54273391.72363281, -73771240.234375, 21273708.34350586, -125075355.5297852, -31079769.13452148, 12010959.62524414, -95752609.25292969, -3348481.178283691, -114685913.0859375, -19803180.69458008, -114829467.7734375, -21592788.69628906, -88343017.578125], \"yaxis\": \"y\"}, {\"hovertemplate\": \"Country=Russia<br>Year=%{x}<br>Removal (tons C)=%{y}<extra></extra>\", \"legendgroup\": \"Russia\", \"line\": {\"color\": \"#D62728\", \"dash\": \"solid\"}, \"mode\": \"lines\", \"name\": \"Russia\", \"orientation\": \"v\", \"showlegend\": true, \"type\": \"scatter\", \"x\": [\"2001\", \"2002\", \"2003\", \"2004\", \"2005\", \"2006\", \"2007\", \"2008\", \"2009\", \"2010\", \"2011\", \"2012\", \"2013\", \"2014\", \"2015\", \"2016\", \"2017\", \"2018\", \"2019\"], \"xaxis\": \"x\", \"y\": [456142761.2304688, -935760986.328125, -332906555.1757812, -569451354.9804688, 144097183.2275391, 59243896.484375, -1920826293.945312, 242721878.0517578, 465835540.7714844, 239321243.2861328, -1031494384.765625, -630020690.9179688, 211480163.5742188, -1334182373.046875, -494329406.7382812, -1098389404.296875, -87629066.46728516, -600380737.3046875, 121973022.4609375], \"yaxis\": \"y\"}, {\"hovertemplate\": \"Country=United States<br>Year=%{x}<br>Removal (tons C)=%{y}<extra></extra>\", \"legendgroup\": \"United States\", \"line\": {\"color\": \"#9467BD\", \"dash\": \"solid\"}, \"mode\": \"lines\", \"name\": \"United States\", \"orientation\": \"v\", \"showlegend\": true, \"type\": \"scatter\", \"x\": [\"2001\", \"2002\", \"2003\", \"2004\", \"2005\", \"2006\", \"2007\", \"2008\", \"2009\", \"2010\", \"2011\", \"2012\", \"2013\", \"2014\", \"2015\", \"2016\", \"2017\", \"2018\", \"2019\"], \"xaxis\": \"x\", \"y\": [-194413970.9472656, -313398712.1582031, -155851699.8291016, -1004629150.390625, -5802852.630615234, 192317764.2822266, -131708999.6337891, 204761978.1494141, -583248413.0859375, -488776275.6347656, 186344451.9042969, -536528564.453125, -34757644.65332031, -115618759.1552734, -748978210.4492188, -536563720.703125, -94634323.12011719, -6466345.78704834, -388556793.2128906], \"yaxis\": \"y\"}],                        {\"legend\": {\"title\": {\"text\": \"Country\"}, \"tracegroupgap\": 0}, \"template\": {\"data\": {\"scatter\": [{\"type\": \"scatter\"}]}}, \"title\": {\"text\": \"Removal (tons C) (2001-2019)\"}, \"xaxis\": {\"anchor\": \"y\", \"domain\": [0.0, 1.0], \"title\": {\"text\": \"Year\"}}, \"yaxis\": {\"anchor\": \"x\", \"domain\": [0.0, 1.0], \"title\": {\"text\": \"Removal (tons C)\"}}},                        {\"responsive\": true}                    ).then(function(){\n",
       "                            \n",
       "var gd = document.getElementById('39f42a6f-3498-4611-84ec-1a8f5b4087d0');\n",
       "var x = new MutationObserver(function (mutations, observer) {{\n",
       "        var display = window.getComputedStyle(gd).display;\n",
       "        if (!display || display === 'none') {{\n",
       "            console.log([gd, 'removed!']);\n",
       "            Plotly.purge(gd);\n",
       "            observer.disconnect();\n",
       "        }}\n",
       "}});\n",
       "\n",
       "// Listen for the removal of the full notebook cells\n",
       "var notebookContainer = gd.closest('#notebook-container');\n",
       "if (notebookContainer) {{\n",
       "    x.observe(notebookContainer, {childList: true});\n",
       "}}\n",
       "\n",
       "// Listen for the clearing of the current output cell\n",
       "var outputEl = gd.closest('.output');\n",
       "if (outputEl) {{\n",
       "    x.observe(outputEl, {childList: true});\n",
       "}}\n",
       "\n",
       "                        })                };                });            </script>        </div>"
      ]
     },
     "metadata": {},
     "output_type": "display_data"
    }
   ],
   "source": [
    "country_select = ['United States','Brazil','India','China','Russia']\n",
    "variable_list = country_df.columns.drop(['Country','Year'])\n",
    "for var in variable_list:\n",
    "    px.line(country_df[country_df.Country.isin(country_select)],\n",
    "            x='Year',y=var,color = 'Country',title = var + ' (2001-2019)')"
   ]
  },
  {
   "cell_type": "code",
   "execution_count": 85,
   "metadata": {
    "scrolled": false
   },
   "outputs": [
    {
     "data": {
      "application/vnd.plotly.v1+json": {
       "config": {
        "plotlyServerURL": "https://plot.ly"
       },
       "data": [
        {
         "hovertemplate": "Country=Brazil<br>Year=%{x}<br>Cumulative Deforestation Emission (TgC)=%{y}<extra></extra>",
         "legendgroup": "Brazil",
         "line": {
          "color": "#1F77B4",
          "dash": "solid"
         },
         "mode": "lines",
         "name": "Brazil",
         "orientation": "v",
         "showlegend": true,
         "type": "scatter",
         "x": [
          "2001",
          "2002",
          "2003",
          "2004",
          "2005",
          "2006",
          "2007",
          "2008",
          "2009",
          "2010",
          "2011",
          "2012",
          "2013",
          "2014",
          "2015",
          "2016",
          "2017",
          "2018",
          "2019"
         ],
         "xaxis": "x",
         "y": [
          228.2197570800781,
          541.1167602539062,
          824.8151245117188,
          1196.8390502929688,
          1541.0615539550781,
          1813.2074279785156,
          2036.4263763427734,
          2260.4192504882812,
          2429.266845703125,
          2670.767837524414,
          2848.472213745117,
          3121.1338958740234,
          3316.735794067383,
          3601.318893432617,
          3842.2400817871094,
          4513.443267822266,
          5059.826751708984,
          5440.390808105469,
          5818.717346191406
         ],
         "yaxis": "y"
        },
        {
         "hovertemplate": "Country=China<br>Year=%{x}<br>Cumulative Deforestation Emission (TgC)=%{y}<extra></extra>",
         "legendgroup": "China",
         "line": {
          "color": "#FF7F0E",
          "dash": "solid"
         },
         "mode": "lines",
         "name": "China",
         "orientation": "v",
         "showlegend": true,
         "type": "scatter",
         "x": [
          "2001",
          "2002",
          "2003",
          "2004",
          "2005",
          "2006",
          "2007",
          "2008",
          "2009",
          "2010",
          "2011",
          "2012",
          "2013",
          "2014",
          "2015",
          "2016",
          "2017",
          "2018",
          "2019"
         ],
         "xaxis": "x",
         "y": [
          15.44486522674561,
          32.07773685455323,
          48.76413440704346,
          81.9719591140747,
          108.04094982147217,
          147.92091274261475,
          193.6510534286499,
          246.35723781585693,
          289.7800245285034,
          334.2439947128296,
          378.95072841644287,
          429.0415983200073,
          477.0648832321167,
          533.6925458908081,
          588.0479688644409,
          676.7447538375854,
          762.1127500534058,
          840.7257795333862,
          914.6536664962769
         ],
         "yaxis": "y"
        },
        {
         "hovertemplate": "Country=India<br>Year=%{x}<br>Cumulative Deforestation Emission (TgC)=%{y}<extra></extra>",
         "legendgroup": "India",
         "line": {
          "color": "#2CA02C",
          "dash": "solid"
         },
         "mode": "lines",
         "name": "India",
         "orientation": "v",
         "showlegend": true,
         "type": "scatter",
         "x": [
          "2001",
          "2002",
          "2003",
          "2004",
          "2005",
          "2006",
          "2007",
          "2008",
          "2009",
          "2010",
          "2011",
          "2012",
          "2013",
          "2014",
          "2015",
          "2016",
          "2017",
          "2018",
          "2019"
         ],
         "xaxis": "x",
         "y": [
          5.544442176818848,
          10.401327133178711,
          14.738498210906982,
          21.691271781921387,
          27.337251663208008,
          33.479108810424805,
          40.21684408187866,
          47.994709968566895,
          55.05798530578613,
          59.70780372619629,
          68.02745532989502,
          77.73219394683838,
          87.74502563476562,
          104.08760643005371,
          118.30749034881592,
          140.4558401107788,
          165.73103618621826,
          183.80339336395264,
          200.27947330474854
         ],
         "yaxis": "y"
        },
        {
         "hovertemplate": "Country=Russia<br>Year=%{x}<br>Cumulative Deforestation Emission (TgC)=%{y}<extra></extra>",
         "legendgroup": "Russia",
         "line": {
          "color": "#D62728",
          "dash": "solid"
         },
         "mode": "lines",
         "name": "Russia",
         "orientation": "v",
         "showlegend": true,
         "type": "scatter",
         "x": [
          "2001",
          "2002",
          "2003",
          "2004",
          "2005",
          "2006",
          "2007",
          "2008",
          "2009",
          "2010",
          "2011",
          "2012",
          "2013",
          "2014",
          "2015",
          "2016",
          "2017",
          "2018",
          "2019"
         ],
         "xaxis": "x",
         "y": [
          127.0714569091797,
          315.6045837402344,
          519.1827850341797,
          802.0261077880859,
          924.6053009033203,
          1087.2089538574219,
          1294.7859497070312,
          1533.610610961914,
          1704.0463562011719,
          1866.9811401367188,
          2123.6214294433594,
          2634.531951904297,
          3138.039825439453,
          3541.9798278808594,
          3740.5953369140625,
          4291.904602050781,
          4918.189392089844,
          5445.722900390625,
          5837.482086181641
         ],
         "yaxis": "y"
        },
        {
         "hovertemplate": "Country=United States<br>Year=%{x}<br>Cumulative Deforestation Emission (TgC)=%{y}<extra></extra>",
         "legendgroup": "United States",
         "line": {
          "color": "#9467BD",
          "dash": "solid"
         },
         "mode": "lines",
         "name": "United States",
         "orientation": "v",
         "showlegend": true,
         "type": "scatter",
         "x": [
          "2001",
          "2002",
          "2003",
          "2004",
          "2005",
          "2006",
          "2007",
          "2008",
          "2009",
          "2010",
          "2011",
          "2012",
          "2013",
          "2014",
          "2015",
          "2016",
          "2017",
          "2018",
          "2019"
         ],
         "xaxis": "x",
         "y": [
          153.6947326660156,
          329.89450073242176,
          465.20379638671864,
          669.5212097167968,
          862.5147094726561,
          1065.8262939453123,
          1266.9288787841795,
          1469.1825714111326,
          1608.4737243652341,
          1774.4579620361326,
          1913.3238983154295,
          2085.613006591797,
          2253.13671875,
          2439.787628173828,
          2659.356674194336,
          2917.876480102539,
          3182.427047729492,
          3442.6673736572266,
          3673.4765014648438
         ],
         "yaxis": "y"
        }
       ],
       "layout": {
        "legend": {
         "title": {
          "text": "Country"
         },
         "tracegroupgap": 0
        },
        "template": {
         "data": {
          "scatter": [
           {
            "type": "scatter"
           }
          ]
         }
        },
        "title": {
         "text": "Cumulative Deforestation Emission (TgC) [2001-2019]"
        },
        "xaxis": {
         "anchor": "y",
         "domain": [
          0,
          1
         ],
         "title": {
          "text": "Year"
         }
        },
        "yaxis": {
         "anchor": "x",
         "domain": [
          0,
          1
         ],
         "title": {
          "text": "Cumulative Deforestation Emission (TgC)"
         }
        }
       }
      },
      "text/html": [
       "<div>                            <div id=\"884a6246-59f9-4147-a8db-8e8ae59c0088\" class=\"plotly-graph-div\" style=\"height:525px; width:100%;\"></div>            <script type=\"text/javascript\">                require([\"plotly\"], function(Plotly) {                    window.PLOTLYENV=window.PLOTLYENV || {};                                    if (document.getElementById(\"884a6246-59f9-4147-a8db-8e8ae59c0088\")) {                    Plotly.newPlot(                        \"884a6246-59f9-4147-a8db-8e8ae59c0088\",                        [{\"hovertemplate\": \"Country=Brazil<br>Year=%{x}<br>Cumulative Deforestation Emission (TgC)=%{y}<extra></extra>\", \"legendgroup\": \"Brazil\", \"line\": {\"color\": \"#1F77B4\", \"dash\": \"solid\"}, \"mode\": \"lines\", \"name\": \"Brazil\", \"orientation\": \"v\", \"showlegend\": true, \"type\": \"scatter\", \"x\": [\"2001\", \"2002\", \"2003\", \"2004\", \"2005\", \"2006\", \"2007\", \"2008\", \"2009\", \"2010\", \"2011\", \"2012\", \"2013\", \"2014\", \"2015\", \"2016\", \"2017\", \"2018\", \"2019\"], \"xaxis\": \"x\", \"y\": [228.2197570800781, 541.1167602539062, 824.8151245117188, 1196.8390502929688, 1541.0615539550781, 1813.2074279785156, 2036.4263763427734, 2260.4192504882812, 2429.266845703125, 2670.767837524414, 2848.472213745117, 3121.1338958740234, 3316.735794067383, 3601.318893432617, 3842.2400817871094, 4513.443267822266, 5059.826751708984, 5440.390808105469, 5818.717346191406], \"yaxis\": \"y\"}, {\"hovertemplate\": \"Country=China<br>Year=%{x}<br>Cumulative Deforestation Emission (TgC)=%{y}<extra></extra>\", \"legendgroup\": \"China\", \"line\": {\"color\": \"#FF7F0E\", \"dash\": \"solid\"}, \"mode\": \"lines\", \"name\": \"China\", \"orientation\": \"v\", \"showlegend\": true, \"type\": \"scatter\", \"x\": [\"2001\", \"2002\", \"2003\", \"2004\", \"2005\", \"2006\", \"2007\", \"2008\", \"2009\", \"2010\", \"2011\", \"2012\", \"2013\", \"2014\", \"2015\", \"2016\", \"2017\", \"2018\", \"2019\"], \"xaxis\": \"x\", \"y\": [15.44486522674561, 32.07773685455323, 48.76413440704346, 81.9719591140747, 108.04094982147217, 147.92091274261475, 193.6510534286499, 246.35723781585693, 289.7800245285034, 334.2439947128296, 378.95072841644287, 429.0415983200073, 477.0648832321167, 533.6925458908081, 588.0479688644409, 676.7447538375854, 762.1127500534058, 840.7257795333862, 914.6536664962769], \"yaxis\": \"y\"}, {\"hovertemplate\": \"Country=India<br>Year=%{x}<br>Cumulative Deforestation Emission (TgC)=%{y}<extra></extra>\", \"legendgroup\": \"India\", \"line\": {\"color\": \"#2CA02C\", \"dash\": \"solid\"}, \"mode\": \"lines\", \"name\": \"India\", \"orientation\": \"v\", \"showlegend\": true, \"type\": \"scatter\", \"x\": [\"2001\", \"2002\", \"2003\", \"2004\", \"2005\", \"2006\", \"2007\", \"2008\", \"2009\", \"2010\", \"2011\", \"2012\", \"2013\", \"2014\", \"2015\", \"2016\", \"2017\", \"2018\", \"2019\"], \"xaxis\": \"x\", \"y\": [5.544442176818848, 10.401327133178711, 14.738498210906982, 21.691271781921387, 27.337251663208008, 33.479108810424805, 40.21684408187866, 47.994709968566895, 55.05798530578613, 59.70780372619629, 68.02745532989502, 77.73219394683838, 87.74502563476562, 104.08760643005371, 118.30749034881592, 140.4558401107788, 165.73103618621826, 183.80339336395264, 200.27947330474854], \"yaxis\": \"y\"}, {\"hovertemplate\": \"Country=Russia<br>Year=%{x}<br>Cumulative Deforestation Emission (TgC)=%{y}<extra></extra>\", \"legendgroup\": \"Russia\", \"line\": {\"color\": \"#D62728\", \"dash\": \"solid\"}, \"mode\": \"lines\", \"name\": \"Russia\", \"orientation\": \"v\", \"showlegend\": true, \"type\": \"scatter\", \"x\": [\"2001\", \"2002\", \"2003\", \"2004\", \"2005\", \"2006\", \"2007\", \"2008\", \"2009\", \"2010\", \"2011\", \"2012\", \"2013\", \"2014\", \"2015\", \"2016\", \"2017\", \"2018\", \"2019\"], \"xaxis\": \"x\", \"y\": [127.0714569091797, 315.6045837402344, 519.1827850341797, 802.0261077880859, 924.6053009033203, 1087.2089538574219, 1294.7859497070312, 1533.610610961914, 1704.0463562011719, 1866.9811401367188, 2123.6214294433594, 2634.531951904297, 3138.039825439453, 3541.9798278808594, 3740.5953369140625, 4291.904602050781, 4918.189392089844, 5445.722900390625, 5837.482086181641], \"yaxis\": \"y\"}, {\"hovertemplate\": \"Country=United States<br>Year=%{x}<br>Cumulative Deforestation Emission (TgC)=%{y}<extra></extra>\", \"legendgroup\": \"United States\", \"line\": {\"color\": \"#9467BD\", \"dash\": \"solid\"}, \"mode\": \"lines\", \"name\": \"United States\", \"orientation\": \"v\", \"showlegend\": true, \"type\": \"scatter\", \"x\": [\"2001\", \"2002\", \"2003\", \"2004\", \"2005\", \"2006\", \"2007\", \"2008\", \"2009\", \"2010\", \"2011\", \"2012\", \"2013\", \"2014\", \"2015\", \"2016\", \"2017\", \"2018\", \"2019\"], \"xaxis\": \"x\", \"y\": [153.6947326660156, 329.89450073242176, 465.20379638671864, 669.5212097167968, 862.5147094726561, 1065.8262939453123, 1266.9288787841795, 1469.1825714111326, 1608.4737243652341, 1774.4579620361326, 1913.3238983154295, 2085.613006591797, 2253.13671875, 2439.787628173828, 2659.356674194336, 2917.876480102539, 3182.427047729492, 3442.6673736572266, 3673.4765014648438], \"yaxis\": \"y\"}],                        {\"legend\": {\"title\": {\"text\": \"Country\"}, \"tracegroupgap\": 0}, \"template\": {\"data\": {\"scatter\": [{\"type\": \"scatter\"}]}}, \"title\": {\"text\": \"Cumulative Deforestation Emission (TgC) [2001-2019]\"}, \"xaxis\": {\"anchor\": \"y\", \"domain\": [0.0, 1.0], \"title\": {\"text\": \"Year\"}}, \"yaxis\": {\"anchor\": \"x\", \"domain\": [0.0, 1.0], \"title\": {\"text\": \"Cumulative Deforestation Emission (TgC)\"}}},                        {\"responsive\": true}                    ).then(function(){\n",
       "                            \n",
       "var gd = document.getElementById('884a6246-59f9-4147-a8db-8e8ae59c0088');\n",
       "var x = new MutationObserver(function (mutations, observer) {{\n",
       "        var display = window.getComputedStyle(gd).display;\n",
       "        if (!display || display === 'none') {{\n",
       "            console.log([gd, 'removed!']);\n",
       "            Plotly.purge(gd);\n",
       "            observer.disconnect();\n",
       "        }}\n",
       "}});\n",
       "\n",
       "// Listen for the removal of the full notebook cells\n",
       "var notebookContainer = gd.closest('#notebook-container');\n",
       "if (notebookContainer) {{\n",
       "    x.observe(notebookContainer, {childList: true});\n",
       "}}\n",
       "\n",
       "// Listen for the clearing of the current output cell\n",
       "var outputEl = gd.closest('.output');\n",
       "if (outputEl) {{\n",
       "    x.observe(outputEl, {childList: true});\n",
       "}}\n",
       "\n",
       "                        })                };                });            </script>        </div>"
      ]
     },
     "metadata": {},
     "output_type": "display_data"
    },
    {
     "data": {
      "application/vnd.plotly.v1+json": {
       "config": {
        "plotlyServerURL": "https://plot.ly"
       },
       "data": [
        {
         "hovertemplate": "Country=Brazil<br>Year=%{x}<br>Cumulative Degradation Emission (TgC)=%{y}<extra></extra>",
         "legendgroup": "Brazil",
         "line": {
          "color": "#1F77B4",
          "dash": "solid"
         },
         "mode": "lines",
         "name": "Brazil",
         "orientation": "v",
         "showlegend": true,
         "type": "scatter",
         "x": [
          "2001",
          "2002",
          "2003",
          "2004",
          "2005",
          "2006",
          "2007",
          "2008",
          "2009",
          "2010",
          "2011",
          "2012",
          "2013",
          "2014",
          "2015",
          "2016",
          "2017",
          "2018",
          "2019"
         ],
         "xaxis": "x",
         "y": [
          68.11779022216797,
          136.6525421142578,
          206.96939086914062,
          277.59596252441406,
          349.4344177246094,
          422.9079895019531,
          495.9721450805664,
          567.2702941894531,
          641.6878356933594,
          718.2350158691406,
          790.6613922119141,
          865.263298034668,
          934.1157760620117,
          1004.8733978271484,
          1073.874137878418,
          1143.8681030273438,
          1212.9214706420898,
          1282.9906005859375,
          1356.5336456298828
         ],
         "yaxis": "y"
        },
        {
         "hovertemplate": "Country=China<br>Year=%{x}<br>Cumulative Degradation Emission (TgC)=%{y}<extra></extra>",
         "legendgroup": "China",
         "line": {
          "color": "#FF7F0E",
          "dash": "solid"
         },
         "mode": "lines",
         "name": "China",
         "orientation": "v",
         "showlegend": true,
         "type": "scatter",
         "x": [
          "2001",
          "2002",
          "2003",
          "2004",
          "2005",
          "2006",
          "2007",
          "2008",
          "2009",
          "2010",
          "2011",
          "2012",
          "2013",
          "2014",
          "2015",
          "2016",
          "2017",
          "2018",
          "2019"
         ],
         "xaxis": "x",
         "y": [
          26.60134124755859,
          53.101470947265625,
          79.1428108215332,
          104.98696517944336,
          131.4015350341797,
          157.49137496948242,
          184.31307792663574,
          211.43662643432617,
          238.353910446167,
          265.9957160949707,
          293.4991264343262,
          321.526460647583,
          350.1514148712158,
          379.2944507598877,
          408.6748867034912,
          439.5265598297119,
          471.60083198547363,
          504.05941581726074,
          536.0799694061279
         ],
         "yaxis": "y"
        },
        {
         "hovertemplate": "Country=India<br>Year=%{x}<br>Cumulative Degradation Emission (TgC)=%{y}<extra></extra>",
         "legendgroup": "India",
         "line": {
          "color": "#2CA02C",
          "dash": "solid"
         },
         "mode": "lines",
         "name": "India",
         "orientation": "v",
         "showlegend": true,
         "type": "scatter",
         "x": [
          "2001",
          "2002",
          "2003",
          "2004",
          "2005",
          "2006",
          "2007",
          "2008",
          "2009",
          "2010",
          "2011",
          "2012",
          "2013",
          "2014",
          "2015",
          "2016",
          "2017",
          "2018",
          "2019"
         ],
         "xaxis": "x",
         "y": [
          8.613763809204102,
          17.34360980987549,
          25.686388969421387,
          33.711137771606445,
          42.277748107910156,
          50.18780755996704,
          58.36753225326538,
          66.93197870254517,
          74.21984577178955,
          81.51295328140259,
          89.93170976638794,
          98.00659322738647,
          106.10847902297974,
          114.34895849227905,
          122.68987894058228,
          131.50686120986938,
          140.32767057418823,
          149.37910890579224,
          158.65837144851685
         ],
         "yaxis": "y"
        },
        {
         "hovertemplate": "Country=Russia<br>Year=%{x}<br>Cumulative Degradation Emission (TgC)=%{y}<extra></extra>",
         "legendgroup": "Russia",
         "line": {
          "color": "#D62728",
          "dash": "solid"
         },
         "mode": "lines",
         "name": "Russia",
         "orientation": "v",
         "showlegend": true,
         "type": "scatter",
         "x": [
          "2001",
          "2002",
          "2003",
          "2004",
          "2005",
          "2006",
          "2007",
          "2008",
          "2009",
          "2010",
          "2011",
          "2012",
          "2013",
          "2014",
          "2015",
          "2016",
          "2017",
          "2018",
          "2019"
         ],
         "xaxis": "x",
         "y": [
          0,
          0,
          0,
          0,
          0,
          0,
          0,
          0,
          0,
          0,
          0,
          0,
          0,
          0,
          0,
          0,
          0,
          0,
          0
         ],
         "yaxis": "y"
        },
        {
         "hovertemplate": "Country=United States<br>Year=%{x}<br>Cumulative Degradation Emission (TgC)=%{y}<extra></extra>",
         "legendgroup": "United States",
         "line": {
          "color": "#9467BD",
          "dash": "solid"
         },
         "mode": "lines",
         "name": "United States",
         "orientation": "v",
         "showlegend": true,
         "type": "scatter",
         "x": [
          "2001",
          "2002",
          "2003",
          "2004",
          "2005",
          "2006",
          "2007",
          "2008",
          "2009",
          "2010",
          "2011",
          "2012",
          "2013",
          "2014",
          "2015",
          "2016",
          "2017",
          "2018",
          "2019"
         ],
         "xaxis": "x",
         "y": [
          0.3023506700992584,
          0.5997421145439148,
          0.8887469172477722,
          1.1842986643314362,
          1.4989047944545746,
          1.7972794771194458,
          2.073359876871109,
          2.3792926371097565,
          2.670066624879837,
          2.962118297815323,
          3.2640451192855835,
          3.5417765080928802,
          3.830622375011444,
          4.124982237815857,
          4.417594611644745,
          4.716264516115189,
          5.018932729959488,
          5.333891212940216,
          5.648849725723267
         ],
         "yaxis": "y"
        }
       ],
       "layout": {
        "legend": {
         "title": {
          "text": "Country"
         },
         "tracegroupgap": 0
        },
        "template": {
         "data": {
          "scatter": [
           {
            "type": "scatter"
           }
          ]
         }
        },
        "title": {
         "text": "Cumulative Degradation Emission (TgC) [2001-2019]"
        },
        "xaxis": {
         "anchor": "y",
         "domain": [
          0,
          1
         ],
         "title": {
          "text": "Year"
         }
        },
        "yaxis": {
         "anchor": "x",
         "domain": [
          0,
          1
         ],
         "title": {
          "text": "Cumulative Degradation Emission (TgC)"
         }
        }
       }
      },
      "text/html": [
       "<div>                            <div id=\"5fca19e3-237e-4161-b8a8-65db2d32a760\" class=\"plotly-graph-div\" style=\"height:525px; width:100%;\"></div>            <script type=\"text/javascript\">                require([\"plotly\"], function(Plotly) {                    window.PLOTLYENV=window.PLOTLYENV || {};                                    if (document.getElementById(\"5fca19e3-237e-4161-b8a8-65db2d32a760\")) {                    Plotly.newPlot(                        \"5fca19e3-237e-4161-b8a8-65db2d32a760\",                        [{\"hovertemplate\": \"Country=Brazil<br>Year=%{x}<br>Cumulative Degradation Emission (TgC)=%{y}<extra></extra>\", \"legendgroup\": \"Brazil\", \"line\": {\"color\": \"#1F77B4\", \"dash\": \"solid\"}, \"mode\": \"lines\", \"name\": \"Brazil\", \"orientation\": \"v\", \"showlegend\": true, \"type\": \"scatter\", \"x\": [\"2001\", \"2002\", \"2003\", \"2004\", \"2005\", \"2006\", \"2007\", \"2008\", \"2009\", \"2010\", \"2011\", \"2012\", \"2013\", \"2014\", \"2015\", \"2016\", \"2017\", \"2018\", \"2019\"], \"xaxis\": \"x\", \"y\": [68.11779022216797, 136.6525421142578, 206.96939086914062, 277.59596252441406, 349.4344177246094, 422.9079895019531, 495.9721450805664, 567.2702941894531, 641.6878356933594, 718.2350158691406, 790.6613922119141, 865.263298034668, 934.1157760620117, 1004.8733978271484, 1073.874137878418, 1143.8681030273438, 1212.9214706420898, 1282.9906005859375, 1356.5336456298828], \"yaxis\": \"y\"}, {\"hovertemplate\": \"Country=China<br>Year=%{x}<br>Cumulative Degradation Emission (TgC)=%{y}<extra></extra>\", \"legendgroup\": \"China\", \"line\": {\"color\": \"#FF7F0E\", \"dash\": \"solid\"}, \"mode\": \"lines\", \"name\": \"China\", \"orientation\": \"v\", \"showlegend\": true, \"type\": \"scatter\", \"x\": [\"2001\", \"2002\", \"2003\", \"2004\", \"2005\", \"2006\", \"2007\", \"2008\", \"2009\", \"2010\", \"2011\", \"2012\", \"2013\", \"2014\", \"2015\", \"2016\", \"2017\", \"2018\", \"2019\"], \"xaxis\": \"x\", \"y\": [26.60134124755859, 53.101470947265625, 79.1428108215332, 104.98696517944336, 131.4015350341797, 157.49137496948242, 184.31307792663574, 211.43662643432617, 238.353910446167, 265.9957160949707, 293.4991264343262, 321.526460647583, 350.1514148712158, 379.2944507598877, 408.6748867034912, 439.5265598297119, 471.60083198547363, 504.05941581726074, 536.0799694061279], \"yaxis\": \"y\"}, {\"hovertemplate\": \"Country=India<br>Year=%{x}<br>Cumulative Degradation Emission (TgC)=%{y}<extra></extra>\", \"legendgroup\": \"India\", \"line\": {\"color\": \"#2CA02C\", \"dash\": \"solid\"}, \"mode\": \"lines\", \"name\": \"India\", \"orientation\": \"v\", \"showlegend\": true, \"type\": \"scatter\", \"x\": [\"2001\", \"2002\", \"2003\", \"2004\", \"2005\", \"2006\", \"2007\", \"2008\", \"2009\", \"2010\", \"2011\", \"2012\", \"2013\", \"2014\", \"2015\", \"2016\", \"2017\", \"2018\", \"2019\"], \"xaxis\": \"x\", \"y\": [8.613763809204102, 17.34360980987549, 25.686388969421387, 33.711137771606445, 42.277748107910156, 50.18780755996704, 58.36753225326538, 66.93197870254517, 74.21984577178955, 81.51295328140259, 89.93170976638794, 98.00659322738647, 106.10847902297974, 114.34895849227905, 122.68987894058228, 131.50686120986938, 140.32767057418823, 149.37910890579224, 158.65837144851685], \"yaxis\": \"y\"}, {\"hovertemplate\": \"Country=Russia<br>Year=%{x}<br>Cumulative Degradation Emission (TgC)=%{y}<extra></extra>\", \"legendgroup\": \"Russia\", \"line\": {\"color\": \"#D62728\", \"dash\": \"solid\"}, \"mode\": \"lines\", \"name\": \"Russia\", \"orientation\": \"v\", \"showlegend\": true, \"type\": \"scatter\", \"x\": [\"2001\", \"2002\", \"2003\", \"2004\", \"2005\", \"2006\", \"2007\", \"2008\", \"2009\", \"2010\", \"2011\", \"2012\", \"2013\", \"2014\", \"2015\", \"2016\", \"2017\", \"2018\", \"2019\"], \"xaxis\": \"x\", \"y\": [0.0, 0.0, 0.0, 0.0, 0.0, 0.0, 0.0, 0.0, 0.0, 0.0, 0.0, 0.0, 0.0, 0.0, 0.0, 0.0, 0.0, 0.0, 0.0], \"yaxis\": \"y\"}, {\"hovertemplate\": \"Country=United States<br>Year=%{x}<br>Cumulative Degradation Emission (TgC)=%{y}<extra></extra>\", \"legendgroup\": \"United States\", \"line\": {\"color\": \"#9467BD\", \"dash\": \"solid\"}, \"mode\": \"lines\", \"name\": \"United States\", \"orientation\": \"v\", \"showlegend\": true, \"type\": \"scatter\", \"x\": [\"2001\", \"2002\", \"2003\", \"2004\", \"2005\", \"2006\", \"2007\", \"2008\", \"2009\", \"2010\", \"2011\", \"2012\", \"2013\", \"2014\", \"2015\", \"2016\", \"2017\", \"2018\", \"2019\"], \"xaxis\": \"x\", \"y\": [0.3023506700992584, 0.5997421145439148, 0.8887469172477722, 1.1842986643314362, 1.4989047944545746, 1.7972794771194458, 2.073359876871109, 2.3792926371097565, 2.670066624879837, 2.962118297815323, 3.2640451192855835, 3.5417765080928802, 3.830622375011444, 4.124982237815857, 4.417594611644745, 4.716264516115189, 5.018932729959488, 5.333891212940216, 5.648849725723267], \"yaxis\": \"y\"}],                        {\"legend\": {\"title\": {\"text\": \"Country\"}, \"tracegroupgap\": 0}, \"template\": {\"data\": {\"scatter\": [{\"type\": \"scatter\"}]}}, \"title\": {\"text\": \"Cumulative Degradation Emission (TgC) [2001-2019]\"}, \"xaxis\": {\"anchor\": \"y\", \"domain\": [0.0, 1.0], \"title\": {\"text\": \"Year\"}}, \"yaxis\": {\"anchor\": \"x\", \"domain\": [0.0, 1.0], \"title\": {\"text\": \"Cumulative Degradation Emission (TgC)\"}}},                        {\"responsive\": true}                    ).then(function(){\n",
       "                            \n",
       "var gd = document.getElementById('5fca19e3-237e-4161-b8a8-65db2d32a760');\n",
       "var x = new MutationObserver(function (mutations, observer) {{\n",
       "        var display = window.getComputedStyle(gd).display;\n",
       "        if (!display || display === 'none') {{\n",
       "            console.log([gd, 'removed!']);\n",
       "            Plotly.purge(gd);\n",
       "            observer.disconnect();\n",
       "        }}\n",
       "}});\n",
       "\n",
       "// Listen for the removal of the full notebook cells\n",
       "var notebookContainer = gd.closest('#notebook-container');\n",
       "if (notebookContainer) {{\n",
       "    x.observe(notebookContainer, {childList: true});\n",
       "}}\n",
       "\n",
       "// Listen for the clearing of the current output cell\n",
       "var outputEl = gd.closest('.output');\n",
       "if (outputEl) {{\n",
       "    x.observe(outputEl, {childList: true});\n",
       "}}\n",
       "\n",
       "                        })                };                });            </script>        </div>"
      ]
     },
     "metadata": {},
     "output_type": "display_data"
    },
    {
     "data": {
      "application/vnd.plotly.v1+json": {
       "config": {
        "plotlyServerURL": "https://plot.ly"
       },
       "data": [
        {
         "hovertemplate": "Country=Brazil<br>Year=%{x}<br>Cumulative Fire Emission (TgC)=%{y}<extra></extra>",
         "legendgroup": "Brazil",
         "line": {
          "color": "#1F77B4",
          "dash": "solid"
         },
         "mode": "lines",
         "name": "Brazil",
         "orientation": "v",
         "showlegend": true,
         "type": "scatter",
         "x": [
          "2001",
          "2002",
          "2003",
          "2004",
          "2005",
          "2006",
          "2007",
          "2008",
          "2009",
          "2010",
          "2011",
          "2012",
          "2013",
          "2014",
          "2015",
          "2016",
          "2017",
          "2018",
          "2019"
         ],
         "xaxis": "x",
         "y": [
          78.29266357421875,
          207.83464050292966,
          301.82432556152344,
          419.46175384521484,
          554.5183486938477,
          628.2292098999023,
          841.1428451538086,
          923.3584060668945,
          976.7312850952148,
          1190.9136123657227,
          1264.8694686889648,
          1390.3301162719727,
          1439.3626441955566,
          1521.4466438293457,
          1651.2421607971191,
          1729.8211784362793,
          1829.5398216247559,
          1880.5457344055176,
          1992.8368949890137
         ],
         "yaxis": "y"
        },
        {
         "hovertemplate": "Country=China<br>Year=%{x}<br>Cumulative Fire Emission (TgC)=%{y}<extra></extra>",
         "legendgroup": "China",
         "line": {
          "color": "#FF7F0E",
          "dash": "solid"
         },
         "mode": "lines",
         "name": "China",
         "orientation": "v",
         "showlegend": true,
         "type": "scatter",
         "x": [
          "2001",
          "2002",
          "2003",
          "2004",
          "2005",
          "2006",
          "2007",
          "2008",
          "2009",
          "2010",
          "2011",
          "2012",
          "2013",
          "2014",
          "2015",
          "2016",
          "2017",
          "2018",
          "2019"
         ],
         "xaxis": "x",
         "y": [
          6.374663829803467,
          16.004417896270752,
          37.25409555435181,
          51.54688882827759,
          70.59344339370728,
          91.80424928665161,
          115.35657358169556,
          134.0772099494934,
          152.08750200271606,
          175.20920038223267,
          191.7064061164856,
          216.353506565094,
          233.16031885147095,
          259.3226971626282,
          280.9565167427063,
          289.8553395271301,
          311.00864458084106,
          320.6173892021179,
          333.7164235115051
         ],
         "yaxis": "y"
        },
        {
         "hovertemplate": "Country=India<br>Year=%{x}<br>Cumulative Fire Emission (TgC)=%{y}<extra></extra>",
         "legendgroup": "India",
         "line": {
          "color": "#2CA02C",
          "dash": "solid"
         },
         "mode": "lines",
         "name": "India",
         "orientation": "v",
         "showlegend": true,
         "type": "scatter",
         "x": [
          "2001",
          "2002",
          "2003",
          "2004",
          "2005",
          "2006",
          "2007",
          "2008",
          "2009",
          "2010",
          "2011",
          "2012",
          "2013",
          "2014",
          "2015",
          "2016",
          "2017",
          "2018",
          "2019"
         ],
         "xaxis": "x",
         "y": [
          5.689018249511719,
          10.32421588897705,
          23.09078407287598,
          44.67494201660157,
          56.10598754882813,
          70.76061153411867,
          90.18734455108644,
          104.95611667633058,
          140.79610538482666,
          170.09259700775146,
          186.95934963226318,
          217.60089778900146,
          236.10060787200928,
          252.43487644195557,
          265.139084815979,
          282.6375780105591,
          307.81977558135986,
          328.70429515838623,
          343.8935327529907
         ],
         "yaxis": "y"
        },
        {
         "hovertemplate": "Country=Russia<br>Year=%{x}<br>Cumulative Fire Emission (TgC)=%{y}<extra></extra>",
         "legendgroup": "Russia",
         "line": {
          "color": "#D62728",
          "dash": "solid"
         },
         "mode": "lines",
         "name": "Russia",
         "orientation": "v",
         "showlegend": true,
         "type": "scatter",
         "x": [
          "2001",
          "2002",
          "2003",
          "2004",
          "2005",
          "2006",
          "2007",
          "2008",
          "2009",
          "2010",
          "2011",
          "2012",
          "2013",
          "2014",
          "2015",
          "2016",
          "2017",
          "2018",
          "2019"
         ],
         "xaxis": "x",
         "y": [
          38.2740364074707,
          98.06826782226562,
          220.27162933349612,
          268.91481018066406,
          315.1525001525879,
          372.1682319641113,
          410.6558303833008,
          505.4921188354492,
          561.4552116394043,
          605.4999618530273,
          671.3853225708008,
          729.1790809631348,
          755.2691707611084,
          823.4491024017334,
          861.9090900421143,
          905.3602199554443,
          930.8334045410156,
          977.5243682861328,
          1023.2140312194824
         ],
         "yaxis": "y"
        },
        {
         "hovertemplate": "Country=United States<br>Year=%{x}<br>Cumulative Fire Emission (TgC)=%{y}<extra></extra>",
         "legendgroup": "United States",
         "line": {
          "color": "#9467BD",
          "dash": "solid"
         },
         "mode": "lines",
         "name": "United States",
         "orientation": "v",
         "showlegend": true,
         "type": "scatter",
         "x": [
          "2001",
          "2002",
          "2003",
          "2004",
          "2005",
          "2006",
          "2007",
          "2008",
          "2009",
          "2010",
          "2011",
          "2012",
          "2013",
          "2014",
          "2015",
          "2016",
          "2017",
          "2018",
          "2019"
         ],
         "xaxis": "x",
         "y": [
          5.741110801696777,
          14.107492446899414,
          26.667541503906254,
          45.261911392211914,
          64.72931480407715,
          77.528151512146,
          92.78427410125732,
          104.13844299316406,
          116.72874546051025,
          128.98458671569824,
          145.17540168762207,
          157.75238418579102,
          169.4630947113037,
          179.71080684661865,
          196.3469114303589,
          209.5804681777954,
          222.340069770813,
          237.38784980773926,
          249.33811473846436
         ],
         "yaxis": "y"
        }
       ],
       "layout": {
        "legend": {
         "title": {
          "text": "Country"
         },
         "tracegroupgap": 0
        },
        "template": {
         "data": {
          "scatter": [
           {
            "type": "scatter"
           }
          ]
         }
        },
        "title": {
         "text": "Cumulative Fire Emission (TgC) [2001-2019]"
        },
        "xaxis": {
         "anchor": "y",
         "domain": [
          0,
          1
         ],
         "title": {
          "text": "Year"
         }
        },
        "yaxis": {
         "anchor": "x",
         "domain": [
          0,
          1
         ],
         "title": {
          "text": "Cumulative Fire Emission (TgC)"
         }
        }
       }
      },
      "text/html": [
       "<div>                            <div id=\"071f927b-6f46-4e84-92d3-85b025382af4\" class=\"plotly-graph-div\" style=\"height:525px; width:100%;\"></div>            <script type=\"text/javascript\">                require([\"plotly\"], function(Plotly) {                    window.PLOTLYENV=window.PLOTLYENV || {};                                    if (document.getElementById(\"071f927b-6f46-4e84-92d3-85b025382af4\")) {                    Plotly.newPlot(                        \"071f927b-6f46-4e84-92d3-85b025382af4\",                        [{\"hovertemplate\": \"Country=Brazil<br>Year=%{x}<br>Cumulative Fire Emission (TgC)=%{y}<extra></extra>\", \"legendgroup\": \"Brazil\", \"line\": {\"color\": \"#1F77B4\", \"dash\": \"solid\"}, \"mode\": \"lines\", \"name\": \"Brazil\", \"orientation\": \"v\", \"showlegend\": true, \"type\": \"scatter\", \"x\": [\"2001\", \"2002\", \"2003\", \"2004\", \"2005\", \"2006\", \"2007\", \"2008\", \"2009\", \"2010\", \"2011\", \"2012\", \"2013\", \"2014\", \"2015\", \"2016\", \"2017\", \"2018\", \"2019\"], \"xaxis\": \"x\", \"y\": [78.29266357421875, 207.83464050292966, 301.82432556152344, 419.46175384521484, 554.5183486938477, 628.2292098999023, 841.1428451538086, 923.3584060668945, 976.7312850952148, 1190.9136123657227, 1264.8694686889648, 1390.3301162719727, 1439.3626441955566, 1521.4466438293457, 1651.2421607971191, 1729.8211784362793, 1829.5398216247559, 1880.5457344055176, 1992.8368949890137], \"yaxis\": \"y\"}, {\"hovertemplate\": \"Country=China<br>Year=%{x}<br>Cumulative Fire Emission (TgC)=%{y}<extra></extra>\", \"legendgroup\": \"China\", \"line\": {\"color\": \"#FF7F0E\", \"dash\": \"solid\"}, \"mode\": \"lines\", \"name\": \"China\", \"orientation\": \"v\", \"showlegend\": true, \"type\": \"scatter\", \"x\": [\"2001\", \"2002\", \"2003\", \"2004\", \"2005\", \"2006\", \"2007\", \"2008\", \"2009\", \"2010\", \"2011\", \"2012\", \"2013\", \"2014\", \"2015\", \"2016\", \"2017\", \"2018\", \"2019\"], \"xaxis\": \"x\", \"y\": [6.374663829803467, 16.004417896270752, 37.25409555435181, 51.54688882827759, 70.59344339370728, 91.80424928665161, 115.35657358169556, 134.0772099494934, 152.08750200271606, 175.20920038223267, 191.7064061164856, 216.353506565094, 233.16031885147095, 259.3226971626282, 280.9565167427063, 289.8553395271301, 311.00864458084106, 320.6173892021179, 333.7164235115051], \"yaxis\": \"y\"}, {\"hovertemplate\": \"Country=India<br>Year=%{x}<br>Cumulative Fire Emission (TgC)=%{y}<extra></extra>\", \"legendgroup\": \"India\", \"line\": {\"color\": \"#2CA02C\", \"dash\": \"solid\"}, \"mode\": \"lines\", \"name\": \"India\", \"orientation\": \"v\", \"showlegend\": true, \"type\": \"scatter\", \"x\": [\"2001\", \"2002\", \"2003\", \"2004\", \"2005\", \"2006\", \"2007\", \"2008\", \"2009\", \"2010\", \"2011\", \"2012\", \"2013\", \"2014\", \"2015\", \"2016\", \"2017\", \"2018\", \"2019\"], \"xaxis\": \"x\", \"y\": [5.689018249511719, 10.32421588897705, 23.09078407287598, 44.67494201660157, 56.10598754882813, 70.76061153411867, 90.18734455108644, 104.95611667633058, 140.79610538482666, 170.09259700775146, 186.95934963226318, 217.60089778900146, 236.10060787200928, 252.43487644195557, 265.139084815979, 282.6375780105591, 307.81977558135986, 328.70429515838623, 343.8935327529907], \"yaxis\": \"y\"}, {\"hovertemplate\": \"Country=Russia<br>Year=%{x}<br>Cumulative Fire Emission (TgC)=%{y}<extra></extra>\", \"legendgroup\": \"Russia\", \"line\": {\"color\": \"#D62728\", \"dash\": \"solid\"}, \"mode\": \"lines\", \"name\": \"Russia\", \"orientation\": \"v\", \"showlegend\": true, \"type\": \"scatter\", \"x\": [\"2001\", \"2002\", \"2003\", \"2004\", \"2005\", \"2006\", \"2007\", \"2008\", \"2009\", \"2010\", \"2011\", \"2012\", \"2013\", \"2014\", \"2015\", \"2016\", \"2017\", \"2018\", \"2019\"], \"xaxis\": \"x\", \"y\": [38.2740364074707, 98.06826782226562, 220.27162933349612, 268.91481018066406, 315.1525001525879, 372.1682319641113, 410.6558303833008, 505.4921188354492, 561.4552116394043, 605.4999618530273, 671.3853225708008, 729.1790809631348, 755.2691707611084, 823.4491024017334, 861.9090900421143, 905.3602199554443, 930.8334045410156, 977.5243682861328, 1023.2140312194824], \"yaxis\": \"y\"}, {\"hovertemplate\": \"Country=United States<br>Year=%{x}<br>Cumulative Fire Emission (TgC)=%{y}<extra></extra>\", \"legendgroup\": \"United States\", \"line\": {\"color\": \"#9467BD\", \"dash\": \"solid\"}, \"mode\": \"lines\", \"name\": \"United States\", \"orientation\": \"v\", \"showlegend\": true, \"type\": \"scatter\", \"x\": [\"2001\", \"2002\", \"2003\", \"2004\", \"2005\", \"2006\", \"2007\", \"2008\", \"2009\", \"2010\", \"2011\", \"2012\", \"2013\", \"2014\", \"2015\", \"2016\", \"2017\", \"2018\", \"2019\"], \"xaxis\": \"x\", \"y\": [5.741110801696777, 14.107492446899414, 26.667541503906254, 45.261911392211914, 64.72931480407715, 77.528151512146, 92.78427410125732, 104.13844299316406, 116.72874546051025, 128.98458671569824, 145.17540168762207, 157.75238418579102, 169.4630947113037, 179.71080684661865, 196.3469114303589, 209.5804681777954, 222.340069770813, 237.38784980773926, 249.33811473846436], \"yaxis\": \"y\"}],                        {\"legend\": {\"title\": {\"text\": \"Country\"}, \"tracegroupgap\": 0}, \"template\": {\"data\": {\"scatter\": [{\"type\": \"scatter\"}]}}, \"title\": {\"text\": \"Cumulative Fire Emission (TgC) [2001-2019]\"}, \"xaxis\": {\"anchor\": \"y\", \"domain\": [0.0, 1.0], \"title\": {\"text\": \"Year\"}}, \"yaxis\": {\"anchor\": \"x\", \"domain\": [0.0, 1.0], \"title\": {\"text\": \"Cumulative Fire Emission (TgC)\"}}},                        {\"responsive\": true}                    ).then(function(){\n",
       "                            \n",
       "var gd = document.getElementById('071f927b-6f46-4e84-92d3-85b025382af4');\n",
       "var x = new MutationObserver(function (mutations, observer) {{\n",
       "        var display = window.getComputedStyle(gd).display;\n",
       "        if (!display || display === 'none') {{\n",
       "            console.log([gd, 'removed!']);\n",
       "            Plotly.purge(gd);\n",
       "            observer.disconnect();\n",
       "        }}\n",
       "}});\n",
       "\n",
       "// Listen for the removal of the full notebook cells\n",
       "var notebookContainer = gd.closest('#notebook-container');\n",
       "if (notebookContainer) {{\n",
       "    x.observe(notebookContainer, {childList: true});\n",
       "}}\n",
       "\n",
       "// Listen for the clearing of the current output cell\n",
       "var outputEl = gd.closest('.output');\n",
       "if (outputEl) {{\n",
       "    x.observe(outputEl, {childList: true});\n",
       "}}\n",
       "\n",
       "                        })                };                });            </script>        </div>"
      ]
     },
     "metadata": {},
     "output_type": "display_data"
    },
    {
     "data": {
      "application/vnd.plotly.v1+json": {
       "config": {
        "plotlyServerURL": "https://plot.ly"
       },
       "data": [
        {
         "hovertemplate": "Country=Brazil<br>Year=%{x}<br>Cumulative Removal (tons C)=%{y}<extra></extra>",
         "legendgroup": "Brazil",
         "line": {
          "color": "#1F77B4",
          "dash": "solid"
         },
         "mode": "lines",
         "name": "Brazil",
         "orientation": "v",
         "showlegend": true,
         "type": "scatter",
         "x": [
          "2001",
          "2002",
          "2003",
          "2004",
          "2005",
          "2006",
          "2007",
          "2008",
          "2009",
          "2010",
          "2011",
          "2012",
          "2013",
          "2014",
          "2015",
          "2016",
          "2017",
          "2018",
          "2019"
         ],
         "xaxis": "x",
         "y": [
          -544665405.2734375,
          -1174885253.90625,
          -1401917495.727539,
          -2214357803.3447266,
          -1997135528.5644531,
          -2695098663.330078,
          -2598709442.138672,
          -2965731658.935547,
          -4087936126.708985,
          -3447318939.208985,
          -4236331329.3457036,
          -4384196197.509766,
          -5205030792.236328,
          -5479736785.888672,
          -5446641738.891602,
          -6064617141.723633,
          -7045026504.516602,
          -7917235977.172852,
          -9073912368.774414
         ],
         "yaxis": "y"
        },
        {
         "hovertemplate": "Country=China<br>Year=%{x}<br>Cumulative Removal (tons C)=%{y}<extra></extra>",
         "legendgroup": "China",
         "line": {
          "color": "#FF7F0E",
          "dash": "solid"
         },
         "mode": "lines",
         "name": "China",
         "orientation": "v",
         "showlegend": true,
         "type": "scatter",
         "x": [
          "2001",
          "2002",
          "2003",
          "2004",
          "2005",
          "2006",
          "2007",
          "2008",
          "2009",
          "2010",
          "2011",
          "2012",
          "2013",
          "2014",
          "2015",
          "2016",
          "2017",
          "2018",
          "2019"
         ],
         "xaxis": "x",
         "y": [
          12049831.39038086,
          -244369174.95727533,
          -295618076.32446283,
          -359203083.03833,
          -598063266.7541504,
          -529560283.6608887,
          -776668346.4050293,
          -1040425731.6589355,
          -1120205783.8439941,
          -1166898101.8066406,
          -1173857404.7088623,
          -1765939130.783081,
          -1923966444.015503,
          -1931614364.6240234,
          -2424021133.4228516,
          -2988712539.6728516,
          -3172665527.34375,
          -3548056823.7304688,
          -3644321098.3276367
         ],
         "yaxis": "y"
        },
        {
         "hovertemplate": "Country=India<br>Year=%{x}<br>Cumulative Removal (tons C)=%{y}<extra></extra>",
         "legendgroup": "India",
         "line": {
          "color": "#2CA02C",
          "dash": "solid"
         },
         "mode": "lines",
         "name": "India",
         "orientation": "v",
         "showlegend": true,
         "type": "scatter",
         "x": [
          "2001",
          "2002",
          "2003",
          "2004",
          "2005",
          "2006",
          "2007",
          "2008",
          "2009",
          "2010",
          "2011",
          "2012",
          "2013",
          "2014",
          "2015",
          "2016",
          "2017",
          "2018",
          "2019"
         ],
         "xaxis": "x",
         "y": [
          -21919979.09545898,
          -38729797.36328125,
          -111934127.80761719,
          -145941608.42895508,
          -186652141.57104492,
          -200113565.4449463,
          -254386957.1685791,
          -328158197.4029541,
          -306884489.05944824,
          -431959844.58923346,
          -463039613.72375494,
          -451028654.0985108,
          -546781263.3514404,
          -550129744.5297241,
          -664815657.6156616,
          -684618838.3102417,
          -799448306.0836792,
          -821041094.7799683,
          -909384112.3580933
         ],
         "yaxis": "y"
        },
        {
         "hovertemplate": "Country=Russia<br>Year=%{x}<br>Cumulative Removal (tons C)=%{y}<extra></extra>",
         "legendgroup": "Russia",
         "line": {
          "color": "#D62728",
          "dash": "solid"
         },
         "mode": "lines",
         "name": "Russia",
         "orientation": "v",
         "showlegend": true,
         "type": "scatter",
         "x": [
          "2001",
          "2002",
          "2003",
          "2004",
          "2005",
          "2006",
          "2007",
          "2008",
          "2009",
          "2010",
          "2011",
          "2012",
          "2013",
          "2014",
          "2015",
          "2016",
          "2017",
          "2018",
          "2019"
         ],
         "xaxis": "x",
         "y": [
          456142761.2304688,
          -479618225.0976562,
          -812524780.2734374,
          -1381976135.2539062,
          -1237878952.0263672,
          -1178635055.5419922,
          -3099461349.487304,
          -2856739471.4355464,
          -2390903930.664062,
          -2151582687.377929,
          -3183077072.143554,
          -3813097763.061523,
          -3601617599.487304,
          -4935799972.53418,
          -5430129379.272461,
          -6528518783.569336,
          -6616147850.036621,
          -7216528587.341309,
          -7094555564.880371
         ],
         "yaxis": "y"
        },
        {
         "hovertemplate": "Country=United States<br>Year=%{x}<br>Cumulative Removal (tons C)=%{y}<extra></extra>",
         "legendgroup": "United States",
         "line": {
          "color": "#9467BD",
          "dash": "solid"
         },
         "mode": "lines",
         "name": "United States",
         "orientation": "v",
         "showlegend": true,
         "type": "scatter",
         "x": [
          "2001",
          "2002",
          "2003",
          "2004",
          "2005",
          "2006",
          "2007",
          "2008",
          "2009",
          "2010",
          "2011",
          "2012",
          "2013",
          "2014",
          "2015",
          "2016",
          "2017",
          "2018",
          "2019"
         ],
         "xaxis": "x",
         "y": [
          -194413970.9472656,
          -507812683.10546875,
          -663664382.9345703,
          -1668293533.3251953,
          -1674096385.9558105,
          -1481778621.673584,
          -1613487621.307373,
          -1408725643.157959,
          -1991974056.2438965,
          -2480750331.878662,
          -2294405879.974365,
          -2830934444.42749,
          -2865692089.0808105,
          -2981310848.236084,
          -3730289058.6853027,
          -4266852779.3884277,
          -4361487102.508545,
          -4367953448.295593,
          -4756510241.508484
         ],
         "yaxis": "y"
        }
       ],
       "layout": {
        "legend": {
         "title": {
          "text": "Country"
         },
         "tracegroupgap": 0
        },
        "template": {
         "data": {
          "scatter": [
           {
            "type": "scatter"
           }
          ]
         }
        },
        "title": {
         "text": "Cumulative Removal (tons C) [2001-2019]"
        },
        "xaxis": {
         "anchor": "y",
         "domain": [
          0,
          1
         ],
         "title": {
          "text": "Year"
         }
        },
        "yaxis": {
         "anchor": "x",
         "domain": [
          0,
          1
         ],
         "title": {
          "text": "Cumulative Removal (tons C)"
         }
        }
       }
      },
      "text/html": [
       "<div>                            <div id=\"84b18504-75c5-4744-be7c-755a37a5e3b8\" class=\"plotly-graph-div\" style=\"height:525px; width:100%;\"></div>            <script type=\"text/javascript\">                require([\"plotly\"], function(Plotly) {                    window.PLOTLYENV=window.PLOTLYENV || {};                                    if (document.getElementById(\"84b18504-75c5-4744-be7c-755a37a5e3b8\")) {                    Plotly.newPlot(                        \"84b18504-75c5-4744-be7c-755a37a5e3b8\",                        [{\"hovertemplate\": \"Country=Brazil<br>Year=%{x}<br>Cumulative Removal (tons C)=%{y}<extra></extra>\", \"legendgroup\": \"Brazil\", \"line\": {\"color\": \"#1F77B4\", \"dash\": \"solid\"}, \"mode\": \"lines\", \"name\": \"Brazil\", \"orientation\": \"v\", \"showlegend\": true, \"type\": \"scatter\", \"x\": [\"2001\", \"2002\", \"2003\", \"2004\", \"2005\", \"2006\", \"2007\", \"2008\", \"2009\", \"2010\", \"2011\", \"2012\", \"2013\", \"2014\", \"2015\", \"2016\", \"2017\", \"2018\", \"2019\"], \"xaxis\": \"x\", \"y\": [-544665405.2734375, -1174885253.90625, -1401917495.727539, -2214357803.3447266, -1997135528.5644531, -2695098663.330078, -2598709442.138672, -2965731658.935547, -4087936126.708985, -3447318939.208985, -4236331329.3457036, -4384196197.509766, -5205030792.236328, -5479736785.888672, -5446641738.891602, -6064617141.723633, -7045026504.516602, -7917235977.172852, -9073912368.774414], \"yaxis\": \"y\"}, {\"hovertemplate\": \"Country=China<br>Year=%{x}<br>Cumulative Removal (tons C)=%{y}<extra></extra>\", \"legendgroup\": \"China\", \"line\": {\"color\": \"#FF7F0E\", \"dash\": \"solid\"}, \"mode\": \"lines\", \"name\": \"China\", \"orientation\": \"v\", \"showlegend\": true, \"type\": \"scatter\", \"x\": [\"2001\", \"2002\", \"2003\", \"2004\", \"2005\", \"2006\", \"2007\", \"2008\", \"2009\", \"2010\", \"2011\", \"2012\", \"2013\", \"2014\", \"2015\", \"2016\", \"2017\", \"2018\", \"2019\"], \"xaxis\": \"x\", \"y\": [12049831.39038086, -244369174.95727533, -295618076.32446283, -359203083.03833, -598063266.7541504, -529560283.6608887, -776668346.4050293, -1040425731.6589355, -1120205783.8439941, -1166898101.8066406, -1173857404.7088623, -1765939130.783081, -1923966444.015503, -1931614364.6240234, -2424021133.4228516, -2988712539.6728516, -3172665527.34375, -3548056823.7304688, -3644321098.3276367], \"yaxis\": \"y\"}, {\"hovertemplate\": \"Country=India<br>Year=%{x}<br>Cumulative Removal (tons C)=%{y}<extra></extra>\", \"legendgroup\": \"India\", \"line\": {\"color\": \"#2CA02C\", \"dash\": \"solid\"}, \"mode\": \"lines\", \"name\": \"India\", \"orientation\": \"v\", \"showlegend\": true, \"type\": \"scatter\", \"x\": [\"2001\", \"2002\", \"2003\", \"2004\", \"2005\", \"2006\", \"2007\", \"2008\", \"2009\", \"2010\", \"2011\", \"2012\", \"2013\", \"2014\", \"2015\", \"2016\", \"2017\", \"2018\", \"2019\"], \"xaxis\": \"x\", \"y\": [-21919979.09545898, -38729797.36328125, -111934127.80761719, -145941608.42895508, -186652141.57104492, -200113565.4449463, -254386957.1685791, -328158197.4029541, -306884489.05944824, -431959844.58923346, -463039613.72375494, -451028654.0985108, -546781263.3514404, -550129744.5297241, -664815657.6156616, -684618838.3102417, -799448306.0836792, -821041094.7799683, -909384112.3580933], \"yaxis\": \"y\"}, {\"hovertemplate\": \"Country=Russia<br>Year=%{x}<br>Cumulative Removal (tons C)=%{y}<extra></extra>\", \"legendgroup\": \"Russia\", \"line\": {\"color\": \"#D62728\", \"dash\": \"solid\"}, \"mode\": \"lines\", \"name\": \"Russia\", \"orientation\": \"v\", \"showlegend\": true, \"type\": \"scatter\", \"x\": [\"2001\", \"2002\", \"2003\", \"2004\", \"2005\", \"2006\", \"2007\", \"2008\", \"2009\", \"2010\", \"2011\", \"2012\", \"2013\", \"2014\", \"2015\", \"2016\", \"2017\", \"2018\", \"2019\"], \"xaxis\": \"x\", \"y\": [456142761.2304688, -479618225.0976562, -812524780.2734374, -1381976135.2539062, -1237878952.0263672, -1178635055.5419922, -3099461349.487304, -2856739471.4355464, -2390903930.664062, -2151582687.377929, -3183077072.143554, -3813097763.061523, -3601617599.487304, -4935799972.53418, -5430129379.272461, -6528518783.569336, -6616147850.036621, -7216528587.341309, -7094555564.880371], \"yaxis\": \"y\"}, {\"hovertemplate\": \"Country=United States<br>Year=%{x}<br>Cumulative Removal (tons C)=%{y}<extra></extra>\", \"legendgroup\": \"United States\", \"line\": {\"color\": \"#9467BD\", \"dash\": \"solid\"}, \"mode\": \"lines\", \"name\": \"United States\", \"orientation\": \"v\", \"showlegend\": true, \"type\": \"scatter\", \"x\": [\"2001\", \"2002\", \"2003\", \"2004\", \"2005\", \"2006\", \"2007\", \"2008\", \"2009\", \"2010\", \"2011\", \"2012\", \"2013\", \"2014\", \"2015\", \"2016\", \"2017\", \"2018\", \"2019\"], \"xaxis\": \"x\", \"y\": [-194413970.9472656, -507812683.10546875, -663664382.9345703, -1668293533.3251953, -1674096385.9558105, -1481778621.673584, -1613487621.307373, -1408725643.157959, -1991974056.2438965, -2480750331.878662, -2294405879.974365, -2830934444.42749, -2865692089.0808105, -2981310848.236084, -3730289058.6853027, -4266852779.3884277, -4361487102.508545, -4367953448.295593, -4756510241.508484], \"yaxis\": \"y\"}],                        {\"legend\": {\"title\": {\"text\": \"Country\"}, \"tracegroupgap\": 0}, \"template\": {\"data\": {\"scatter\": [{\"type\": \"scatter\"}]}}, \"title\": {\"text\": \"Cumulative Removal (tons C) [2001-2019]\"}, \"xaxis\": {\"anchor\": \"y\", \"domain\": [0.0, 1.0], \"title\": {\"text\": \"Year\"}}, \"yaxis\": {\"anchor\": \"x\", \"domain\": [0.0, 1.0], \"title\": {\"text\": \"Cumulative Removal (tons C)\"}}},                        {\"responsive\": true}                    ).then(function(){\n",
       "                            \n",
       "var gd = document.getElementById('84b18504-75c5-4744-be7c-755a37a5e3b8');\n",
       "var x = new MutationObserver(function (mutations, observer) {{\n",
       "        var display = window.getComputedStyle(gd).display;\n",
       "        if (!display || display === 'none') {{\n",
       "            console.log([gd, 'removed!']);\n",
       "            Plotly.purge(gd);\n",
       "            observer.disconnect();\n",
       "        }}\n",
       "}});\n",
       "\n",
       "// Listen for the removal of the full notebook cells\n",
       "var notebookContainer = gd.closest('#notebook-container');\n",
       "if (notebookContainer) {{\n",
       "    x.observe(notebookContainer, {childList: true});\n",
       "}}\n",
       "\n",
       "// Listen for the clearing of the current output cell\n",
       "var outputEl = gd.closest('.output');\n",
       "if (outputEl) {{\n",
       "    x.observe(outputEl, {childList: true});\n",
       "}}\n",
       "\n",
       "                        })                };                });            </script>        </div>"
      ]
     },
     "metadata": {},
     "output_type": "display_data"
    }
   ],
   "source": [
    "# For a handful of variables, let's plot cumulative charts for these two decades\n",
    "country_select = ['United States','Brazil','India','China','Russia']\n",
    "variable_list = ['Deforestation Emission (TgC)',\n",
    "       'Degradation Emission (TgC)', 'Fire Emission (TgC)',\n",
    "       'Removal (tons C)']\n",
    "for var in variable_list:\n",
    "    t_df = country_df[country_df.Country.isin(country_select)][['Country','Year',var]]\n",
    "    t_df['Cumulative ' + var] = t_df.groupby('Country').cumsum()\n",
    "    px.line(t_df,x='Year',y='Cumulative ' + var,color = 'Country',title = 'Cumulative ' + var + ' [2001-2019]')"
   ]
  },
  {
   "cell_type": "code",
   "execution_count": 121,
   "metadata": {
    "scrolled": false
   },
   "outputs": [
    {
     "data": {
      "application/vnd.plotly.v1+json": {
       "config": {
        "plotlyServerURL": "https://plot.ly"
       },
       "data": [
        {
         "alignmentgroup": "True",
         "hovertemplate": "Forest Area (ha)=%{x}<br>Country=%{y}<br>% of Global Total=%{text}<extra></extra>",
         "legendgroup": "",
         "marker": {
          "color": "lightgreen"
         },
         "name": "",
         "offsetgroup": "",
         "orientation": "h",
         "showlegend": false,
         "text": [
          0.01946859185433405,
          0.020671919487907243,
          0.03936533712424955,
          0.040478493778108984,
          0.050943304581060465,
          0.07197536618261434,
          0.10440860218328922,
          0.12929676752317232,
          0.1873530119713802,
          1
         ],
         "textposition": "outside",
         "texttemplate": "%{text:.2p}",
         "type": "bar",
         "x": [
          78378475,
          83222943.75,
          158480650,
          162962100,
          205092312.5,
          289765150,
          420337900,
          520535000,
          754263250,
          4025893376.697996
         ],
         "xaxis": "x",
         "y": [
          "Peru",
          "Colombia",
          "Indonesia",
          "China",
          "Democratic Republic of the Congo",
          "United States",
          "Canada",
          "Brazil",
          "Russia",
          "Global Total"
         ],
         "yaxis": "y"
        }
       ],
       "layout": {
        "barmode": "relative",
        "legend": {
         "tracegroupgap": 0
        },
        "template": {
         "data": {
          "scatter": [
           {
            "type": "scatter"
           }
          ]
         }
        },
        "title": {
         "text": "Top Countries: Forest Area (ha) [2019 Data]"
        },
        "xaxis": {
         "anchor": "y",
         "domain": [
          0,
          1
         ],
         "title": {
          "text": "Forest Area (ha)"
         }
        },
        "yaxis": {
         "anchor": "x",
         "domain": [
          0,
          1
         ],
         "title": {
          "text": "Country"
         }
        }
       }
      },
      "text/html": [
       "<div>                            <div id=\"f1214de9-bd7f-4cb7-aa12-2ffdf85f00aa\" class=\"plotly-graph-div\" style=\"height:525px; width:100%;\"></div>            <script type=\"text/javascript\">                require([\"plotly\"], function(Plotly) {                    window.PLOTLYENV=window.PLOTLYENV || {};                                    if (document.getElementById(\"f1214de9-bd7f-4cb7-aa12-2ffdf85f00aa\")) {                    Plotly.newPlot(                        \"f1214de9-bd7f-4cb7-aa12-2ffdf85f00aa\",                        [{\"alignmentgroup\": \"True\", \"hovertemplate\": \"Forest Area (ha)=%{x}<br>Country=%{y}<br>% of Global Total=%{text}<extra></extra>\", \"legendgroup\": \"\", \"marker\": {\"color\": \"lightgreen\"}, \"name\": \"\", \"offsetgroup\": \"\", \"orientation\": \"h\", \"showlegend\": false, \"text\": [0.01946859185433405, 0.020671919487907243, 0.03936533712424955, 0.040478493778108984, 0.050943304581060465, 0.07197536618261434, 0.10440860218328922, 0.12929676752317232, 0.1873530119713802, 1.0], \"textposition\": \"outside\", \"texttemplate\": \"%{text:.2p}\", \"type\": \"bar\", \"x\": [78378475.0, 83222943.75, 158480650.0, 162962100.0, 205092312.5, 289765150.0, 420337900.0, 520535000.0, 754263250.0, 4025893376.697996], \"xaxis\": \"x\", \"y\": [\"Peru\", \"Colombia\", \"Indonesia\", \"China\", \"Democratic Republic of the Congo\", \"United States\", \"Canada\", \"Brazil\", \"Russia\", \"Global Total\"], \"yaxis\": \"y\"}],                        {\"barmode\": \"relative\", \"legend\": {\"tracegroupgap\": 0}, \"template\": {\"data\": {\"scatter\": [{\"type\": \"scatter\"}]}}, \"title\": {\"text\": \"Top Countries: Forest Area (ha) [2019 Data]\"}, \"xaxis\": {\"anchor\": \"y\", \"domain\": [0.0, 1.0], \"title\": {\"text\": \"Forest Area (ha)\"}}, \"yaxis\": {\"anchor\": \"x\", \"domain\": [0.0, 1.0], \"title\": {\"text\": \"Country\"}}},                        {\"responsive\": true}                    ).then(function(){\n",
       "                            \n",
       "var gd = document.getElementById('f1214de9-bd7f-4cb7-aa12-2ffdf85f00aa');\n",
       "var x = new MutationObserver(function (mutations, observer) {{\n",
       "        var display = window.getComputedStyle(gd).display;\n",
       "        if (!display || display === 'none') {{\n",
       "            console.log([gd, 'removed!']);\n",
       "            Plotly.purge(gd);\n",
       "            observer.disconnect();\n",
       "        }}\n",
       "}});\n",
       "\n",
       "// Listen for the removal of the full notebook cells\n",
       "var notebookContainer = gd.closest('#notebook-container');\n",
       "if (notebookContainer) {{\n",
       "    x.observe(notebookContainer, {childList: true});\n",
       "}}\n",
       "\n",
       "// Listen for the clearing of the current output cell\n",
       "var outputEl = gd.closest('.output');\n",
       "if (outputEl) {{\n",
       "    x.observe(outputEl, {childList: true});\n",
       "}}\n",
       "\n",
       "                        })                };                });            </script>        </div>"
      ]
     },
     "metadata": {},
     "output_type": "display_data"
    },
    {
     "data": {
      "application/vnd.plotly.v1+json": {
       "config": {
        "plotlyServerURL": "https://plot.ly"
       },
       "data": [
        {
         "alignmentgroup": "True",
         "hovertemplate": "Nonforest Area (ha)=%{x}<br>Country=%{y}<br>% of Global Total=%{text}<extra></extra>",
         "legendgroup": "",
         "marker": {
          "color": "lightgreen"
         },
         "name": "",
         "offsetgroup": "",
         "orientation": "h",
         "showlegend": false,
         "text": [
          0.028090526381836903,
          0.02955351765787066,
          0.03090891121274447,
          0.04114335293935008,
          0.045603855583905215,
          0.0571985205445554,
          0.06074368948278521,
          0.06920069592885739,
          0.1585844558965792,
          1
         ],
         "textposition": "outside",
         "texttemplate": "%{text:.2p}",
         "type": "bar",
         "x": [
          45693759.375,
          48073550,
          50278315.625,
          66926281.25,
          74182006.25,
          93042593.75,
          98809381.25,
          112566062.5,
          257963125,
          1626660844.794464
         ],
         "xaxis": "x",
         "y": [
          "South Sudan",
          "Tanzania",
          "Angola",
          "Australia",
          "China",
          "United States",
          "Brazil",
          "Canada",
          "Russia",
          "Global Total"
         ],
         "yaxis": "y"
        }
       ],
       "layout": {
        "barmode": "relative",
        "legend": {
         "tracegroupgap": 0
        },
        "template": {
         "data": {
          "scatter": [
           {
            "type": "scatter"
           }
          ]
         }
        },
        "title": {
         "text": "Top Countries: Nonforest Area (ha) [2019 Data]"
        },
        "xaxis": {
         "anchor": "y",
         "domain": [
          0,
          1
         ],
         "title": {
          "text": "Nonforest Area (ha)"
         }
        },
        "yaxis": {
         "anchor": "x",
         "domain": [
          0,
          1
         ],
         "title": {
          "text": "Country"
         }
        }
       }
      },
      "text/html": [
       "<div>                            <div id=\"aeb7205c-13c5-4fad-82db-17a739d4b955\" class=\"plotly-graph-div\" style=\"height:525px; width:100%;\"></div>            <script type=\"text/javascript\">                require([\"plotly\"], function(Plotly) {                    window.PLOTLYENV=window.PLOTLYENV || {};                                    if (document.getElementById(\"aeb7205c-13c5-4fad-82db-17a739d4b955\")) {                    Plotly.newPlot(                        \"aeb7205c-13c5-4fad-82db-17a739d4b955\",                        [{\"alignmentgroup\": \"True\", \"hovertemplate\": \"Nonforest Area (ha)=%{x}<br>Country=%{y}<br>% of Global Total=%{text}<extra></extra>\", \"legendgroup\": \"\", \"marker\": {\"color\": \"lightgreen\"}, \"name\": \"\", \"offsetgroup\": \"\", \"orientation\": \"h\", \"showlegend\": false, \"text\": [0.028090526381836903, 0.02955351765787066, 0.03090891121274447, 0.04114335293935008, 0.045603855583905215, 0.0571985205445554, 0.06074368948278521, 0.06920069592885739, 0.1585844558965792, 1.0], \"textposition\": \"outside\", \"texttemplate\": \"%{text:.2p}\", \"type\": \"bar\", \"x\": [45693759.375, 48073550.0, 50278315.625, 66926281.25, 74182006.25, 93042593.75, 98809381.25, 112566062.5, 257963125.0, 1626660844.794464], \"xaxis\": \"x\", \"y\": [\"South Sudan\", \"Tanzania\", \"Angola\", \"Australia\", \"China\", \"United States\", \"Brazil\", \"Canada\", \"Russia\", \"Global Total\"], \"yaxis\": \"y\"}],                        {\"barmode\": \"relative\", \"legend\": {\"tracegroupgap\": 0}, \"template\": {\"data\": {\"scatter\": [{\"type\": \"scatter\"}]}}, \"title\": {\"text\": \"Top Countries: Nonforest Area (ha) [2019 Data]\"}, \"xaxis\": {\"anchor\": \"y\", \"domain\": [0.0, 1.0], \"title\": {\"text\": \"Nonforest Area (ha)\"}}, \"yaxis\": {\"anchor\": \"x\", \"domain\": [0.0, 1.0], \"title\": {\"text\": \"Country\"}}},                        {\"responsive\": true}                    ).then(function(){\n",
       "                            \n",
       "var gd = document.getElementById('aeb7205c-13c5-4fad-82db-17a739d4b955');\n",
       "var x = new MutationObserver(function (mutations, observer) {{\n",
       "        var display = window.getComputedStyle(gd).display;\n",
       "        if (!display || display === 'none') {{\n",
       "            console.log([gd, 'removed!']);\n",
       "            Plotly.purge(gd);\n",
       "            observer.disconnect();\n",
       "        }}\n",
       "}});\n",
       "\n",
       "// Listen for the removal of the full notebook cells\n",
       "var notebookContainer = gd.closest('#notebook-container');\n",
       "if (notebookContainer) {{\n",
       "    x.observe(notebookContainer, {childList: true});\n",
       "}}\n",
       "\n",
       "// Listen for the clearing of the current output cell\n",
       "var outputEl = gd.closest('.output');\n",
       "if (outputEl) {{\n",
       "    x.observe(outputEl, {childList: true});\n",
       "}}\n",
       "\n",
       "                        })                };                });            </script>        </div>"
      ]
     },
     "metadata": {},
     "output_type": "display_data"
    },
    {
     "data": {
      "application/vnd.plotly.v1+json": {
       "config": {
        "plotlyServerURL": "https://plot.ly"
       },
       "data": [
        {
         "alignmentgroup": "True",
         "hovertemplate": "Forest loss (ha)=%{x}<br>Country=%{y}<br>% of Global Total=%{text}<extra></extra>",
         "legendgroup": "",
         "marker": {
          "color": "lightgreen"
         },
         "name": "",
         "offsetgroup": "",
         "orientation": "h",
         "showlegend": false,
         "text": [
          0.029289882480367426,
          0.030460311372912482,
          0.04164345873656274,
          0.04327585653649053,
          0.07379260731427882,
          0.07664146163221595,
          0.08484560570822551,
          0.1168457476586475,
          0.1630491776043759,
          1
         ],
         "textposition": "outside",
         "texttemplate": "%{text:.2p}",
         "type": "bar",
         "x": [
          869791.4904063445,
          904548.5124443736,
          1236642.928302239,
          1285118.565453973,
          2191343.100808902,
          2275942.595013428,
          2519572.616682645,
          3469847.892758897,
          4841903.592242062,
          29695970.647521473
         ],
         "xaxis": "x",
         "y": [
          "Bolivia",
          "China",
          "Democratic Republic of the Congo",
          "Indonesia",
          "Australia",
          "Canada",
          "United States",
          "Brazil",
          "Russia",
          "Global Total"
         ],
         "yaxis": "y"
        }
       ],
       "layout": {
        "barmode": "relative",
        "legend": {
         "tracegroupgap": 0
        },
        "template": {
         "data": {
          "scatter": [
           {
            "type": "scatter"
           }
          ]
         }
        },
        "title": {
         "text": "Top Countries: Forest loss (ha) [2019 Data]"
        },
        "xaxis": {
         "anchor": "y",
         "domain": [
          0,
          1
         ],
         "title": {
          "text": "Forest loss (ha)"
         }
        },
        "yaxis": {
         "anchor": "x",
         "domain": [
          0,
          1
         ],
         "title": {
          "text": "Country"
         }
        }
       }
      },
      "text/html": [
       "<div>                            <div id=\"fcbdadce-04a7-4be5-b784-f564656ff697\" class=\"plotly-graph-div\" style=\"height:525px; width:100%;\"></div>            <script type=\"text/javascript\">                require([\"plotly\"], function(Plotly) {                    window.PLOTLYENV=window.PLOTLYENV || {};                                    if (document.getElementById(\"fcbdadce-04a7-4be5-b784-f564656ff697\")) {                    Plotly.newPlot(                        \"fcbdadce-04a7-4be5-b784-f564656ff697\",                        [{\"alignmentgroup\": \"True\", \"hovertemplate\": \"Forest loss (ha)=%{x}<br>Country=%{y}<br>% of Global Total=%{text}<extra></extra>\", \"legendgroup\": \"\", \"marker\": {\"color\": \"lightgreen\"}, \"name\": \"\", \"offsetgroup\": \"\", \"orientation\": \"h\", \"showlegend\": false, \"text\": [0.029289882480367426, 0.030460311372912482, 0.04164345873656274, 0.04327585653649053, 0.07379260731427882, 0.07664146163221595, 0.08484560570822551, 0.1168457476586475, 0.1630491776043759, 1.0], \"textposition\": \"outside\", \"texttemplate\": \"%{text:.2p}\", \"type\": \"bar\", \"x\": [869791.4904063445, 904548.5124443736, 1236642.928302239, 1285118.565453973, 2191343.100808902, 2275942.595013428, 2519572.616682645, 3469847.892758897, 4841903.592242062, 29695970.647521473], \"xaxis\": \"x\", \"y\": [\"Bolivia\", \"China\", \"Democratic Republic of the Congo\", \"Indonesia\", \"Australia\", \"Canada\", \"United States\", \"Brazil\", \"Russia\", \"Global Total\"], \"yaxis\": \"y\"}],                        {\"barmode\": \"relative\", \"legend\": {\"tracegroupgap\": 0}, \"template\": {\"data\": {\"scatter\": [{\"type\": \"scatter\"}]}}, \"title\": {\"text\": \"Top Countries: Forest loss (ha) [2019 Data]\"}, \"xaxis\": {\"anchor\": \"y\", \"domain\": [0.0, 1.0], \"title\": {\"text\": \"Forest loss (ha)\"}}, \"yaxis\": {\"anchor\": \"x\", \"domain\": [0.0, 1.0], \"title\": {\"text\": \"Country\"}}},                        {\"responsive\": true}                    ).then(function(){\n",
       "                            \n",
       "var gd = document.getElementById('fcbdadce-04a7-4be5-b784-f564656ff697');\n",
       "var x = new MutationObserver(function (mutations, observer) {{\n",
       "        var display = window.getComputedStyle(gd).display;\n",
       "        if (!display || display === 'none') {{\n",
       "            console.log([gd, 'removed!']);\n",
       "            Plotly.purge(gd);\n",
       "            observer.disconnect();\n",
       "        }}\n",
       "}});\n",
       "\n",
       "// Listen for the removal of the full notebook cells\n",
       "var notebookContainer = gd.closest('#notebook-container');\n",
       "if (notebookContainer) {{\n",
       "    x.observe(notebookContainer, {childList: true});\n",
       "}}\n",
       "\n",
       "// Listen for the clearing of the current output cell\n",
       "var outputEl = gd.closest('.output');\n",
       "if (outputEl) {{\n",
       "    x.observe(outputEl, {childList: true});\n",
       "}}\n",
       "\n",
       "                        })                };                });            </script>        </div>"
      ]
     },
     "metadata": {},
     "output_type": "display_data"
    },
    {
     "data": {
      "application/vnd.plotly.v1+json": {
       "config": {
        "plotlyServerURL": "https://plot.ly"
       },
       "data": [
        {
         "alignmentgroup": "True",
         "hovertemplate": "Forest C (TgC)=%{x}<br>Country=%{y}<br>% of Global Total=%{text}<extra></extra>",
         "legendgroup": "",
         "marker": {
          "color": "lightgreen"
         },
         "name": "",
         "offsetgroup": "",
         "orientation": "h",
         "showlegend": false,
         "text": [
          0.029349748651575972,
          0.03483261723564393,
          0.042540615954398946,
          0.0530621880898985,
          0.06163744808940949,
          0.06855378275864397,
          0.07814025856592142,
          0.13315062600836497,
          0.17278284828456442,
          1
         ],
         "textposition": "outside",
         "texttemplate": "%{text:.2p}",
         "type": "bar",
         "x": [
          8012.72509765625,
          9509.59375,
          11613.94140625,
          14486.41796875,
          16827.53515625,
          18715.751953125,
          21332.939453125,
          36351.2265625,
          47171.15234375,
          273008.3038454231
         ],
         "xaxis": "x",
         "y": [
          "Colombia",
          "Peru",
          "China",
          "Indonesia",
          "Canada",
          "United States",
          "Democratic Republic of the Congo",
          "Russia",
          "Brazil",
          "Global Total"
         ],
         "yaxis": "y"
        }
       ],
       "layout": {
        "barmode": "relative",
        "legend": {
         "tracegroupgap": 0
        },
        "template": {
         "data": {
          "scatter": [
           {
            "type": "scatter"
           }
          ]
         }
        },
        "title": {
         "text": "Top Countries: Forest C (TgC) [2019 Data]"
        },
        "xaxis": {
         "anchor": "y",
         "domain": [
          0,
          1
         ],
         "title": {
          "text": "Forest C (TgC)"
         }
        },
        "yaxis": {
         "anchor": "x",
         "domain": [
          0,
          1
         ],
         "title": {
          "text": "Country"
         }
        }
       }
      },
      "text/html": [
       "<div>                            <div id=\"ef679f20-6f54-44c7-8e4f-b3311a8b623c\" class=\"plotly-graph-div\" style=\"height:525px; width:100%;\"></div>            <script type=\"text/javascript\">                require([\"plotly\"], function(Plotly) {                    window.PLOTLYENV=window.PLOTLYENV || {};                                    if (document.getElementById(\"ef679f20-6f54-44c7-8e4f-b3311a8b623c\")) {                    Plotly.newPlot(                        \"ef679f20-6f54-44c7-8e4f-b3311a8b623c\",                        [{\"alignmentgroup\": \"True\", \"hovertemplate\": \"Forest C (TgC)=%{x}<br>Country=%{y}<br>% of Global Total=%{text}<extra></extra>\", \"legendgroup\": \"\", \"marker\": {\"color\": \"lightgreen\"}, \"name\": \"\", \"offsetgroup\": \"\", \"orientation\": \"h\", \"showlegend\": false, \"text\": [0.029349748651575972, 0.03483261723564393, 0.042540615954398946, 0.0530621880898985, 0.06163744808940949, 0.06855378275864397, 0.07814025856592142, 0.13315062600836497, 0.17278284828456442, 1.0], \"textposition\": \"outside\", \"texttemplate\": \"%{text:.2p}\", \"type\": \"bar\", \"x\": [8012.72509765625, 9509.59375, 11613.94140625, 14486.41796875, 16827.53515625, 18715.751953125, 21332.939453125, 36351.2265625, 47171.15234375, 273008.3038454231], \"xaxis\": \"x\", \"y\": [\"Colombia\", \"Peru\", \"China\", \"Indonesia\", \"Canada\", \"United States\", \"Democratic Republic of the Congo\", \"Russia\", \"Brazil\", \"Global Total\"], \"yaxis\": \"y\"}],                        {\"barmode\": \"relative\", \"legend\": {\"tracegroupgap\": 0}, \"template\": {\"data\": {\"scatter\": [{\"type\": \"scatter\"}]}}, \"title\": {\"text\": \"Top Countries: Forest C (TgC) [2019 Data]\"}, \"xaxis\": {\"anchor\": \"y\", \"domain\": [0.0, 1.0], \"title\": {\"text\": \"Forest C (TgC)\"}}, \"yaxis\": {\"anchor\": \"x\", \"domain\": [0.0, 1.0], \"title\": {\"text\": \"Country\"}}},                        {\"responsive\": true}                    ).then(function(){\n",
       "                            \n",
       "var gd = document.getElementById('ef679f20-6f54-44c7-8e4f-b3311a8b623c');\n",
       "var x = new MutationObserver(function (mutations, observer) {{\n",
       "        var display = window.getComputedStyle(gd).display;\n",
       "        if (!display || display === 'none') {{\n",
       "            console.log([gd, 'removed!']);\n",
       "            Plotly.purge(gd);\n",
       "            observer.disconnect();\n",
       "        }}\n",
       "}});\n",
       "\n",
       "// Listen for the removal of the full notebook cells\n",
       "var notebookContainer = gd.closest('#notebook-container');\n",
       "if (notebookContainer) {{\n",
       "    x.observe(notebookContainer, {childList: true});\n",
       "}}\n",
       "\n",
       "// Listen for the clearing of the current output cell\n",
       "var outputEl = gd.closest('.output');\n",
       "if (outputEl) {{\n",
       "    x.observe(outputEl, {childList: true});\n",
       "}}\n",
       "\n",
       "                        })                };                });            </script>        </div>"
      ]
     },
     "metadata": {},
     "output_type": "display_data"
    },
    {
     "data": {
      "application/vnd.plotly.v1+json": {
       "config": {
        "plotlyServerURL": "https://plot.ly"
       },
       "data": [
        {
         "alignmentgroup": "True",
         "hovertemplate": "Nonforest C (TgC)=%{x}<br>Country=%{y}<br>% of Global Total=%{text}<extra></extra>",
         "legendgroup": "",
         "marker": {
          "color": "lightgreen"
         },
         "name": "",
         "offsetgroup": "",
         "orientation": "h",
         "showlegend": false,
         "text": [
          0.0211065464614172,
          0.022192866576448388,
          0.024744876550349938,
          0.025121644842520757,
          0.07352193068322356,
          0.07537228257006856,
          0.08281982472235194,
          0.08605865557072054,
          0.17548299686447322,
          1
         ],
         "textposition": "outside",
         "texttemplate": "%{text:.2p}",
         "type": "bar",
         "x": [
          2190.76904296875,
          2303.5244140625,
          2568.412109375,
          2607.51904296875,
          7631.26123046875,
          7823.31982421875,
          8596.3427734375,
          8932.51953125,
          18214.3828125,
          103795.71319133043
         ],
         "xaxis": "x",
         "y": [
          "Australia",
          "Ethiopia",
          "India",
          "Mexico",
          "Canada",
          "Brazil",
          "China",
          "United States",
          "Russia",
          "Global Total"
         ],
         "yaxis": "y"
        }
       ],
       "layout": {
        "barmode": "relative",
        "legend": {
         "tracegroupgap": 0
        },
        "template": {
         "data": {
          "scatter": [
           {
            "type": "scatter"
           }
          ]
         }
        },
        "title": {
         "text": "Top Countries: Nonforest C (TgC) [2019 Data]"
        },
        "xaxis": {
         "anchor": "y",
         "domain": [
          0,
          1
         ],
         "title": {
          "text": "Nonforest C (TgC)"
         }
        },
        "yaxis": {
         "anchor": "x",
         "domain": [
          0,
          1
         ],
         "title": {
          "text": "Country"
         }
        }
       }
      },
      "text/html": [
       "<div>                            <div id=\"c65e4c6c-0c37-45c7-a792-73f959aeab73\" class=\"plotly-graph-div\" style=\"height:525px; width:100%;\"></div>            <script type=\"text/javascript\">                require([\"plotly\"], function(Plotly) {                    window.PLOTLYENV=window.PLOTLYENV || {};                                    if (document.getElementById(\"c65e4c6c-0c37-45c7-a792-73f959aeab73\")) {                    Plotly.newPlot(                        \"c65e4c6c-0c37-45c7-a792-73f959aeab73\",                        [{\"alignmentgroup\": \"True\", \"hovertemplate\": \"Nonforest C (TgC)=%{x}<br>Country=%{y}<br>% of Global Total=%{text}<extra></extra>\", \"legendgroup\": \"\", \"marker\": {\"color\": \"lightgreen\"}, \"name\": \"\", \"offsetgroup\": \"\", \"orientation\": \"h\", \"showlegend\": false, \"text\": [0.0211065464614172, 0.022192866576448388, 0.024744876550349938, 0.025121644842520757, 0.07352193068322356, 0.07537228257006856, 0.08281982472235194, 0.08605865557072054, 0.17548299686447322, 1.0], \"textposition\": \"outside\", \"texttemplate\": \"%{text:.2p}\", \"type\": \"bar\", \"x\": [2190.76904296875, 2303.5244140625, 2568.412109375, 2607.51904296875, 7631.26123046875, 7823.31982421875, 8596.3427734375, 8932.51953125, 18214.3828125, 103795.71319133043], \"xaxis\": \"x\", \"y\": [\"Australia\", \"Ethiopia\", \"India\", \"Mexico\", \"Canada\", \"Brazil\", \"China\", \"United States\", \"Russia\", \"Global Total\"], \"yaxis\": \"y\"}],                        {\"barmode\": \"relative\", \"legend\": {\"tracegroupgap\": 0}, \"template\": {\"data\": {\"scatter\": [{\"type\": \"scatter\"}]}}, \"title\": {\"text\": \"Top Countries: Nonforest C (TgC) [2019 Data]\"}, \"xaxis\": {\"anchor\": \"y\", \"domain\": [0.0, 1.0], \"title\": {\"text\": \"Nonforest C (TgC)\"}}, \"yaxis\": {\"anchor\": \"x\", \"domain\": [0.0, 1.0], \"title\": {\"text\": \"Country\"}}},                        {\"responsive\": true}                    ).then(function(){\n",
       "                            \n",
       "var gd = document.getElementById('c65e4c6c-0c37-45c7-a792-73f959aeab73');\n",
       "var x = new MutationObserver(function (mutations, observer) {{\n",
       "        var display = window.getComputedStyle(gd).display;\n",
       "        if (!display || display === 'none') {{\n",
       "            console.log([gd, 'removed!']);\n",
       "            Plotly.purge(gd);\n",
       "            observer.disconnect();\n",
       "        }}\n",
       "}});\n",
       "\n",
       "// Listen for the removal of the full notebook cells\n",
       "var notebookContainer = gd.closest('#notebook-container');\n",
       "if (notebookContainer) {{\n",
       "    x.observe(notebookContainer, {childList: true});\n",
       "}}\n",
       "\n",
       "// Listen for the clearing of the current output cell\n",
       "var outputEl = gd.closest('.output');\n",
       "if (outputEl) {{\n",
       "    x.observe(outputEl, {childList: true});\n",
       "}}\n",
       "\n",
       "                        })                };                });            </script>        </div>"
      ]
     },
     "metadata": {},
     "output_type": "display_data"
    },
    {
     "data": {
      "application/vnd.plotly.v1+json": {
       "config": {
        "plotlyServerURL": "https://plot.ly"
       },
       "data": [
        {
         "alignmentgroup": "True",
         "hovertemplate": "Total C (TgC)=%{x}<br>Country=%{y}<br>% of Global Total=%{text}<extra></extra>",
         "legendgroup": "",
         "marker": {
          "color": "lightgreen"
         },
         "name": "",
         "offsetgroup": "",
         "orientation": "h",
         "showlegend": false,
         "text": [
          0.023456564318731308,
          0.02652649605179468,
          0.04094499370941191,
          0.05363605171132304,
          0.06019325121266367,
          0.0649112051825553,
          0.07337571340284516,
          0.1448117374049717,
          0.14594978334167116,
          1
         ],
         "textposition": "outside",
         "texttemplate": "%{text:.2p}",
         "type": "bar",
         "x": [
          8838.5283203125,
          9995.291015625,
          15428.2392578125,
          20210.28125,
          22681.060546875,
          24458.8046875,
          27648.265625,
          54565.6484375,
          54994.46875,
          376804.04513692856
         ],
         "xaxis": "x",
         "y": [
          "Colombia",
          "Peru",
          "Indonesia",
          "China",
          "Democratic Republic of the Congo",
          "Canada",
          "United States",
          "Russia",
          "Brazil",
          "Global Total"
         ],
         "yaxis": "y"
        }
       ],
       "layout": {
        "barmode": "relative",
        "legend": {
         "tracegroupgap": 0
        },
        "template": {
         "data": {
          "scatter": [
           {
            "type": "scatter"
           }
          ]
         }
        },
        "title": {
         "text": "Top Countries: Total C (TgC) [2019 Data]"
        },
        "xaxis": {
         "anchor": "y",
         "domain": [
          0,
          1
         ],
         "title": {
          "text": "Total C (TgC)"
         }
        },
        "yaxis": {
         "anchor": "x",
         "domain": [
          0,
          1
         ],
         "title": {
          "text": "Country"
         }
        }
       }
      },
      "text/html": [
       "<div>                            <div id=\"f1eb2198-fbc3-4ab8-aa97-1162cfb7ba70\" class=\"plotly-graph-div\" style=\"height:525px; width:100%;\"></div>            <script type=\"text/javascript\">                require([\"plotly\"], function(Plotly) {                    window.PLOTLYENV=window.PLOTLYENV || {};                                    if (document.getElementById(\"f1eb2198-fbc3-4ab8-aa97-1162cfb7ba70\")) {                    Plotly.newPlot(                        \"f1eb2198-fbc3-4ab8-aa97-1162cfb7ba70\",                        [{\"alignmentgroup\": \"True\", \"hovertemplate\": \"Total C (TgC)=%{x}<br>Country=%{y}<br>% of Global Total=%{text}<extra></extra>\", \"legendgroup\": \"\", \"marker\": {\"color\": \"lightgreen\"}, \"name\": \"\", \"offsetgroup\": \"\", \"orientation\": \"h\", \"showlegend\": false, \"text\": [0.023456564318731308, 0.02652649605179468, 0.04094499370941191, 0.05363605171132304, 0.06019325121266367, 0.0649112051825553, 0.07337571340284516, 0.1448117374049717, 0.14594978334167116, 1.0], \"textposition\": \"outside\", \"texttemplate\": \"%{text:.2p}\", \"type\": \"bar\", \"x\": [8838.5283203125, 9995.291015625, 15428.2392578125, 20210.28125, 22681.060546875, 24458.8046875, 27648.265625, 54565.6484375, 54994.46875, 376804.04513692856], \"xaxis\": \"x\", \"y\": [\"Colombia\", \"Peru\", \"Indonesia\", \"China\", \"Democratic Republic of the Congo\", \"Canada\", \"United States\", \"Russia\", \"Brazil\", \"Global Total\"], \"yaxis\": \"y\"}],                        {\"barmode\": \"relative\", \"legend\": {\"tracegroupgap\": 0}, \"template\": {\"data\": {\"scatter\": [{\"type\": \"scatter\"}]}}, \"title\": {\"text\": \"Top Countries: Total C (TgC) [2019 Data]\"}, \"xaxis\": {\"anchor\": \"y\", \"domain\": [0.0, 1.0], \"title\": {\"text\": \"Total C (TgC)\"}}, \"yaxis\": {\"anchor\": \"x\", \"domain\": [0.0, 1.0], \"title\": {\"text\": \"Country\"}}},                        {\"responsive\": true}                    ).then(function(){\n",
       "                            \n",
       "var gd = document.getElementById('f1eb2198-fbc3-4ab8-aa97-1162cfb7ba70');\n",
       "var x = new MutationObserver(function (mutations, observer) {{\n",
       "        var display = window.getComputedStyle(gd).display;\n",
       "        if (!display || display === 'none') {{\n",
       "            console.log([gd, 'removed!']);\n",
       "            Plotly.purge(gd);\n",
       "            observer.disconnect();\n",
       "        }}\n",
       "}});\n",
       "\n",
       "// Listen for the removal of the full notebook cells\n",
       "var notebookContainer = gd.closest('#notebook-container');\n",
       "if (notebookContainer) {{\n",
       "    x.observe(notebookContainer, {childList: true});\n",
       "}}\n",
       "\n",
       "// Listen for the clearing of the current output cell\n",
       "var outputEl = gd.closest('.output');\n",
       "if (outputEl) {{\n",
       "    x.observe(outputEl, {childList: true});\n",
       "}}\n",
       "\n",
       "                        })                };                });            </script>        </div>"
      ]
     },
     "metadata": {},
     "output_type": "display_data"
    },
    {
     "data": {
      "application/vnd.plotly.v1+json": {
       "config": {
        "plotlyServerURL": "https://plot.ly"
       },
       "data": [
        {
         "alignmentgroup": "True",
         "hovertemplate": "Deforestation Emission (TgC)=%{x}<br>Country=%{y}<br>% of Global Total=%{text}<extra></extra>",
         "legendgroup": "",
         "marker": {
          "color": "lightgreen"
         },
         "name": "",
         "offsetgroup": "",
         "orientation": "h",
         "showlegend": false,
         "text": [
          0.026431353388299793,
          0.027689570424735,
          0.03950712452295546,
          0.05801600466323495,
          0.07253651548232808,
          0.0864491853028175,
          0.11697751309802017,
          0.1417015925957036,
          0.1467327690556384,
          1
         ],
         "textposition": "outside",
         "texttemplate": "%{text:.2p}",
         "type": "bar",
         "x": [
          70.56859588623047,
          73.92788696289062,
          105.479362487793,
          154.8958892822266,
          193.6639404296875,
          230.8091278076172,
          312.316162109375,
          378.3265380859375,
          391.7591857910156,
          2669.8820468825725
         ],
         "xaxis": "x",
         "y": [
          "Bolivia",
          "China",
          "Indonesia",
          "Canada",
          "Democratic Republic of the Congo",
          "United States",
          "Australia",
          "Brazil",
          "Russia",
          "Global Total"
         ],
         "yaxis": "y"
        }
       ],
       "layout": {
        "barmode": "relative",
        "legend": {
         "tracegroupgap": 0
        },
        "template": {
         "data": {
          "scatter": [
           {
            "type": "scatter"
           }
          ]
         }
        },
        "title": {
         "text": "Top Countries: Deforestation Emission (TgC) [2019 Data]"
        },
        "xaxis": {
         "anchor": "y",
         "domain": [
          0,
          1
         ],
         "title": {
          "text": "Deforestation Emission (TgC)"
         }
        },
        "yaxis": {
         "anchor": "x",
         "domain": [
          0,
          1
         ],
         "title": {
          "text": "Country"
         }
        }
       }
      },
      "text/html": [
       "<div>                            <div id=\"a0f4f5ed-2767-4430-9d14-18a969ec0eea\" class=\"plotly-graph-div\" style=\"height:525px; width:100%;\"></div>            <script type=\"text/javascript\">                require([\"plotly\"], function(Plotly) {                    window.PLOTLYENV=window.PLOTLYENV || {};                                    if (document.getElementById(\"a0f4f5ed-2767-4430-9d14-18a969ec0eea\")) {                    Plotly.newPlot(                        \"a0f4f5ed-2767-4430-9d14-18a969ec0eea\",                        [{\"alignmentgroup\": \"True\", \"hovertemplate\": \"Deforestation Emission (TgC)=%{x}<br>Country=%{y}<br>% of Global Total=%{text}<extra></extra>\", \"legendgroup\": \"\", \"marker\": {\"color\": \"lightgreen\"}, \"name\": \"\", \"offsetgroup\": \"\", \"orientation\": \"h\", \"showlegend\": false, \"text\": [0.026431353388299793, 0.027689570424735, 0.03950712452295546, 0.05801600466323495, 0.07253651548232808, 0.0864491853028175, 0.11697751309802017, 0.1417015925957036, 0.1467327690556384, 1.0], \"textposition\": \"outside\", \"texttemplate\": \"%{text:.2p}\", \"type\": \"bar\", \"x\": [70.56859588623047, 73.92788696289062, 105.479362487793, 154.8958892822266, 193.6639404296875, 230.8091278076172, 312.316162109375, 378.3265380859375, 391.7591857910156, 2669.8820468825725], \"xaxis\": \"x\", \"y\": [\"Bolivia\", \"China\", \"Indonesia\", \"Canada\", \"Democratic Republic of the Congo\", \"United States\", \"Australia\", \"Brazil\", \"Russia\", \"Global Total\"], \"yaxis\": \"y\"}],                        {\"barmode\": \"relative\", \"legend\": {\"tracegroupgap\": 0}, \"template\": {\"data\": {\"scatter\": [{\"type\": \"scatter\"}]}}, \"title\": {\"text\": \"Top Countries: Deforestation Emission (TgC) [2019 Data]\"}, \"xaxis\": {\"anchor\": \"y\", \"domain\": [0.0, 1.0], \"title\": {\"text\": \"Deforestation Emission (TgC)\"}}, \"yaxis\": {\"anchor\": \"x\", \"domain\": [0.0, 1.0], \"title\": {\"text\": \"Country\"}}},                        {\"responsive\": true}                    ).then(function(){\n",
       "                            \n",
       "var gd = document.getElementById('a0f4f5ed-2767-4430-9d14-18a969ec0eea');\n",
       "var x = new MutationObserver(function (mutations, observer) {{\n",
       "        var display = window.getComputedStyle(gd).display;\n",
       "        if (!display || display === 'none') {{\n",
       "            console.log([gd, 'removed!']);\n",
       "            Plotly.purge(gd);\n",
       "            observer.disconnect();\n",
       "        }}\n",
       "}});\n",
       "\n",
       "// Listen for the removal of the full notebook cells\n",
       "var notebookContainer = gd.closest('#notebook-container');\n",
       "if (notebookContainer) {{\n",
       "    x.observe(notebookContainer, {childList: true});\n",
       "}}\n",
       "\n",
       "// Listen for the clearing of the current output cell\n",
       "var outputEl = gd.closest('.output');\n",
       "if (outputEl) {{\n",
       "    x.observe(outputEl, {childList: true});\n",
       "}}\n",
       "\n",
       "                        })                };                });            </script>        </div>"
      ]
     },
     "metadata": {},
     "output_type": "display_data"
    },
    {
     "data": {
      "application/vnd.plotly.v1+json": {
       "config": {
        "plotlyServerURL": "https://plot.ly"
       },
       "data": [
        {
         "alignmentgroup": "True",
         "hovertemplate": "Degradation Emission (TgC)=%{x}<br>Country=%{y}<br>% of Global Total=%{text}<extra></extra>",
         "legendgroup": "",
         "marker": {
          "color": "lightgreen"
         },
         "name": "",
         "offsetgroup": "",
         "orientation": "h",
         "showlegend": false,
         "text": [
          0.02907522274905364,
          0.03068948742397866,
          0.03162549827025814,
          0.03776851455724546,
          0.03923681563249006,
          0.07654262959099224,
          0.0872297511609959,
          0.09774333407506669,
          0.1757988986720548,
          1
         ],
         "textposition": "outside",
         "texttemplate": "%{text:.2p}",
         "type": "bar",
         "x": [
          12.16321849822998,
          12.83852386474609,
          13.2300910949707,
          15.79993724822998,
          16.41418075561523,
          32.02055358886719,
          36.49136352539062,
          40.88957595825195,
          73.54304504394531,
          418.3362102918327
         ],
         "xaxis": "x",
         "y": [
          "Cameroon",
          "Papua New Guinea",
          "Gabon",
          "Colombia",
          "Peru",
          "China",
          "Indonesia",
          "Democratic Republic of the Congo",
          "Brazil",
          "Global Total"
         ],
         "yaxis": "y"
        }
       ],
       "layout": {
        "barmode": "relative",
        "legend": {
         "tracegroupgap": 0
        },
        "template": {
         "data": {
          "scatter": [
           {
            "type": "scatter"
           }
          ]
         }
        },
        "title": {
         "text": "Top Countries: Degradation Emission (TgC) [2019 Data]"
        },
        "xaxis": {
         "anchor": "y",
         "domain": [
          0,
          1
         ],
         "title": {
          "text": "Degradation Emission (TgC)"
         }
        },
        "yaxis": {
         "anchor": "x",
         "domain": [
          0,
          1
         ],
         "title": {
          "text": "Country"
         }
        }
       }
      },
      "text/html": [
       "<div>                            <div id=\"2c98b4a8-c2d5-4501-8766-992a197cde8c\" class=\"plotly-graph-div\" style=\"height:525px; width:100%;\"></div>            <script type=\"text/javascript\">                require([\"plotly\"], function(Plotly) {                    window.PLOTLYENV=window.PLOTLYENV || {};                                    if (document.getElementById(\"2c98b4a8-c2d5-4501-8766-992a197cde8c\")) {                    Plotly.newPlot(                        \"2c98b4a8-c2d5-4501-8766-992a197cde8c\",                        [{\"alignmentgroup\": \"True\", \"hovertemplate\": \"Degradation Emission (TgC)=%{x}<br>Country=%{y}<br>% of Global Total=%{text}<extra></extra>\", \"legendgroup\": \"\", \"marker\": {\"color\": \"lightgreen\"}, \"name\": \"\", \"offsetgroup\": \"\", \"orientation\": \"h\", \"showlegend\": false, \"text\": [0.02907522274905364, 0.03068948742397866, 0.03162549827025814, 0.03776851455724546, 0.03923681563249006, 0.07654262959099224, 0.0872297511609959, 0.09774333407506669, 0.1757988986720548, 1.0], \"textposition\": \"outside\", \"texttemplate\": \"%{text:.2p}\", \"type\": \"bar\", \"x\": [12.16321849822998, 12.83852386474609, 13.2300910949707, 15.79993724822998, 16.41418075561523, 32.02055358886719, 36.49136352539062, 40.88957595825195, 73.54304504394531, 418.3362102918327], \"xaxis\": \"x\", \"y\": [\"Cameroon\", \"Papua New Guinea\", \"Gabon\", \"Colombia\", \"Peru\", \"China\", \"Indonesia\", \"Democratic Republic of the Congo\", \"Brazil\", \"Global Total\"], \"yaxis\": \"y\"}],                        {\"barmode\": \"relative\", \"legend\": {\"tracegroupgap\": 0}, \"template\": {\"data\": {\"scatter\": [{\"type\": \"scatter\"}]}}, \"title\": {\"text\": \"Top Countries: Degradation Emission (TgC) [2019 Data]\"}, \"xaxis\": {\"anchor\": \"y\", \"domain\": [0.0, 1.0], \"title\": {\"text\": \"Degradation Emission (TgC)\"}}, \"yaxis\": {\"anchor\": \"x\", \"domain\": [0.0, 1.0], \"title\": {\"text\": \"Country\"}}},                        {\"responsive\": true}                    ).then(function(){\n",
       "                            \n",
       "var gd = document.getElementById('2c98b4a8-c2d5-4501-8766-992a197cde8c');\n",
       "var x = new MutationObserver(function (mutations, observer) {{\n",
       "        var display = window.getComputedStyle(gd).display;\n",
       "        if (!display || display === 'none') {{\n",
       "            console.log([gd, 'removed!']);\n",
       "            Plotly.purge(gd);\n",
       "            observer.disconnect();\n",
       "        }}\n",
       "}});\n",
       "\n",
       "// Listen for the removal of the full notebook cells\n",
       "var notebookContainer = gd.closest('#notebook-container');\n",
       "if (notebookContainer) {{\n",
       "    x.observe(notebookContainer, {childList: true});\n",
       "}}\n",
       "\n",
       "// Listen for the clearing of the current output cell\n",
       "var outputEl = gd.closest('.output');\n",
       "if (outputEl) {{\n",
       "    x.observe(outputEl, {childList: true});\n",
       "}}\n",
       "\n",
       "                        })                };                });            </script>        </div>"
      ]
     },
     "metadata": {},
     "output_type": "display_data"
    },
    {
     "data": {
      "application/vnd.plotly.v1+json": {
       "config": {
        "plotlyServerURL": "https://plot.ly"
       },
       "data": [
        {
         "alignmentgroup": "True",
         "hovertemplate": "Fire Emission (TgC)=%{x}<br>Country=%{y}<br>% of Global Total=%{text}<extra></extra>",
         "legendgroup": "",
         "marker": {
          "color": "lightgreen"
         },
         "name": "",
         "offsetgroup": "",
         "orientation": "h",
         "showlegend": false,
         "text": [
          0.03893899318804761,
          0.05275140464523465,
          0.0624915873140152,
          0.07403494202478428,
          0.07429345504501773,
          0.07508414045697567,
          0.08790520781278055,
          0.09539197110630662,
          0.11056263680944294,
          1
         ],
         "textposition": "outside",
         "texttemplate": "%{text:.2p}",
         "type": "bar",
         "x": [
          82.88887786865234,
          112.2911605834961,
          133.0249481201172,
          157.5971221923828,
          158.1474151611328,
          159.8305358886719,
          187.12255859375,
          203.0595245361328,
          235.3531036376953,
          2128.6856973511894
         ],
         "xaxis": "x",
         "y": [
          "Tanzania",
          "Brazil",
          "South Sudan",
          "Australia",
          "Mozambique",
          "Zambia",
          "Angola",
          "Central African Republic",
          "Democratic Republic of the Congo",
          "Global Total"
         ],
         "yaxis": "y"
        }
       ],
       "layout": {
        "barmode": "relative",
        "legend": {
         "tracegroupgap": 0
        },
        "template": {
         "data": {
          "scatter": [
           {
            "type": "scatter"
           }
          ]
         }
        },
        "title": {
         "text": "Top Countries: Fire Emission (TgC) [2019 Data]"
        },
        "xaxis": {
         "anchor": "y",
         "domain": [
          0,
          1
         ],
         "title": {
          "text": "Fire Emission (TgC)"
         }
        },
        "yaxis": {
         "anchor": "x",
         "domain": [
          0,
          1
         ],
         "title": {
          "text": "Country"
         }
        }
       }
      },
      "text/html": [
       "<div>                            <div id=\"c37b8ff4-9689-4c40-bbfa-56eb8b0c8de9\" class=\"plotly-graph-div\" style=\"height:525px; width:100%;\"></div>            <script type=\"text/javascript\">                require([\"plotly\"], function(Plotly) {                    window.PLOTLYENV=window.PLOTLYENV || {};                                    if (document.getElementById(\"c37b8ff4-9689-4c40-bbfa-56eb8b0c8de9\")) {                    Plotly.newPlot(                        \"c37b8ff4-9689-4c40-bbfa-56eb8b0c8de9\",                        [{\"alignmentgroup\": \"True\", \"hovertemplate\": \"Fire Emission (TgC)=%{x}<br>Country=%{y}<br>% of Global Total=%{text}<extra></extra>\", \"legendgroup\": \"\", \"marker\": {\"color\": \"lightgreen\"}, \"name\": \"\", \"offsetgroup\": \"\", \"orientation\": \"h\", \"showlegend\": false, \"text\": [0.03893899318804761, 0.05275140464523465, 0.0624915873140152, 0.07403494202478428, 0.07429345504501773, 0.07508414045697567, 0.08790520781278055, 0.09539197110630662, 0.11056263680944294, 1.0], \"textposition\": \"outside\", \"texttemplate\": \"%{text:.2p}\", \"type\": \"bar\", \"x\": [82.88887786865234, 112.2911605834961, 133.0249481201172, 157.5971221923828, 158.1474151611328, 159.8305358886719, 187.12255859375, 203.0595245361328, 235.3531036376953, 2128.6856973511894], \"xaxis\": \"x\", \"y\": [\"Tanzania\", \"Brazil\", \"South Sudan\", \"Australia\", \"Mozambique\", \"Zambia\", \"Angola\", \"Central African Republic\", \"Democratic Republic of the Congo\", \"Global Total\"], \"yaxis\": \"y\"}],                        {\"barmode\": \"relative\", \"legend\": {\"tracegroupgap\": 0}, \"template\": {\"data\": {\"scatter\": [{\"type\": \"scatter\"}]}}, \"title\": {\"text\": \"Top Countries: Fire Emission (TgC) [2019 Data]\"}, \"xaxis\": {\"anchor\": \"y\", \"domain\": [0.0, 1.0], \"title\": {\"text\": \"Fire Emission (TgC)\"}}, \"yaxis\": {\"anchor\": \"x\", \"domain\": [0.0, 1.0], \"title\": {\"text\": \"Country\"}}},                        {\"responsive\": true}                    ).then(function(){\n",
       "                            \n",
       "var gd = document.getElementById('c37b8ff4-9689-4c40-bbfa-56eb8b0c8de9');\n",
       "var x = new MutationObserver(function (mutations, observer) {{\n",
       "        var display = window.getComputedStyle(gd).display;\n",
       "        if (!display || display === 'none') {{\n",
       "            console.log([gd, 'removed!']);\n",
       "            Plotly.purge(gd);\n",
       "            observer.disconnect();\n",
       "        }}\n",
       "}});\n",
       "\n",
       "// Listen for the removal of the full notebook cells\n",
       "var notebookContainer = gd.closest('#notebook-container');\n",
       "if (notebookContainer) {{\n",
       "    x.observe(notebookContainer, {childList: true});\n",
       "}}\n",
       "\n",
       "// Listen for the clearing of the current output cell\n",
       "var outputEl = gd.closest('.output');\n",
       "if (outputEl) {{\n",
       "    x.observe(outputEl, {childList: true});\n",
       "}}\n",
       "\n",
       "                        })                };                });            </script>        </div>"
      ]
     },
     "metadata": {},
     "output_type": "display_data"
    },
    {
     "data": {
      "application/vnd.plotly.v1+json": {
       "config": {
        "plotlyServerURL": "https://plot.ly"
       },
       "data": [
        {
         "alignmentgroup": "True",
         "hovertemplate": "Removal (tons C)=%{x}<br>Country=%{y}<br>% of Global Total=%{text}<extra></extra>",
         "legendgroup": "",
         "marker": {
          "color": "lightgreen"
         },
         "name": "",
         "offsetgroup": "",
         "orientation": "h",
         "showlegend": false,
         "text": [
          -0.008400484904171992,
          -0.010823234568245495,
          -0.01616042428395584,
          -0.025288407326448985,
          -0.025608873985028986,
          -0.03522579100169004,
          -0.04297113196664467,
          -0.04787253294487578,
          -0.08263551090029776,
          -0.16995663372823197
         ],
         "textposition": "outside",
         "texttemplate": "%{text:.2p}",
         "type": "bar",
         "x": [
          29087566.37573242,
          37476593.01757812,
          55957176.20849609,
          87563781.73828125,
          88673431.39648438,
          121973022.4609375,
          148792083.7402344,
          165763702.3925781,
          286134185.7910156,
          588492797.8515625
         ],
         "xaxis": "x",
         "y": [
          "Kazakhstan",
          "Republic of Congo",
          "Japan",
          "Argentina",
          "Thailand",
          "Russia",
          "Bolivia",
          "Malaysia",
          "Canada",
          "Indonesia"
         ],
         "yaxis": "y"
        }
       ],
       "layout": {
        "barmode": "relative",
        "legend": {
         "tracegroupgap": 0
        },
        "template": {
         "data": {
          "scatter": [
           {
            "type": "scatter"
           }
          ]
         }
        },
        "title": {
         "text": "Top Countries: Removal (tons C) [2019 Data]"
        },
        "xaxis": {
         "anchor": "y",
         "domain": [
          0,
          1
         ],
         "title": {
          "text": "Removal (tons C)"
         }
        },
        "yaxis": {
         "anchor": "x",
         "domain": [
          0,
          1
         ],
         "title": {
          "text": "Country"
         }
        }
       }
      },
      "text/html": [
       "<div>                            <div id=\"f629c5c4-7f59-4cfc-8043-f3cc8f7f5494\" class=\"plotly-graph-div\" style=\"height:525px; width:100%;\"></div>            <script type=\"text/javascript\">                require([\"plotly\"], function(Plotly) {                    window.PLOTLYENV=window.PLOTLYENV || {};                                    if (document.getElementById(\"f629c5c4-7f59-4cfc-8043-f3cc8f7f5494\")) {                    Plotly.newPlot(                        \"f629c5c4-7f59-4cfc-8043-f3cc8f7f5494\",                        [{\"alignmentgroup\": \"True\", \"hovertemplate\": \"Removal (tons C)=%{x}<br>Country=%{y}<br>% of Global Total=%{text}<extra></extra>\", \"legendgroup\": \"\", \"marker\": {\"color\": \"lightgreen\"}, \"name\": \"\", \"offsetgroup\": \"\", \"orientation\": \"h\", \"showlegend\": false, \"text\": [-0.008400484904171992, -0.010823234568245495, -0.01616042428395584, -0.025288407326448985, -0.025608873985028986, -0.03522579100169004, -0.04297113196664467, -0.04787253294487578, -0.08263551090029776, -0.16995663372823197], \"textposition\": \"outside\", \"texttemplate\": \"%{text:.2p}\", \"type\": \"bar\", \"x\": [29087566.37573242, 37476593.01757812, 55957176.20849609, 87563781.73828125, 88673431.39648438, 121973022.4609375, 148792083.7402344, 165763702.3925781, 286134185.7910156, 588492797.8515625], \"xaxis\": \"x\", \"y\": [\"Kazakhstan\", \"Republic of Congo\", \"Japan\", \"Argentina\", \"Thailand\", \"Russia\", \"Bolivia\", \"Malaysia\", \"Canada\", \"Indonesia\"], \"yaxis\": \"y\"}],                        {\"barmode\": \"relative\", \"legend\": {\"tracegroupgap\": 0}, \"template\": {\"data\": {\"scatter\": [{\"type\": \"scatter\"}]}}, \"title\": {\"text\": \"Top Countries: Removal (tons C) [2019 Data]\"}, \"xaxis\": {\"anchor\": \"y\", \"domain\": [0.0, 1.0], \"title\": {\"text\": \"Removal (tons C)\"}}, \"yaxis\": {\"anchor\": \"x\", \"domain\": [0.0, 1.0], \"title\": {\"text\": \"Country\"}}},                        {\"responsive\": true}                    ).then(function(){\n",
       "                            \n",
       "var gd = document.getElementById('f629c5c4-7f59-4cfc-8043-f3cc8f7f5494');\n",
       "var x = new MutationObserver(function (mutations, observer) {{\n",
       "        var display = window.getComputedStyle(gd).display;\n",
       "        if (!display || display === 'none') {{\n",
       "            console.log([gd, 'removed!']);\n",
       "            Plotly.purge(gd);\n",
       "            observer.disconnect();\n",
       "        }}\n",
       "}});\n",
       "\n",
       "// Listen for the removal of the full notebook cells\n",
       "var notebookContainer = gd.closest('#notebook-container');\n",
       "if (notebookContainer) {{\n",
       "    x.observe(notebookContainer, {childList: true});\n",
       "}}\n",
       "\n",
       "// Listen for the clearing of the current output cell\n",
       "var outputEl = gd.closest('.output');\n",
       "if (outputEl) {{\n",
       "    x.observe(outputEl, {childList: true});\n",
       "}}\n",
       "\n",
       "                        })                };                });            </script>        </div>"
      ]
     },
     "metadata": {},
     "output_type": "display_data"
    }
   ],
   "source": [
    "# Next let's plot how each of these countries countribute to the total figures for 2019\n",
    "year_df = country_df[country_df.Year == '2019']\n",
    "variable_list = country_df.columns.drop(['Country','Year'])\n",
    "for var in variable_list:\n",
    "    global_total = year_df[var].sum()\n",
    "    t_df = year_df[['Country',var]]\n",
    "    t_df.loc[-1] = ['Global Total',t_df[var].sum()]\n",
    "    t_df['% of Global Total'] = t_df[var] / global_total\n",
    "    t_df = t_df.sort_values(by = var)\n",
    "    color_list = ['lightgreen',] * 9\n",
    "    fig = px.bar(t_df.tail(10),x = var,y='Country',text = '% of Global Total',orientation = 'h',\n",
    "                 title = 'Top Countries: ' + var + ' [2019 Data]',color_discrete_sequence = ['lightgreen'])\n",
    "    fig = fig.update_traces(texttemplate='%{text:.2p}', textposition='outside')\n",
    "    fig"
   ]
  },
  {
   "cell_type": "code",
   "execution_count": null,
   "metadata": {},
   "outputs": [],
   "source": []
  }
 ],
 "metadata": {
  "kernelspec": {
   "display_name": "Python 3",
   "language": "python",
   "name": "python3"
  },
  "language_info": {
   "codemirror_mode": {
    "name": "ipython",
    "version": 3
   },
   "file_extension": ".py",
   "mimetype": "text/x-python",
   "name": "python",
   "nbconvert_exporter": "python",
   "pygments_lexer": "ipython3",
   "version": "3.8.3"
  }
 },
 "nbformat": 4,
 "nbformat_minor": 4
}
